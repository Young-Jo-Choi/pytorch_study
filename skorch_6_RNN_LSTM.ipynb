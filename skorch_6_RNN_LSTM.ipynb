{
 "cells": [
  {
   "cell_type": "code",
   "execution_count": 1,
   "metadata": {},
   "outputs": [],
   "source": [
    "import numpy as np\n",
    "import pandas as pd\n",
    "import os\n",
    "\n",
    "import torch\n",
    "from torch import nn\n",
    "from torch.nn import functional as F\n",
    "from torch.utils.data import DataLoader, Dataset"
   ]
  },
  {
   "attachments": {},
   "cell_type": "markdown",
   "metadata": {},
   "source": [
    "# vanilla RNN\n",
    "## IMDB"
   ]
  },
  {
   "cell_type": "code",
   "execution_count": 6,
   "metadata": {},
   "outputs": [],
   "source": [
    "# imdb dataset from keras\n",
    "from tensorflow.keras.datasets import imdb\n",
    "# x_train, x_test의 max값을 10000으로 제한\n",
    "max_features = 10000\n",
    "(x_train, y_train), (x_test, y_test) = imdb.load_data(num_words=max_features)"
   ]
  },
  {
   "cell_type": "code",
   "execution_count": 7,
   "metadata": {},
   "outputs": [
    {
     "data": {
      "text/plain": [
       "((25000,), (25000,), (25000,), (25000,), 9995)"
      ]
     },
     "execution_count": 7,
     "metadata": {},
     "output_type": "execute_result"
    }
   ],
   "source": [
    "x_train.shape, x_test.shape, y_train.shape, y_test.shape, max(x_train.max())"
   ]
  },
  {
   "cell_type": "code",
   "execution_count": 8,
   "metadata": {},
   "outputs": [],
   "source": [
    "# 각 문서의 길이가 max_len보다 길면 자르고, 짧으면 0으로 padding\n",
    "def pad_sequence(x, max_len):\n",
    "    x = np.asarray(x)\n",
    "    if len(x) < max_len:\n",
    "        x = np.concatenate([np.zeros(max_len - len(x)), x])\n",
    "    return x[len(x) - max_len:]\n",
    "\n",
    "x_train_200 = np.array(list(map(lambda x:pad_sequence(x,200),x_train)))\n",
    "x_test_200 = np.array(list(map(lambda x:pad_sequence(x,200),x_test)))\n"
   ]
  },
  {
   "cell_type": "code",
   "execution_count": 9,
   "metadata": {},
   "outputs": [
    {
     "data": {
      "text/plain": [
       "((25000, 200), (25000, 200), array([0, 1]), array([0, 1]))"
      ]
     },
     "execution_count": 9,
     "metadata": {},
     "output_type": "execute_result"
    }
   ],
   "source": [
    "x_train_200.shape, x_test_200.shape, np.unique(y_train), np.unique(y_test)"
   ]
  },
  {
   "cell_type": "code",
   "execution_count": 10,
   "metadata": {},
   "outputs": [],
   "source": [
    "class simpleRNN(nn.Module):\n",
    "    def __init__(self, vocab_size, embedding_size, hidden_size1, hidden_size2, output_size):\n",
    "        super(simpleRNN, self).__init__()\n",
    "        self.embedding = nn.Embedding(vocab_size, embedding_size)\n",
    "        self.rnn = nn.RNN(embedding_size, hidden_size1, batch_first=True)\n",
    "        self.fc1 = nn.Linear(hidden_size1, hidden_size2)\n",
    "        self.fc2 = nn.Linear(hidden_size2, output_size)\n",
    "        self.tanh = nn.Tanh()\n",
    "        \n",
    "    def forward(self, x):\n",
    "        x = self.embedding(x)\n",
    "        # x : (batch_size, seq_len, embedding_size)\n",
    "        # x[:,-1,:] == h0[0,:,:]\n",
    "        x, h0 = self.rnn(x)\n",
    "        # sequence true mean, concat 등으로 바꿔 수행할 수 있음\n",
    "        x = self.fc1(x[:, -1, :])\n",
    "        x = self.tanh(x)\n",
    "        x = self.fc2(x)\n",
    "        return x"
   ]
  },
  {
   "cell_type": "code",
   "execution_count": 11,
   "metadata": {},
   "outputs": [
    {
     "name": "stdout",
     "output_type": "stream",
     "text": [
      "embedding shape :  torch.Size([4, 200, 64])\n",
      "results shape :  torch.Size([4, 200, 32]) torch.Size([1, 4, 32])\n",
      "True\n"
     ]
    }
   ],
   "source": [
    "embedding = nn.Embedding(10000,64)(torch.Tensor(x_train_200).type(torch.long)[0:4])\n",
    "print('embedding shape : ',embedding.shape)\n",
    "rnn_reesult1,rnn_reesult2  = nn.RNN(64,32, batch_first=True)(embedding)\n",
    "print('results shape : ',rnn_reesult1.shape, rnn_reesult2.shape)\n",
    "print(rnn_reesult1[:,-1,:].equal(rnn_reesult2[0,:,:]))"
   ]
  },
  {
   "attachments": {},
   "cell_type": "markdown",
   "metadata": {},
   "source": [
    "### 순수 pytorch"
   ]
  },
  {
   "cell_type": "code",
   "execution_count": 12,
   "metadata": {},
   "outputs": [],
   "source": [
    "from sklearn.model_selection import train_test_split\n",
    "\n",
    "x_train_200, x_valid_200, y_train, y_valid = train_test_split(x_train_200, y_train, test_size=0.1, random_state=42)\n",
    "\n",
    "batch_size = 128\n",
    "train_dataset = torch.utils.data.TensorDataset(torch.Tensor(x_train_200).type(torch.long), torch.Tensor(y_train).type(torch.long))\n",
    "val_dataset = torch.utils.data.TensorDataset(torch.Tensor(x_valid_200).type(torch.long), torch.Tensor(y_valid).type(torch.long))\n",
    "test_dataset = torch.utils.data.TensorDataset(torch.Tensor(x_test_200).type(torch.long), torch.Tensor(y_test).type(torch.long))\n",
    "train_loader = torch.utils.data.DataLoader(train_dataset, batch_size=batch_size, shuffle=True)\n",
    "val_loader = torch.utils.data.DataLoader(val_dataset, batch_size=batch_size, shuffle=False)\n",
    "test_loader = torch.utils.data.DataLoader(test_dataset, batch_size=batch_size, shuffle=False)"
   ]
  },
  {
   "cell_type": "code",
   "execution_count": 13,
   "metadata": {},
   "outputs": [],
   "source": [
    "device = torch.device('cuda:0' if torch.cuda.is_available() else 'cpu')\n",
    "rnn = simpleRNN(10000, 64, 32, 16, 2)\n",
    "rnn.to(device)\n",
    "\n",
    "optimizer = torch.optim.RMSprop(rnn.parameters(), lr=0.0005)\n",
    "criterion = nn.CrossEntropyLoss().to(device)"
   ]
  },
  {
   "cell_type": "code",
   "execution_count": 20,
   "metadata": {},
   "outputs": [],
   "source": [
    "rnn = simpleRNN(10000, 64, 32, 16, 2)\n",
    "rnn.to(device)\n",
    "\n",
    "optimizer = torch.optim.RMSprop(rnn.parameters(), lr=0.0005)\n",
    "criterion = nn.CrossEntropyLoss().to(device)"
   ]
  },
  {
   "cell_type": "code",
   "execution_count": 21,
   "metadata": {},
   "outputs": [
    {
     "name": "stdout",
     "output_type": "stream",
     "text": [
      "Epoch 1/20, Train Loss: 0.6830, Train Acc: 0.5524,Val Loss: 0.6680, Val Acc: 0.5876\n",
      "Epoch 2/20, Train Loss: 0.6347, Train Acc: 0.6319,Val Loss: 0.6185, Val Acc: 0.6524\n",
      "Epoch 3/20, Train Loss: 0.5882, Train Acc: 0.6878,Val Loss: 0.5995, Val Acc: 0.6812\n",
      "Epoch 4/20, Train Loss: 0.5436, Train Acc: 0.7277,Val Loss: 0.5696, Val Acc: 0.7056\n",
      "Epoch 5/20, Train Loss: 0.5071, Train Acc: 0.7570,Val Loss: 0.5448, Val Acc: 0.7292\n",
      "Epoch 6/20, Train Loss: 0.4848, Train Acc: 0.7726,Val Loss: 0.5280, Val Acc: 0.7472\n",
      "Epoch 7/20, Train Loss: 0.4625, Train Acc: 0.7908,Val Loss: 0.5358, Val Acc: 0.7384\n",
      "Epoch 8/20, Train Loss: 0.4355, Train Acc: 0.8060,Val Loss: 0.5100, Val Acc: 0.7616\n",
      "Epoch 9/20, Train Loss: 0.4142, Train Acc: 0.8216,Val Loss: 0.4935, Val Acc: 0.7752\n",
      "Epoch 10/20, Train Loss: 0.3937, Train Acc: 0.8315,Val Loss: 0.4931, Val Acc: 0.7740\n",
      "Epoch 11/20, Train Loss: 0.3712, Train Acc: 0.8435,Val Loss: 0.4754, Val Acc: 0.7932\n",
      "Epoch 12/20, Train Loss: 0.3543, Train Acc: 0.8541,Val Loss: 0.4809, Val Acc: 0.7932\n",
      "Epoch 13/20, Train Loss: 0.3417, Train Acc: 0.8609,Val Loss: 0.4806, Val Acc: 0.7904\n",
      "Epoch 14/20, Train Loss: 0.3265, Train Acc: 0.8686,Val Loss: 0.4690, Val Acc: 0.8052\n",
      "Epoch 15/20, Train Loss: 0.3129, Train Acc: 0.8744,Val Loss: 0.4644, Val Acc: 0.8016\n",
      "Epoch 16/20, Train Loss: 0.2911, Train Acc: 0.8862,Val Loss: 0.4951, Val Acc: 0.7912\n",
      "Epoch 17/20, Train Loss: 0.2993, Train Acc: 0.8838,Val Loss: 0.4572, Val Acc: 0.8124\n",
      "Epoch 18/20, Train Loss: 0.2741, Train Acc: 0.8950,Val Loss: 0.5687, Val Acc: 0.7776\n",
      "Epoch 19/20, Train Loss: 0.2622, Train Acc: 0.9008,Val Loss: 0.4783, Val Acc: 0.8092\n",
      "Epoch 20/20, Train Loss: 0.2544, Train Acc: 0.9041,Val Loss: 0.4897, Val Acc: 0.8160\n"
     ]
    }
   ],
   "source": [
    "epochs = 20\n",
    "for epoch in range(epochs):\n",
    "    train_loss = 0\n",
    "    train_correct = 0\n",
    "    rnn.train()\n",
    "    for inputs, targets in train_loader:\n",
    "        inputs = inputs.to(device)\n",
    "        targets = targets.to(device)\n",
    "        outputs = rnn(inputs)\n",
    "        loss = criterion(outputs, targets)\n",
    "        optimizer.zero_grad()\n",
    "        loss.backward()\n",
    "        optimizer.step()\n",
    "        train_loss +=  loss.item() * inputs.size(0)\n",
    "        train_correct += (outputs.argmax(1) == targets).sum().item()\n",
    "    train_correct /= len(train_dataset)\n",
    "    train_loss /= len(train_dataset)\n",
    "\n",
    "    val_loss = 0\n",
    "    val_correct = 0\n",
    "    rnn.eval()\n",
    "    with torch.no_grad():\n",
    "        for inputs, targets in val_loader:\n",
    "            inputs = inputs.to(device)\n",
    "            targets = targets.to(device)\n",
    "            outputs = rnn(inputs)\n",
    "            loss = criterion(outputs, targets)\n",
    "            val_loss += loss.item() * inputs.size(0)\n",
    "            val_correct += (outputs.argmax(1) == targets).sum().item()\n",
    "    val_correct /= len(val_dataset)\n",
    "    val_loss /= len(val_dataset)\n",
    "\n",
    "    print(f'''Epoch {epoch+1}/{epochs}, Train Loss: {train_loss:.4f}, Train Acc: {train_correct:.4f},Val Loss: {val_loss:.4f}, Val Acc: {val_correct:.4f}''')"
   ]
  },
  {
   "cell_type": "code",
   "execution_count": 18,
   "metadata": {},
   "outputs": [
    {
     "name": "stdout",
     "output_type": "stream",
     "text": [
      "test acc :  0.81876\n"
     ]
    }
   ],
   "source": [
    "rnn.eval()\n",
    "test_correct = 0\n",
    "with torch.no_grad():\n",
    "    for inputs, targets in test_loader:\n",
    "        inputs = inputs.to(device)\n",
    "        targets = targets.to(device)\n",
    "        outputs = rnn(inputs)\n",
    "        loss = criterion(outputs, targets)\n",
    "        test_correct += (outputs.argmax(1) == targets).sum().item()\n",
    "print('test acc : ', test_correct/len(test_dataset))"
   ]
  },
  {
   "attachments": {},
   "cell_type": "markdown",
   "metadata": {},
   "source": [
    "### skorch"
   ]
  },
  {
   "cell_type": "code",
   "execution_count": 25,
   "metadata": {},
   "outputs": [],
   "source": [
    "from skorch import NeuralNetClassifier\n",
    "from skorch.dataset import ValidSplit\n",
    "device = torch.device('cuda:0' if torch.cuda.is_available() else 'cpu')\n",
    "net = NeuralNetClassifier(\n",
    "                        simpleRNN(10000, 64, 32, 16, 2),\n",
    "                        max_epochs=20,\n",
    "                        lr = 0.0005,\n",
    "                        batch_size = 128,\n",
    "                        optimizer = torch.optim.RMSprop,\n",
    "                        criterion = nn.CrossEntropyLoss,\n",
    "                        device = device,\n",
    "                        train_split = ValidSplit(10)\n",
    "                        )"
   ]
  },
  {
   "cell_type": "code",
   "execution_count": 26,
   "metadata": {},
   "outputs": [
    {
     "name": "stdout",
     "output_type": "stream",
     "text": [
      "  epoch    train_loss    valid_acc    valid_loss     dur\n",
      "-------  ------------  -----------  ------------  ------\n",
      "      1        \u001b[36m0.6829\u001b[0m       \u001b[32m0.5796\u001b[0m        \u001b[35m0.6679\u001b[0m  1.7006\n",
      "      2        \u001b[36m0.6439\u001b[0m       \u001b[32m0.6476\u001b[0m        \u001b[35m0.6234\u001b[0m  1.7312\n",
      "      3        \u001b[36m0.5891\u001b[0m       \u001b[32m0.6896\u001b[0m        \u001b[35m0.5846\u001b[0m  1.7262\n",
      "      4        \u001b[36m0.5405\u001b[0m       0.6384        0.6886  1.6567\n",
      "      5        \u001b[36m0.5029\u001b[0m       \u001b[32m0.7368\u001b[0m        \u001b[35m0.5334\u001b[0m  1.6735\n",
      "      6        \u001b[36m0.4719\u001b[0m       \u001b[32m0.7456\u001b[0m        \u001b[35m0.5249\u001b[0m  1.7192\n",
      "      7        \u001b[36m0.4439\u001b[0m       0.6800        0.6408  1.6958\n",
      "      8        \u001b[36m0.4263\u001b[0m       \u001b[32m0.7796\u001b[0m        \u001b[35m0.4853\u001b[0m  1.7166\n",
      "      9        \u001b[36m0.4023\u001b[0m       0.7752        0.4862  1.7090\n",
      "     10        \u001b[36m0.3795\u001b[0m       0.7784        0.5001  1.7131\n",
      "     11        \u001b[36m0.3644\u001b[0m       \u001b[32m0.7800\u001b[0m        0.5039  1.6835\n",
      "     12        \u001b[36m0.3450\u001b[0m       0.7792        0.5183  1.6883\n",
      "     13        0.3533       \u001b[32m0.7868\u001b[0m        0.5009  1.6914\n",
      "     14        \u001b[36m0.3289\u001b[0m       \u001b[32m0.7884\u001b[0m        0.5104  1.7111\n",
      "     15        \u001b[36m0.3044\u001b[0m       \u001b[32m0.8028\u001b[0m        \u001b[35m0.4838\u001b[0m  1.6984\n",
      "     16        0.3519       \u001b[32m0.8092\u001b[0m        \u001b[35m0.4615\u001b[0m  1.7059\n",
      "     17        \u001b[36m0.2923\u001b[0m       \u001b[32m0.8144\u001b[0m        0.4695  1.6860\n",
      "     18        \u001b[36m0.2900\u001b[0m       \u001b[32m0.8228\u001b[0m        \u001b[35m0.4537\u001b[0m  1.6832\n",
      "     19        0.2972       0.8224        \u001b[35m0.4529\u001b[0m  1.6658\n",
      "     20        \u001b[36m0.2584\u001b[0m       \u001b[32m0.8236\u001b[0m        0.4619  1.6850\n",
      "completed\n"
     ]
    }
   ],
   "source": [
    "X_train_200 = np.r_[x_train_200, x_valid_200]\n",
    "Y_train = np.r_[y_train, y_valid]\n",
    "\n",
    "net.fit(torch.Tensor(X_train_200).type(torch.long),\n",
    "        torch.Tensor(Y_train).type(torch.long))\n",
    "print('completed')"
   ]
  },
  {
   "cell_type": "code",
   "execution_count": 27,
   "metadata": {},
   "outputs": [
    {
     "name": "stderr",
     "output_type": "stream",
     "text": [
      "\n",
      "Bad key \"text.kerning_factor\" on line 4 in\n",
      "/home/choiyj/.conda/envs/choi/lib/python3.8/site-packages/matplotlib/mpl-data/stylelib/_classic_test_patch.mplstyle.\n",
      "You probably need to get an updated matplotlibrc file from\n",
      "https://github.com/matplotlib/matplotlib/blob/v3.1.3/matplotlibrc.template\n",
      "or from the matplotlib source distribution\n"
     ]
    },
    {
     "data": {
      "text/plain": [
       "<matplotlib.axes._subplots.AxesSubplot at 0x7f5741f7cc10>"
      ]
     },
     "execution_count": 27,
     "metadata": {},
     "output_type": "execute_result"
    },
    {
     "data": {
      "image/png": "[encoded data removed]",
      "text/plain": [
       "<Figure size 640x480 with 1 Axes>"
      ]
     },
     "metadata": {},
     "output_type": "display_data"
    }
   ],
   "source": [
    "losses = {'train_loss' : [net.history[i]['train_loss'] for i in range(len(net.history))],\n",
    " 'valid_loss' : [net.history[i]['valid_loss'] for i in range(len(net.history))] }\n",
    "pd.DataFrame(losses).plot()"
   ]
  },
  {
   "cell_type": "code",
   "execution_count": 28,
   "metadata": {},
   "outputs": [
    {
     "data": {
      "text/plain": [
       "0.81312"
      ]
     },
     "execution_count": 28,
     "metadata": {},
     "output_type": "execute_result"
    }
   ],
   "source": [
    "from sklearn.metrics import accuracy_score\n",
    "y_pred = net.predict(torch.Tensor(x_test_200).type(torch.long))\n",
    "accuracy_score(y_test, y_pred)"
   ]
  },
  {
   "attachments": {},
   "cell_type": "markdown",
   "metadata": {},
   "source": [
    "# LSTM\n",
    "## korean movie reviews_2016"
   ]
  },
  {
   "cell_type": "code",
   "execution_count": 3,
   "metadata": {},
   "outputs": [],
   "source": [
    "with open('./Korean_movie_reviews_2016.txt', encoding='utf-8') as f:\n",
    "    docs = [doc.strip().split('\\t') for doc in f]\n",
    "    docs = [(doc[0], int(doc[1])) for doc in docs if len(doc) == 2]\n",
    "    # To read the second and third column info from each row\n",
    "    texts, labels = zip(*docs)\n",
    "    # 둘을 분리해서 별도의 list 변수로 저장"
   ]
  },
  {
   "cell_type": "code",
   "execution_count": 4,
   "metadata": {},
   "outputs": [
    {
     "name": "stdout",
     "output_type": "stream",
     "text": [
      "[['부산', '행', '때문', '너무', '기대하고', '봤'], ['한국', '좀비', '영화', '어색하지', '않게', '만들어졌', '놀랍']]\n"
     ]
    }
   ],
   "source": [
    "words_list = [doc.strip().split() for doc in texts]\n",
    "print(words_list[:2])"
   ]
  },
  {
   "cell_type": "code",
   "execution_count": 5,
   "metadata": {},
   "outputs": [],
   "source": [
    "# 빈도를 기준으로 상위 10000개의 단어들만 선택\n",
    "total_words = np.concatenate(words_list)\n",
    "unique_words, counts = np.unique(total_words, return_counts=True)\n",
    "top_idx = counts.argsort()[::-1][:10000]\n",
    "top_words = unique_words[top_idx]"
   ]
  },
  {
   "cell_type": "code",
   "execution_count": 6,
   "metadata": {},
   "outputs": [],
   "source": [
    "# 인덱스 부여\n",
    "top_words_dict = dict(zip(top_words, range(1, len(top_words)+1)))"
   ]
  },
  {
   "cell_type": "code",
   "execution_count": 7,
   "metadata": {},
   "outputs": [],
   "source": [
    "def mapping_func(x):\n",
    "    if x in top_words_dict:\n",
    "        return top_words_dict[x]\n",
    "    else: \n",
    "        pass\n",
    "def mapping_func2list(x):\n",
    "    return list(filter(None,map(mapping_func ,x)))\n",
    "    \n",
    "filtered_indexed_words = list(map(mapping_func2list, words_list))"
   ]
  },
  {
   "cell_type": "code",
   "execution_count": 8,
   "metadata": {},
   "outputs": [],
   "source": [
    "# 각 문서의 길이가 max_len보다 길면 자르고, 짧으면 0으로 padding\n",
    "def pad_sequence(x, max_len):\n",
    "    x = np.asarray(x)\n",
    "    if len(x) < max_len:\n",
    "        x = np.concatenate([np.zeros(max_len - len(x)), x])\n",
    "    return x[len(x) - max_len:]\n",
    "\n",
    "X = np.array(list(map(lambda x:pad_sequence(x,200),filtered_indexed_words)))\n"
   ]
  },
  {
   "cell_type": "code",
   "execution_count": 9,
   "metadata": {},
   "outputs": [],
   "source": [
    "from sklearn.model_selection import train_test_split\n",
    "X_train, X_test, y_train, y_test = train_test_split(X, labels, test_size=0.2, random_state=42)"
   ]
  },
  {
   "cell_type": "code",
   "execution_count": 24,
   "metadata": {},
   "outputs": [],
   "source": [
    "class LSTM(nn.Module):\n",
    "    def __init__(self, vocab_size, embedding_dim, hidden_dim, output_dim):\n",
    "        super().__init__()\n",
    "        self.embedding = nn.Embedding(vocab_size, embedding_dim)\n",
    "        self.lstm = nn.LSTM(embedding_dim, hidden_dim, batch_first=True)\n",
    "        self.fc = nn.Linear(hidden_dim, output_dim)\n",
    "    def forward(self, x):\n",
    "        x = self.embedding(x)\n",
    "        x, _ = self.lstm(x)\n",
    "        x = self.fc(x[:,-1,:])\n",
    "        return x"
   ]
  },
  {
   "cell_type": "code",
   "execution_count": 27,
   "metadata": {},
   "outputs": [],
   "source": [
    "from skorch import NeuralNetClassifier\n",
    "from skorch.dataset import ValidSplit\n",
    "device = torch.device('cuda:0' if torch.cuda.is_available() else 'cpu')\n",
    "net = NeuralNetClassifier(\n",
    "                        LSTM(10000+1, 32, 32, 2),\n",
    "                        max_epochs=5,\n",
    "                        lr = 0.001,\n",
    "                        batch_size = 128,\n",
    "                        optimizer = torch.optim.RMSprop,\n",
    "                        criterion = nn.CrossEntropyLoss,\n",
    "                        device = device,\n",
    "                        train_split = None\n",
    "                        )"
   ]
  },
  {
   "cell_type": "code",
   "execution_count": 28,
   "metadata": {},
   "outputs": [
    {
     "name": "stdout",
     "output_type": "stream",
     "text": [
      "  epoch    train_loss     dur\n",
      "-------  ------------  ------\n",
      "      1        \u001b[36m0.4116\u001b[0m  8.9085\n",
      "      2        \u001b[36m0.2944\u001b[0m  8.9910\n",
      "      3        \u001b[36m0.2573\u001b[0m  8.2667\n",
      "      4        \u001b[36m0.2355\u001b[0m  8.9155\n",
      "      5        \u001b[36m0.2199\u001b[0m  8.9203\n",
      "completed\n"
     ]
    }
   ],
   "source": [
    "net.fit(torch.Tensor(X_train).type(torch.long),\n",
    "        torch.Tensor(y_train).type(torch.long))\n",
    "print('completed')"
   ]
  },
  {
   "cell_type": "code",
   "execution_count": 29,
   "metadata": {},
   "outputs": [
    {
     "data": {
      "text/plain": [
       "0.89488163981014"
      ]
     },
     "execution_count": 29,
     "metadata": {},
     "output_type": "execute_result"
    }
   ],
   "source": [
    "from sklearn.metrics import accuracy_score\n",
    "y_pred = net.predict(torch.Tensor(X_test).type(torch.long))\n",
    "accuracy_score(y_test, y_pred)"
   ]
  },
  {
   "cell_type": "code",
   "execution_count": 62,
   "metadata": {},
   "outputs": [
    {
     "data": {
      "text/plain": [
       "array(['예진', '필모', '역대', '인생', '연기'], dtype=object)"
      ]
     },
     "execution_count": 62,
     "metadata": {},
     "output_type": "execute_result"
    }
   ],
   "source": [
    "# reverse\n",
    "top_words_dict_reverse = dict(zip(top_words_dict.values(), top_words_dict.keys()))\n",
    "top_words_dict_reverse[0] = None\n",
    "reverse = np.vectorize(lambda x: top_words_dict_reverse[x])\n",
    "reversed = reverse(X_test[0])\n",
    "reversed[reversed!=None]"
   ]
  }
 ],
 "metadata": {
  "kernelspec": {
   "display_name": "Python 3.8.13 ('choi': conda)",
   "language": "python",
   "name": "python3"
  },
  "language_info": {
   "codemirror_mode": {
    "name": "ipython",
    "version": 3
   },
   "file_extension": ".py",
   "mimetype": "text/x-python",
   "name": "python",
   "nbconvert_exporter": "python",
   "pygments_lexer": "ipython3",
   "version": "3.8.13"
  },
  "orig_nbformat": 4,
  "vscode": {
   "interpreter": {
    "hash": "1f1ea343d18a0e98dbd50f4a3341f5f39bd7be7d912eea72d8401c1237c2e901"
   }
  }
 },
 "nbformat": 4,
 "nbformat_minor": 2
}
