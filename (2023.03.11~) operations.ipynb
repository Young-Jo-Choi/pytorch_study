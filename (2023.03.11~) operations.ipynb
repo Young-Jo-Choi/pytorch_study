{
 "cells": [
  {
   "cell_type": "code",
   "execution_count": 2,
   "metadata": {},
   "outputs": [],
   "source": [
    "import torch"
   ]
  },
  {
   "cell_type": "markdown",
   "metadata": {},
   "source": [
    "# einsum\n",
    "torch.einsum(equation, *operands)<br>\n",
    "공식홈페이지 : Sums the product of the elements of the input operands along dimensions specified using a notation based on the Einstein summation convention.\n",
    "\n",
    "numpy, tensorflow에도 동일한 연산이 있음\n",
    "\n",
    "equation은 inputs->output이며 각 tensor의 shape을 나타냄, inputs는 \",\"를 통해 여러 개를 구분함"
   ]
  },
  {
   "cell_type": "code",
   "execution_count": 22,
   "metadata": {},
   "outputs": [],
   "source": [
    "def check(equation,  *matrix, input_print=True):\n",
    "    if input_print:\n",
    "        print('Before operating')\n",
    "        for mat in matrix:\n",
    "            print(mat)\n",
    "    einsum = torch.einsum(equation, *matrix)\n",
    "    print('After operating')\n",
    "    print(einsum)"
   ]
  },
  {
   "cell_type": "code",
   "execution_count": 23,
   "metadata": {},
   "outputs": [
    {
     "name": "stdout",
     "output_type": "stream",
     "text": [
      "Before operating\n",
      "tensor([[ 5, 13,  5],\n",
      "        [ 6, 14, 15]], dtype=torch.int32)\n",
      "After operating\n",
      "tensor(58)\n",
      "After operating\n",
      "tensor([23, 35])\n",
      "After operating\n",
      "tensor([11, 27, 20])\n"
     ]
    }
   ],
   "source": [
    "# 1개의 tensor에 대한 sum\n",
    "test = (torch.rand(2,3)*20).int()\n",
    "check('ij->', test)\n",
    "# 행의 개수를 유지한채 반환되도록 행별로 더함\n",
    "check('ij->i', test, input_print=False)\n",
    "# 열의 개수를 유지한채 반환되로독 열별로 더함\n",
    "check('ij->j', test, input_print=False)"
   ]
  },
  {
   "cell_type": "code",
   "execution_count": 34,
   "metadata": {},
   "outputs": [
    {
     "name": "stdout",
     "output_type": "stream",
     "text": [
      "Before operating\n",
      "tensor([[0., 1., 2.],\n",
      "        [3., 4., 5.]])\n",
      "tensor([0., 1., 2.])\n",
      "After operating\n",
      "tensor([[ 0.,  1.,  4.],\n",
      "        [ 0.,  4., 10.]])\n",
      "After operating\n",
      "tensor([ 5., 14.])\n",
      "Before operating\n",
      "tensor([[0., 1., 2.],\n",
      "        [3., 4., 5.]])\n",
      "tensor([[0., 3.],\n",
      "        [1., 4.],\n",
      "        [2., 5.]])\n",
      "After operating\n",
      "tensor([[ 5., 14.],\n",
      "        [14., 50.]])\n"
     ]
    }
   ],
   "source": [
    "# 여러개의 tensor에 대한 \n",
    "test1 = torch.Tensor([[0,1,2],[3,4,5]])\n",
    "test2 = torch.Tensor([0,1,2])\n",
    "check('ij, j->ij', test1, test2, input_print=True)\n",
    "check('ij, j->i', test1, test2, input_print=False)\n",
    "check('ik,kj->ij', test1, test1.T, input_print=True)"
   ]
  }
 ],
 "metadata": {
  "kernelspec": {
   "display_name": "Python 3.8.13 ('choi_torch': conda)",
   "language": "python",
   "name": "python3"
  },
  "language_info": {
   "codemirror_mode": {
    "name": "ipython",
    "version": 3
   },
   "file_extension": ".py",
   "mimetype": "text/x-python",
   "name": "python",
   "nbconvert_exporter": "python",
   "pygments_lexer": "ipython3",
   "version": "3.8.13"
  },
  "orig_nbformat": 4,
  "vscode": {
   "interpreter": {
    "hash": "25532f8c11ced9521f0a8f8b016926f91b16d0cc9b0f549b50762a497f4b71fb"
   }
  }
 },
 "nbformat": 4,
 "nbformat_minor": 2
}
