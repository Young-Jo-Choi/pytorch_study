{
 "cells": [
  {
   "cell_type": "code",
   "execution_count": 2,
   "metadata": {},
   "outputs": [],
   "source": [
    "import torch"
   ]
  },
  {
   "cell_type": "markdown",
   "metadata": {},
   "source": [
    "# einsum\n",
    "torch.einsum(equation, *operands)<br>\n",
    "공식홈페이지 : Sums the product of the elements of the input operands along dimensions specified using a notation based on the Einstein summation convention.\n",
    "\n",
    "numpy, tensorflow에도 동일한 연산이 있음"
   ]
  },
  {
   "cell_type": "code",
   "execution_count": 14,
   "metadata": {},
   "outputs": [],
   "source": [
    "def check(equation, *matrix):\n",
    "    print('Before operating')\n",
    "    for mat in matrix:\n",
    "        print(mat)\n",
    "    einsum = torch.einsum(equation, *matrix)\n",
    "    print('After operating')\n",
    "    print(einsum)"
   ]
  },
  {
   "cell_type": "code",
   "execution_count": 6,
   "metadata": {},
   "outputs": [
    {
     "name": "stdout",
     "output_type": "stream",
     "text": [
      "tensor([[0.2648, 0.0273, 0.6172],\n",
      "        [0.8527, 0.5430, 0.2363]])\n",
      "tensor(2.5414)\n"
     ]
    }
   ],
   "source": [
    "# 1개의 tensor에 대한 sum\n",
    "test = torch.rand(2,3)\n",
    "check()"
   ]
  }
 ],
 "metadata": {
  "kernelspec": {
   "display_name": "Python 3.8.13 ('choi_torch': conda)",
   "language": "python",
   "name": "python3"
  },
  "language_info": {
   "codemirror_mode": {
    "name": "ipython",
    "version": 3
   },
   "file_extension": ".py",
   "mimetype": "text/x-python",
   "name": "python",
   "nbconvert_exporter": "python",
   "pygments_lexer": "ipython3",
   "version": "3.8.13"
  },
  "orig_nbformat": 4,
  "vscode": {
   "interpreter": {
    "hash": "25532f8c11ced9521f0a8f8b016926f91b16d0cc9b0f549b50762a497f4b71fb"
   }
  }
 },
 "nbformat": 4,
 "nbformat_minor": 2
}
