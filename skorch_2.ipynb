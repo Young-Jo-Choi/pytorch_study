{
 "cells": [
  {
   "cell_type": "markdown",
   "metadata": {},
   "source": [
    "# Day2\n",
    "- batch normalization\n",
    "- drop out\n",
    "- regularization\n",
    "- early stopping"
   ]
  },
  {
   "cell_type": "code",
   "execution_count": 1,
   "metadata": {},
   "outputs": [],
   "source": [
    "import numpy as np\n",
    "import pandas as pd\n",
    "\n",
    "import torch\n",
    "import torch.nn as nn\n",
    "import torch.nn.functional as F\n",
    "import torch.optim as optim\n",
    "from torch.utils.data import TensorDataset, DataLoader\n"
   ]
  },
  {
   "cell_type": "code",
   "execution_count": 2,
   "metadata": {},
   "outputs": [],
   "source": [
    "## 다음과 같이 받을 수도 있지만 그냥 sklearn을 통해 가져오겠음\n",
    "# from torchvision import datasets\n",
    "# from torchvision import transforms\n",
    "# mnist_train = datasets.MNIST(root='MNIST_data/',\n",
    "#                           train=True,\n",
    "#                           transform=transforms.ToTensor(),\n",
    "#                           download=True)\n",
    "from sklearn.datasets import fetch_openml\n",
    "mnist = fetch_openml('mnist_784',as_frame=False, cache=False)"
   ]
  },
  {
   "cell_type": "code",
   "execution_count": 3,
   "metadata": {},
   "outputs": [
    {
     "name": "stderr",
     "output_type": "stream",
     "text": [
      "\n",
      "Bad key \"text.kerning_factor\" on line 4 in\n",
      "/home/choiyj/.conda/envs/choi/lib/python3.8/site-packages/matplotlib/mpl-data/stylelib/_classic_test_patch.mplstyle.\n",
      "You probably need to get an updated matplotlibrc file from\n",
      "https://github.com/matplotlib/matplotlib/blob/v3.1.3/matplotlibrc.template\n",
      "or from the matplotlib source distribution\n"
     ]
    },
    {
     "data": {
      "text/plain": [
       "Text(0.5, 1.0, 'label: 5')"
      ]
     },
     "execution_count": 3,
     "metadata": {},
     "output_type": "execute_result"
    },
    {
     "data": {
      "image/png": "[encoded data removed]",
      "text/plain": [
       "<Figure size 640x480 with 1 Axes>"
      ]
     },
     "metadata": {},
     "output_type": "display_data"
    }
   ],
   "source": [
    "from matplotlib import pyplot as plt\n",
    "\n",
    "i=0\n",
    "plt.imshow(mnist.data[i,:].reshape(28,28))\n",
    "plt.axis('off')\n",
    "plt.title('label: {}'.format(mnist.target[i]))"
   ]
  },
  {
   "cell_type": "code",
   "execution_count": 4,
   "metadata": {},
   "outputs": [],
   "source": [
    "X = mnist.data.astype('float32')\n",
    "y = mnist.target.astype('int64')\n",
    "X /= 255.0"
   ]
  },
  {
   "cell_type": "code",
   "execution_count": 5,
   "metadata": {},
   "outputs": [],
   "source": [
    "# torch에서의 regularization은 생략\n",
    "# optimizer에 weight decay를 넣어서 비슷한 효과를 낼 수는 있는데 layer마다 다르게 하는 방법은 모르겠습니다.\n",
    "\n",
    "# Dropout, BatchNormalization, LazyNormalization\n",
    "class BatchNorm_net(nn.Module):\n",
    "    def __init__(self, input_shape, output_shape):\n",
    "        super().__init__()\n",
    "        self.fc1 = nn.Linear(input_shape, 512)\n",
    "        self.fc2 = nn.Linear(512, 64)\n",
    "        self.fc3 = nn.Linear(64, output_shape)\n",
    "\n",
    "        self.relu = nn.ReLU()\n",
    "        self.dropout_1 = nn.Dropout(0.5)\n",
    "        self.dropout_2 = nn.Dropout(0.3)\n",
    "        self.batchnorm_1 = nn.BatchNorm1d(512)\n",
    "        self.batchnorm_2 = nn.LazyBatchNorm1d(64)\n",
    "    def forward(self,x):\n",
    "        x = self.fc1(x)\n",
    "        x = self.relu(x)\n",
    "        x = self.dropout_1(x)\n",
    "        x = self.batchnorm_1(x)\n",
    "        x = self.fc2(x)\n",
    "        x = self.relu(x)\n",
    "        x = self.dropout_2(x)\n",
    "        x = self.batchnorm_2(x)\n",
    "        x = self.fc3(x)\n",
    "        return x\n"
   ]
  },
  {
   "cell_type": "code",
   "execution_count": 6,
   "metadata": {},
   "outputs": [],
   "source": [
    "from sklearn.model_selection import train_test_split\n",
    "X_train, X_test, y_train, y_test = train_test_split(X, y, random_state=42,\n",
    "                                                    test_size=10000)"
   ]
  },
  {
   "cell_type": "code",
   "execution_count": 7,
   "metadata": {},
   "outputs": [],
   "source": [
    "X_train, X_val, y_train, y_val = train_test_split(X_train, y_train, random_state=42, \n",
    "                                                    test_size=10000)"
   ]
  },
  {
   "cell_type": "code",
   "execution_count": 8,
   "metadata": {},
   "outputs": [
    {
     "data": {
      "text/plain": [
       "((50000, 784), (10000, 784), (10000, 784), (10000,))"
      ]
     },
     "execution_count": 8,
     "metadata": {},
     "output_type": "execute_result"
    }
   ],
   "source": [
    "X_train.shape, X_val.shape, X_test.shape, y_test.shape"
   ]
  },
  {
   "cell_type": "code",
   "execution_count": 40,
   "metadata": {},
   "outputs": [
    {
     "name": "stderr",
     "output_type": "stream",
     "text": [
      "/home/choiyj/.conda/envs/choi/lib/python3.8/site-packages/torch/nn/modules/lazy.py:180: UserWarning: Lazy modules are a new feature under heavy development so changes to the API or functionality can happen at any moment.\n",
      "  warnings.warn('Lazy modules are a new feature under heavy development '\n"
     ]
    }
   ],
   "source": [
    "from skorch import NeuralNetClassifier\n",
    "from skorch.helper import predefined_split\n",
    "from skorch.dataset import Dataset\n",
    "from skorch.callbacks import Checkpoint, EarlyStopping\n",
    "\n",
    "train_ds = Dataset(X_train, y_train)\n",
    "valid_ds = Dataset(X_val, y_val)\n",
    "device = torch.device('cuda:0' if torch.cuda.is_available() else 'cpu')\n",
    "# early stopping 및 best model check point 저장\n",
    "# 순수 torch에서는 직접 짜야함\n",
    "checkpoint = Checkpoint(monitor='valid_loss_best', load_best=True)\n",
    "earlystopping = EarlyStopping(patience=5, monitor='valid_loss')\n",
    "\n",
    "net = NeuralNetClassifier(\n",
    "    BatchNorm_net(784,10),\n",
    "    max_epochs=25,\n",
    "    lr=0.001,\n",
    "    optimizer=torch.optim.RMSprop,\n",
    "    batch_size=64,\n",
    "    criterion=nn.CrossEntropyLoss,\n",
    "    device=device,\n",
    "    train_split=predefined_split(valid_ds),\n",
    "    callbacks=[checkpoint,earlystopping]\n",
    ")"
   ]
  },
  {
   "cell_type": "code",
   "execution_count": 41,
   "metadata": {},
   "outputs": [
    {
     "name": "stdout",
     "output_type": "stream",
     "text": [
      "  epoch    train_loss    valid_acc    valid_loss    cp     dur\n",
      "-------  ------------  -----------  ------------  ----  ------\n",
      "      1        \u001b[36m0.3536\u001b[0m       \u001b[32m0.9592\u001b[0m        \u001b[35m0.1356\u001b[0m     +  3.0266\n",
      "      2        \u001b[36m0.1978\u001b[0m       \u001b[32m0.9692\u001b[0m        \u001b[35m0.1046\u001b[0m     +  3.0336\n",
      "      3        \u001b[36m0.1683\u001b[0m       \u001b[32m0.9719\u001b[0m        \u001b[35m0.0927\u001b[0m     +  3.0014\n",
      "      4        \u001b[36m0.1511\u001b[0m       \u001b[32m0.9744\u001b[0m        \u001b[35m0.0862\u001b[0m     +  2.9514\n",
      "      5        \u001b[36m0.1390\u001b[0m       \u001b[32m0.9754\u001b[0m        \u001b[35m0.0824\u001b[0m     +  2.9527\n",
      "      6        \u001b[36m0.1258\u001b[0m       \u001b[32m0.9763\u001b[0m        \u001b[35m0.0789\u001b[0m     +  3.0150\n",
      "      7        \u001b[36m0.1188\u001b[0m       \u001b[32m0.9764\u001b[0m        \u001b[35m0.0785\u001b[0m     +  2.9997\n",
      "      8        \u001b[36m0.1156\u001b[0m       \u001b[32m0.9776\u001b[0m        \u001b[35m0.0747\u001b[0m     +  2.9975\n",
      "      9        \u001b[36m0.1085\u001b[0m       0.9770        0.0773        3.0540\n",
      "     10        \u001b[36m0.1018\u001b[0m       \u001b[32m0.9785\u001b[0m        \u001b[35m0.0736\u001b[0m     +  2.9943\n",
      "     11        0.1024       \u001b[32m0.9786\u001b[0m        \u001b[35m0.0720\u001b[0m     +  3.0225\n",
      "     12        \u001b[36m0.0985\u001b[0m       0.9783        \u001b[35m0.0714\u001b[0m     +  2.9971\n",
      "     13        \u001b[36m0.0926\u001b[0m       \u001b[32m0.9800\u001b[0m        \u001b[35m0.0684\u001b[0m     +  2.9486\n",
      "     14        \u001b[36m0.0907\u001b[0m       0.9800        0.0689        2.9657\n",
      "     15        \u001b[36m0.0884\u001b[0m       0.9782        0.0797        2.9786\n",
      "     16        \u001b[36m0.0847\u001b[0m       0.9798        0.0705        2.9822\n",
      "     17        0.0859       \u001b[32m0.9803\u001b[0m        \u001b[35m0.0665\u001b[0m     +  3.0027\n",
      "     18        \u001b[36m0.0830\u001b[0m       0.9795        0.0783        2.9398\n",
      "     19        \u001b[36m0.0777\u001b[0m       \u001b[32m0.9823\u001b[0m        0.0719        2.9357\n",
      "     20        \u001b[36m0.0745\u001b[0m       0.9800        0.0726        2.9298\n",
      "     21        0.0752       0.9787        0.0790        3.0333\n",
      "Stopping since valid_loss has not improved in the last 5 epochs.\n"
     ]
    },
    {
     "data": {
      "text/plain": [
       "<class 'skorch.classifier.NeuralNetClassifier'>[initialized](\n",
       "  module_=BatchNorm_net(\n",
       "    (fc1): Linear(in_features=784, out_features=512, bias=True)\n",
       "    (fc2): Linear(in_features=512, out_features=64, bias=True)\n",
       "    (fc3): Linear(in_features=64, out_features=10, bias=True)\n",
       "    (relu): ReLU()\n",
       "    (dropout_1): Dropout(p=0.5, inplace=False)\n",
       "    (dropout_2): Dropout(p=0.3, inplace=False)\n",
       "    (batchnorm_1): BatchNorm1d(512, eps=1e-05, momentum=0.1, affine=True, track_running_stats=True)\n",
       "    (batchnorm_2): BatchNorm1d(64, eps=64, momentum=0.1, affine=True, track_running_stats=True)\n",
       "  ),\n",
       ")"
      ]
     },
     "execution_count": 41,
     "metadata": {},
     "output_type": "execute_result"
    }
   ],
   "source": [
    "net.fit(train_ds, y=None)"
   ]
  },
  {
   "cell_type": "code",
   "execution_count": 43,
   "metadata": {},
   "outputs": [
    {
     "data": {
      "text/plain": [
       "0.9803"
      ]
     },
     "execution_count": 43,
     "metadata": {},
     "output_type": "execute_result"
    }
   ],
   "source": [
    "from sklearn.metrics import accuracy_score as acc\n",
    "y_pred = net.predict(X_val)\n",
    "# 실제로 best valid_loss에서의 acc값이 반환된 것 확인\n",
    "acc(y_val, y_pred)"
   ]
  },
  {
   "cell_type": "code",
   "execution_count": 44,
   "metadata": {},
   "outputs": [
    {
     "data": {
      "text/plain": [
       "0.9763"
      ]
     },
     "execution_count": 44,
     "metadata": {},
     "output_type": "execute_result"
    }
   ],
   "source": [
    "from sklearn.metrics import accuracy_score as acc\n",
    "y_pred = net.predict(X_test)\n",
    "acc(y_test, y_pred)"
   ]
  },
  {
   "cell_type": "markdown",
   "metadata": {},
   "source": [
    "# CNN"
   ]
  },
  {
   "cell_type": "code",
   "execution_count": 49,
   "metadata": {},
   "outputs": [
    {
     "name": "stdout",
     "output_type": "stream",
     "text": [
      "/home/choiyj/tf2torch\n"
     ]
    }
   ],
   "source": [
    "!pwd"
   ]
  },
  {
   "cell_type": "code",
   "execution_count": 56,
   "metadata": {},
   "outputs": [
    {
     "name": "stdout",
     "output_type": "stream",
     "text": [
      "Files already downloaded and verified\n",
      "Files already downloaded and verified\n"
     ]
    }
   ],
   "source": [
    "# torch로 받으려면 download 파일이 생기므로 데이터만 keras로 받아오기로함\n",
    "import torchvision\n",
    "\n",
    "transform = torchvision.transforms.Compose(\n",
    "    [torchvision.transforms.ToTensor(),\n",
    "     torchvision.transforms.Normalize((0.5, 0.5, 0.5), (0.5, 0.5, 0.5))])\n",
    "\n",
    "trainset = torchvision.datasets.CIFAR10(root='./../data', train=True,\n",
    "                                        download=True, transform=transform)\n",
    "testset = torchvision.datasets.CIFAR10(root='./../data', train=False,\n",
    "                                        download=True, transform=transform)"
   ]
  },
  {
   "cell_type": "code",
   "execution_count": 57,
   "metadata": {},
   "outputs": [],
   "source": [
    "from torch.utils.data import random_split\n",
    "trainset, valset = random_split(trainset, [0.8,0.2])"
   ]
  },
  {
   "cell_type": "code",
   "execution_count": 58,
   "metadata": {},
   "outputs": [
    {
     "data": {
      "text/plain": [
       "(40000, 10000, 10000)"
      ]
     },
     "execution_count": 58,
     "metadata": {},
     "output_type": "execute_result"
    }
   ],
   "source": [
    "len(trainset), len(valset), len(testset)"
   ]
  },
  {
   "cell_type": "code",
   "execution_count": 77,
   "metadata": {},
   "outputs": [
    {
     "name": "stderr",
     "output_type": "stream",
     "text": [
      "Clipping input data to the valid range for imshow with RGB data ([0..1] for floats or [0..255] for integers).\n"
     ]
    },
    {
     "data": {
      "image/png": "[encoded data removed]",
      "text/plain": [
       "<Figure size 200x200 with 1 Axes>"
      ]
     },
     "metadata": {},
     "output_type": "display_data"
    }
   ],
   "source": [
    "i = 2\n",
    "temp_img, temp_target = trainset[i]\n",
    "plt.figure(figsize=(2,2))\n",
    "plt.imshow(temp_img.permute(1,2,0))\n",
    "plt.axis('off')\n",
    "plt.title(f'title: {temp_target}')\n",
    "plt.show()"
   ]
  },
  {
   "cell_type": "code",
   "execution_count": 120,
   "metadata": {},
   "outputs": [],
   "source": [
    "class SimpleCNN(nn.Module):\n",
    "    def __init__(self,output_shape):\n",
    "        super().__init__()\n",
    "        self.conv = nn.Conv2d(3, 32, kernel_size=3, stride=1)\n",
    "        self.maxpool = nn.MaxPool2d(2)\n",
    "        self.fc1 = nn.Linear(32*15*15, 512)\n",
    "        self.fc2 = nn.Linear(512, output_shape)\n",
    "        self.relu = nn.ReLU()\n",
    "        self.dropout1 = nn.Dropout(0.25)\n",
    "        self.dropout2 = nn.Dropout(0.5)\n",
    "        \n",
    "    def forward(self,x):\n",
    "        x = self.conv(x)\n",
    "        x = self.relu(x)\n",
    "        x = self.maxpool(x)\n",
    "        x = self.dropout1(x)\n",
    "        # batch를 제외한 flatten\n",
    "        x = torch.flatten(x,1)\n",
    "        x = self.fc1(x)\n",
    "        x = self.relu(x)\n",
    "        x = self.dropout2(x)\n",
    "        x = self.fc2(x)\n",
    "        return x\n"
   ]
  },
  {
   "cell_type": "code",
   "execution_count": 121,
   "metadata": {},
   "outputs": [],
   "source": [
    "\n",
    "device = torch.device('cuda:0' if torch.cuda.is_available() else 'cpu')\n",
    "\n",
    "checkpoint = Checkpoint(monitor='valid_loss_best', load_best=True)\n",
    "earlystopping = EarlyStopping(patience=5, monitor='valid_loss')\n",
    "net = NeuralNetClassifier(\n",
    "    SimpleCNN(10),\n",
    "    max_epochs=25,\n",
    "    lr=0.001,\n",
    "    optimizer=torch.optim.RMSprop,\n",
    "    batch_size=128,\n",
    "    criterion=nn.CrossEntropyLoss,\n",
    "    device=device,\n",
    "    train_split=predefined_split(valset),\n",
    "    callbacks=[checkpoint,earlystopping]\n",
    ")"
   ]
  },
  {
   "cell_type": "code",
   "execution_count": 119,
   "metadata": {},
   "outputs": [
    {
     "data": {
      "text/plain": [
       "tensor([-0.0565,  0.0731,  0.1779, -0.1929, -0.0325,  0.0333, -0.0717,  0.1028,\n",
       "        -0.1308, -0.0810], grad_fn=<AddBackward0>)"
      ]
     },
     "execution_count": 119,
     "metadata": {},
     "output_type": "execute_result"
    }
   ],
   "source": [
    "model = SimpleCNN(10)\n",
    "a,b = trainset[70]\n",
    "model(a.unsqueeze(0))"
   ]
  },
  {
   "cell_type": "code",
   "execution_count": 126,
   "metadata": {},
   "outputs": [
    {
     "name": "stdout",
     "output_type": "stream",
     "text": [
      "  epoch    train_loss    valid_acc    valid_loss    cp     dur\n",
      "-------  ------------  -----------  ------------  ----  ------\n",
      "      1        \u001b[36m1.7951\u001b[0m       \u001b[32m0.5146\u001b[0m        \u001b[35m1.3600\u001b[0m     +  8.4071\n",
      "      2        \u001b[36m1.3724\u001b[0m       \u001b[32m0.5605\u001b[0m        \u001b[35m1.2290\u001b[0m     +  8.1689\n",
      "      3        \u001b[36m1.2582\u001b[0m       0.5492        1.2395        8.1484\n",
      "      4        \u001b[36m1.1734\u001b[0m       \u001b[32m0.6050\u001b[0m        \u001b[35m1.0969\u001b[0m     +  8.1409\n",
      "      5        \u001b[36m1.1057\u001b[0m       \u001b[32m0.6138\u001b[0m        \u001b[35m1.0801\u001b[0m     +  8.1568\n",
      "      6        \u001b[36m1.0489\u001b[0m       \u001b[32m0.6311\u001b[0m        \u001b[35m1.0303\u001b[0m     +  8.1411\n",
      "      7        \u001b[36m1.0024\u001b[0m       \u001b[32m0.6392\u001b[0m        \u001b[35m1.0196\u001b[0m     +  8.1118\n",
      "      8        \u001b[36m0.9640\u001b[0m       \u001b[32m0.6410\u001b[0m        \u001b[35m1.0155\u001b[0m     +  8.1129\n",
      "      9        \u001b[36m0.9245\u001b[0m       0.6358        1.0390        8.1040\n",
      "     10        \u001b[36m0.8887\u001b[0m       \u001b[32m0.6556\u001b[0m        \u001b[35m0.9928\u001b[0m     +  8.1026\n",
      "     11        \u001b[36m0.8592\u001b[0m       0.6466        1.0295        8.1184\n",
      "     12        \u001b[36m0.8258\u001b[0m       \u001b[32m0.6562\u001b[0m        \u001b[35m0.9866\u001b[0m     +  8.0933\n",
      "     13        \u001b[36m0.7967\u001b[0m       \u001b[32m0.6649\u001b[0m        \u001b[35m0.9764\u001b[0m     +  8.2030\n",
      "     14        \u001b[36m0.7719\u001b[0m       \u001b[32m0.6658\u001b[0m        \u001b[35m0.9749\u001b[0m     +  8.1794\n",
      "     15        \u001b[36m0.7413\u001b[0m       \u001b[32m0.6692\u001b[0m        0.9866        8.1899\n",
      "     16        \u001b[36m0.7195\u001b[0m       \u001b[32m0.6697\u001b[0m        0.9836        8.1784\n",
      "     17        \u001b[36m0.6976\u001b[0m       \u001b[32m0.6716\u001b[0m        0.9968        8.2122\n",
      "     18        \u001b[36m0.6665\u001b[0m       0.6608        1.0608        8.2074\n",
      "Stopping since valid_loss has not improved in the last 5 epochs.\n"
     ]
    },
    {
     "data": {
      "text/plain": [
       "<class 'skorch.classifier.NeuralNetClassifier'>[initialized](\n",
       "  module_=SimpleCNN(\n",
       "    (conv): Conv2d(3, 32, kernel_size=(3, 3), stride=(1, 1))\n",
       "    (maxpool): MaxPool2d(kernel_size=2, stride=2, padding=0, dilation=1, ceil_mode=False)\n",
       "    (fc1): Linear(in_features=7200, out_features=512, bias=True)\n",
       "    (fc2): Linear(in_features=512, out_features=10, bias=True)\n",
       "    (relu): ReLU()\n",
       "    (dropout1): Dropout(p=0.25, inplace=False)\n",
       "    (dropout2): Dropout(p=0.5, inplace=False)\n",
       "  ),\n",
       ")"
      ]
     },
     "execution_count": 126,
     "metadata": {},
     "output_type": "execute_result"
    }
   ],
   "source": [
    "net.fit(trainset, y=None)"
   ]
  },
  {
   "cell_type": "code",
   "execution_count": 139,
   "metadata": {},
   "outputs": [
    {
     "data": {
      "text/plain": [
       "0.6659"
      ]
     },
     "execution_count": 139,
     "metadata": {},
     "output_type": "execute_result"
    }
   ],
   "source": [
    "y_pred = net.predict(testset)\n",
    "acc(testset.targets, y_pred)"
   ]
  }
 ],
 "metadata": {
  "kernelspec": {
   "display_name": "Python 3.8.13 ('choi': conda)",
   "language": "python",
   "name": "python3"
  },
  "language_info": {
   "codemirror_mode": {
    "name": "ipython",
    "version": 3
   },
   "file_extension": ".py",
   "mimetype": "text/x-python",
   "name": "python",
   "nbconvert_exporter": "python",
   "pygments_lexer": "ipython3",
   "version": "3.8.13"
  },
  "orig_nbformat": 4,
  "vscode": {
   "interpreter": {
    "hash": "1f1ea343d18a0e98dbd50f4a3341f5f39bd7be7d912eea72d8401c1237c2e901"
   }
  }
 },
 "nbformat": 4,
 "nbformat_minor": 2
}
