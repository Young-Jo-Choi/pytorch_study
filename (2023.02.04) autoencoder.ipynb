{
 "cells": [
  {
   "cell_type": "markdown",
   "metadata": {},
   "source": [
    "# AutoEncoder"
   ]
  },
  {
   "cell_type": "code",
   "execution_count": 1,
   "metadata": {},
   "outputs": [],
   "source": [
    "import torch\n",
    "from torch import nn\n",
    "from torch.nn import functional as F\n",
    "from torch.utils.data import DataLoader, TensorDataset\n",
    "import numpy as np\n",
    "import pandas as pd\n",
    "\n",
    "from sklearn.datasets import fetch_openml\n",
    "mnist = fetch_openml('mnist_784',as_frame=False, cache=False)"
   ]
  },
  {
   "cell_type": "code",
   "execution_count": 2,
   "metadata": {},
   "outputs": [
    {
     "name": "stdout",
     "output_type": "stream",
     "text": [
      "(60000, 784) (10000, 784)\n"
     ]
    }
   ],
   "source": [
    "from sklearn.model_selection import train_test_split\n",
    "X = mnist.data.astype('float32')\n",
    "y = mnist.target.astype('int64')\n",
    "X /= 255.0\n",
    "X_train, X_test, y_train, y_test = train_test_split(X,y, train_size=60000, random_state=42)\n",
    "# X_train = X_train.reshape(-1,28,28)\n",
    "# X_test = X_test.reshape(-1,28,28)\n",
    "print(X_train.shape, X_test.shape)"
   ]
  },
  {
   "cell_type": "markdown",
   "metadata": {},
   "source": [
    "## 구축"
   ]
  },
  {
   "cell_type": "code",
   "execution_count": 10,
   "metadata": {},
   "outputs": [],
   "source": [
    "class AutoEncoder(nn.Module):\n",
    "    def __init__(self, input_size, hidden_size1, hidden_size2, latent_size):\n",
    "        super().__init__()\n",
    "        self.encoder = nn.Sequential(\n",
    "            nn.Linear(input_size, hidden_size1),\n",
    "            nn.ReLU(),\n",
    "            nn.Linear(hidden_size1, hidden_size2),\n",
    "            nn.ReLU(),\n",
    "            nn.Linear(hidden_size2, latent_size),\n",
    "            nn.ReLU()\n",
    "        )\n",
    "        self.decoder = nn.Sequential(\n",
    "            nn.Linear(latent_size, hidden_size2),\n",
    "            nn.ReLU(),\n",
    "            nn.Linear(hidden_size2, hidden_size1),\n",
    "            nn.ReLU(),\n",
    "            nn.Linear(hidden_size1, input_size),\n",
    "            nn.Sigmoid()\n",
    "        )\n",
    "    def forward(self, x):\n",
    "        x = self.encoder(x)\n",
    "        x = self.decoder(x)\n",
    "        return x"
   ]
  },
  {
   "cell_type": "code",
   "execution_count": 14,
   "metadata": {},
   "outputs": [],
   "source": [
    "inputsize = 784\n",
    "hiddensize1 = 256\n",
    "hiddensize2 = 128\n",
    "latentsize = 32\n",
    "epochs = 10\n",
    "device = torch.device('cuda:0' if torch.cuda.is_available() else 'cpu')\n",
    "autoencoder = AutoEncoder(inputsize, hiddensize1, hiddensize2, latentsize)\n",
    "optimizer = torch.optim.Adam(autoencoder.parameters(), lr=0.001)\n",
    "loss = nn.MSELoss()\n"
   ]
  },
  {
   "cell_type": "code",
   "execution_count": 12,
   "metadata": {},
   "outputs": [],
   "source": [
    "trainDS = TensorDataset(torch.from_numpy(X_train), torch.from_numpy(X_train))\n",
    "trainloader = DataLoader(trainDS, batch_size=128, shuffle=True)"
   ]
  },
  {
   "cell_type": "code",
   "execution_count": 15,
   "metadata": {},
   "outputs": [
    {
     "name": "stdout",
     "output_type": "stream",
     "text": [
      "Epoch: 1, Loss: 0.0516\n",
      "Epoch: 2, Loss: 0.0252\n",
      "Epoch: 3, Loss: 0.0195\n",
      "Epoch: 4, Loss: 0.0168\n",
      "Epoch: 5, Loss: 0.0147\n",
      "Epoch: 6, Loss: 0.0133\n",
      "Epoch: 7, Loss: 0.0122\n",
      "Epoch: 8, Loss: 0.0114\n",
      "Epoch: 9, Loss: 0.0108\n",
      "Epoch: 10, Loss: 0.0103\n"
     ]
    }
   ],
   "source": [
    "autoencoder.to(device)\n",
    "loss.to(device)\n",
    "for epoch in range(epochs):\n",
    "    loss_val = 0\n",
    "    for x, _ in trainloader:\n",
    "        x = x.to(device)\n",
    "        x = x.view(-1, 784)\n",
    "        x_hat = autoencoder(x)\n",
    "        criterion = loss(x_hat, x)\n",
    "        optimizer.zero_grad()\n",
    "        criterion.backward()\n",
    "        optimizer.step()\n",
    "        loss_val += criterion.item()*x.size(0)\n",
    "    loss_val /= len(trainloader.dataset)\n",
    "    print(f'Epoch: {epoch+1}, Loss: {loss_val:.4f}')"
   ]
  },
  {
   "cell_type": "code",
   "execution_count": 16,
   "metadata": {},
   "outputs": [
    {
     "data": {
      "text/plain": [
       "(10000, 28, 28)"
      ]
     },
     "execution_count": 16,
     "metadata": {},
     "output_type": "execute_result"
    }
   ],
   "source": [
    "X_test_hat = autoencoder(torch.from_numpy(X_test).to(device))\n",
    "X_test_hat = X_test_hat.detach().cpu().numpy().reshape(-1,28,28)\n",
    "X_test_hat.shape"
   ]
  },
  {
   "cell_type": "markdown",
   "metadata": {},
   "source": [
    "## 원본 이미지와 복원된 이미지 비교"
   ]
  },
  {
   "cell_type": "code",
   "execution_count": 10,
   "metadata": {},
   "outputs": [
    {
     "name": "stderr",
     "output_type": "stream",
     "text": [
      "\n",
      "Bad key \"text.kerning_factor\" on line 4 in\n",
      "/home/choiyj/.conda/envs/choi/lib/python3.8/site-packages/matplotlib/mpl-data/stylelib/_classic_test_patch.mplstyle.\n",
      "You probably need to get an updated matplotlibrc file from\n",
      "https://github.com/matplotlib/matplotlib/blob/v3.1.3/matplotlibrc.template\n",
      "or from the matplotlib source distribution\n"
     ]
    },
    {
     "data": {
      "image/png": "[encoded data removed]",
      "text/plain": [
       "<Figure size 1000x200 with 20 Axes>"
      ]
     },
     "metadata": {},
     "output_type": "display_data"
    }
   ],
   "source": [
    "from matplotlib import pyplot as plt\n",
    "fig, ax = plt.subplots(2, 10, figsize=(10, 2))\n",
    "ax_upper = ax[0,:]\n",
    "ax_lower = ax[1,:]\n",
    "\n",
    "for i in range(10):\n",
    "    ax_upper[i].imshow(X_test[i].reshape(28,28), cmap='gray')\n",
    "    ax_lower[i].imshow(X_test_hat[i], cmap='gray')\n",
    "    ax_upper[i].set_xticks([])\n",
    "    ax_upper[i].set_yticks([])\n",
    "    ax_lower[i].set_xticks([])\n",
    "    ax_lower[i].set_yticks([])\n",
    "    for pos in ['right', 'top', 'bottom', 'left']:\n",
    "        ax_upper[i].spines[pos].set_visible(False)\n",
    "        ax_lower[i].spines[pos].set_visible(False)\n",
    "    if i==0:\n",
    "        ax_upper[i].set_ylabel('Original',fontsize=8)\n",
    "        ax_lower[i].set_ylabel('Reconstructed',fontsize=8)\n",
    "plt.show()"
   ]
  },
  {
   "cell_type": "markdown",
   "metadata": {},
   "source": [
    "## 저차원 벡터 (representation vector)를 이용한 분류"
   ]
  },
  {
   "cell_type": "code",
   "execution_count": 12,
   "metadata": {},
   "outputs": [
    {
     "name": "stdout",
     "output_type": "stream",
     "text": [
      "(60000, 32)\n",
      "(10000, 32)\n"
     ]
    }
   ],
   "source": [
    "X_train_encode = autoencoder.encoder(torch.from_numpy(X_train).to(device))\n",
    "X_train_encode = X_train_encode.detach().cpu().numpy()\n",
    "print(X_train_encode.shape)\n",
    "X_test_encode = autoencoder.encoder(torch.from_numpy(X_test).to(device))\n",
    "X_test_encode = X_test_encode.detach().cpu().numpy()\n",
    "print(X_test_encode.shape)"
   ]
  },
  {
   "cell_type": "code",
   "execution_count": 13,
   "metadata": {},
   "outputs": [],
   "source": [
    "from skorch import NeuralNetClassifier\n",
    "from skorch.dataset import ValidSplit\n",
    "\n",
    "simple_clf = nn.Sequential(nn.Linear(32,128),\n",
    "                           nn.ReLU(),\n",
    "                           nn.Linear(128,10)\n",
    "                            )\n",
    "device = torch.device('cuda:0' if torch.cuda.is_available() else 'cpu')\n",
    "\n",
    "\n",
    "\n",
    "net = NeuralNetClassifier(simple_clf, \n",
    "                        max_epochs=20, \n",
    "                        lr=0.001, \n",
    "                        device=device,\n",
    "                        criterion=nn.CrossEntropyLoss, \n",
    "                        optimizer=torch.optim.RMSprop,\n",
    "                        train_split=ValidSplit(5),\n",
    "                        batch_size=128\n",
    "                        )"
   ]
  },
  {
   "cell_type": "code",
   "execution_count": 14,
   "metadata": {},
   "outputs": [
    {
     "name": "stdout",
     "output_type": "stream",
     "text": [
      "  epoch    train_loss    valid_acc    valid_loss     dur\n",
      "-------  ------------  -----------  ------------  ------\n",
      "      1        \u001b[36m0.5733\u001b[0m       \u001b[32m0.8883\u001b[0m        \u001b[35m0.3690\u001b[0m  0.6374\n",
      "      2        \u001b[36m0.3327\u001b[0m       \u001b[32m0.9120\u001b[0m        \u001b[35m0.2980\u001b[0m  0.6258\n",
      "      3        \u001b[36m0.2737\u001b[0m       \u001b[32m0.9272\u001b[0m        \u001b[35m0.2519\u001b[0m  0.6942\n",
      "      4        \u001b[36m0.2319\u001b[0m       \u001b[32m0.9375\u001b[0m        \u001b[35m0.2197\u001b[0m  0.6008\n",
      "      5        \u001b[36m0.2026\u001b[0m       \u001b[32m0.9427\u001b[0m        \u001b[35m0.1970\u001b[0m  0.6856\n",
      "      6        \u001b[36m0.1822\u001b[0m       \u001b[32m0.9483\u001b[0m        \u001b[35m0.1801\u001b[0m  0.6063\n",
      "      7        \u001b[36m0.1673\u001b[0m       \u001b[32m0.9522\u001b[0m        \u001b[35m0.1667\u001b[0m  0.6090\n",
      "      8        \u001b[36m0.1560\u001b[0m       \u001b[32m0.9548\u001b[0m        \u001b[35m0.1575\u001b[0m  0.6008\n",
      "      9        \u001b[36m0.1472\u001b[0m       \u001b[32m0.9573\u001b[0m        \u001b[35m0.1499\u001b[0m  0.6137\n",
      "     10        \u001b[36m0.1401\u001b[0m       \u001b[32m0.9597\u001b[0m        \u001b[35m0.1437\u001b[0m  0.6122\n",
      "     11        \u001b[36m0.1342\u001b[0m       \u001b[32m0.9610\u001b[0m        \u001b[35m0.1376\u001b[0m  0.6380\n",
      "     12        \u001b[36m0.1291\u001b[0m       \u001b[32m0.9613\u001b[0m        \u001b[35m0.1334\u001b[0m  0.6287\n",
      "     13        \u001b[36m0.1245\u001b[0m       \u001b[32m0.9620\u001b[0m        \u001b[35m0.1294\u001b[0m  0.6941\n",
      "     14        \u001b[36m0.1205\u001b[0m       \u001b[32m0.9632\u001b[0m        \u001b[35m0.1275\u001b[0m  0.6055\n",
      "     15        \u001b[36m0.1169\u001b[0m       \u001b[32m0.9638\u001b[0m        \u001b[35m0.1256\u001b[0m  0.6407\n",
      "     16        \u001b[36m0.1136\u001b[0m       \u001b[32m0.9647\u001b[0m        \u001b[35m0.1233\u001b[0m  0.6620\n",
      "     17        \u001b[36m0.1107\u001b[0m       \u001b[32m0.9647\u001b[0m        \u001b[35m0.1210\u001b[0m  0.6255\n",
      "     18        \u001b[36m0.1079\u001b[0m       \u001b[32m0.9652\u001b[0m        \u001b[35m0.1191\u001b[0m  0.6791\n",
      "     19        \u001b[36m0.1052\u001b[0m       0.9646        \u001b[35m0.1186\u001b[0m  0.6111\n",
      "     20        \u001b[36m0.1030\u001b[0m       \u001b[32m0.9654\u001b[0m        \u001b[35m0.1164\u001b[0m  0.6067\n",
      "train completed\n"
     ]
    }
   ],
   "source": [
    "net.fit(X_train_encode, y_train)\n",
    "print('train completed')"
   ]
  },
  {
   "cell_type": "code",
   "execution_count": 15,
   "metadata": {},
   "outputs": [
    {
     "data": {
      "text/plain": [
       "0.9615"
      ]
     },
     "execution_count": 15,
     "metadata": {},
     "output_type": "execute_result"
    }
   ],
   "source": [
    "from sklearn.metrics import accuracy_score\n",
    "y_test_pred = net.predict(X_test_encode)\n",
    "accuracy_score(y_test, y_test_pred)"
   ]
  },
  {
   "cell_type": "markdown",
   "metadata": {},
   "source": [
    "# Convolutional Autoencoder\n",
    "## 구축"
   ]
  },
  {
   "cell_type": "code",
   "execution_count": 3,
   "metadata": {},
   "outputs": [],
   "source": [
    "class cnnAutoEncoder(nn.Module):\n",
    "    def __init__(self):\n",
    "        super().__init__()\n",
    "        self.encoder = nn.Sequential(\n",
    "            nn.Conv2d(1, 32, kernel_size=3, stride=1, padding =1),\n",
    "            nn.ReLU(),\n",
    "            nn.MaxPool2d(2),\n",
    "            nn.Conv2d(32, 32, kernel_size=3, stride=1, padding=1),\n",
    "            nn.ReLU(),\n",
    "            nn.MaxPool2d(2)\n",
    "        )\n",
    "        self.decoder = nn.Sequential(\n",
    "            nn.ConvTranspose2d(32, 32, kernel_size=3, stride=2, padding=1, output_padding=1),\n",
    "            nn.ReLU(),\n",
    "            nn.ConvTranspose2d(32, 32, kernel_size=3, stride=2, padding=1, output_padding=1),\n",
    "            nn.ReLU(),\n",
    "            nn.Conv2d(32, 1, kernel_size=3, stride=1, padding=1)\n",
    "        )\n",
    "    def forward(self, x):\n",
    "        x = self.encoder(x)\n",
    "        x = self.decoder(x)\n",
    "        return x"
   ]
  },
  {
   "cell_type": "code",
   "execution_count": 4,
   "metadata": {},
   "outputs": [
    {
     "data": {
      "text/plain": [
       "torch.Size([4, 1, 28, 28])"
      ]
     },
     "execution_count": 4,
     "metadata": {},
     "output_type": "execute_result"
    }
   ],
   "source": [
    "cnnAE = cnnAutoEncoder()\n",
    "cnnAE(torch.from_numpy(X_train[0:4]).float().view(-1,1,28,28)).shape"
   ]
  },
  {
   "cell_type": "code",
   "execution_count": 5,
   "metadata": {},
   "outputs": [],
   "source": [
    "X_train_2d = X_train.reshape(-1,1,28,28)\n",
    "X_test_2d = X_test.reshape(-1,1,28,28)"
   ]
  },
  {
   "cell_type": "code",
   "execution_count": 6,
   "metadata": {},
   "outputs": [],
   "source": [
    "epochs = 10\n",
    "device = torch.device('cuda:0' if torch.cuda.is_available() else 'cpu')\n",
    "optimizer = torch.optim.Adam(cnnAE.parameters(), lr=0.001)\n",
    "loss = nn.MSELoss()\n",
    "\n",
    "trainDS = TensorDataset(torch.from_numpy(X_train_2d), torch.from_numpy(X_train_2d))\n",
    "trainloader = DataLoader(trainDS, batch_size=128, shuffle=True)\n",
    "testDS = TensorDataset(torch.from_numpy(X_test_2d), torch.from_numpy(X_test_2d))\n",
    "testloader = DataLoader(testDS, batch_size=128, shuffle=True)"
   ]
  },
  {
   "cell_type": "code",
   "execution_count": 7,
   "metadata": {},
   "outputs": [
    {
     "name": "stdout",
     "output_type": "stream",
     "text": [
      "Epoch: 1, train Loss: 0.0127, val loss: 0.0041\n",
      "Epoch: 2, train Loss: 0.0035, val loss: 0.0030\n",
      "Epoch: 3, train Loss: 0.0027, val loss: 0.0025\n",
      "Epoch: 4, train Loss: 0.0024, val loss: 0.0022\n",
      "Epoch: 5, train Loss: 0.0021, val loss: 0.0020\n",
      "Epoch: 6, train Loss: 0.0020, val loss: 0.0019\n",
      "Epoch: 7, train Loss: 0.0018, val loss: 0.0018\n",
      "Epoch: 8, train Loss: 0.0017, val loss: 0.0016\n",
      "Epoch: 9, train Loss: 0.0016, val loss: 0.0016\n",
      "Epoch: 10, train Loss: 0.0015, val loss: 0.0015\n"
     ]
    }
   ],
   "source": [
    "cnnAE.to(device)\n",
    "for epoch in range(epochs):\n",
    "    cnnAE.train()\n",
    "    train_loss = 0\n",
    "    for x, _ in trainloader:\n",
    "        x = x.to(device)\n",
    "        x = x.view(-1,1,28,28)\n",
    "        x_hat = cnnAE(x)\n",
    "        criterion = loss(x_hat, x)\n",
    "        optimizer.zero_grad()\n",
    "        criterion.backward()\n",
    "        optimizer.step()\n",
    "        train_loss += criterion.item()*x.size(0)\n",
    "    train_loss /= len(trainloader.dataset)\n",
    "    \n",
    "    with torch.no_grad():\n",
    "        cnnAE.eval()\n",
    "        val_loss = 0\n",
    "        for x, _ in testloader:\n",
    "            x = x.to(device)\n",
    "            x = x.view(-1,1,28,28)\n",
    "            x_hat = cnnAE(x)\n",
    "            criterion = loss(x_hat, x)\n",
    "            val_loss += criterion.item()*x.size(0)\n",
    "        val_loss /= len(testloader.dataset)\n",
    "    print(f'Epoch: {epoch+1}, train Loss: {train_loss:.4f}, val loss: {val_loss:.4f}')\n"
   ]
  },
  {
   "cell_type": "code",
   "execution_count": 9,
   "metadata": {},
   "outputs": [
    {
     "data": {
      "text/plain": [
       "(10000, 1, 28, 28)"
      ]
     },
     "execution_count": 9,
     "metadata": {},
     "output_type": "execute_result"
    }
   ],
   "source": [
    "cnnAE.cpu()\n",
    "X_test_2d_hat = cnnAE(torch.from_numpy(X_test_2d))\n",
    "X_test_2d_hat = X_test_2d_hat.detach().numpy()\n",
    "X_test_2d_hat.shape"
   ]
  },
  {
   "cell_type": "markdown",
   "metadata": {},
   "source": [
    "## 원본 이미지와 복원된 이미지 비교"
   ]
  },
  {
   "cell_type": "code",
   "execution_count": 36,
   "metadata": {},
   "outputs": [
    {
     "data": {
      "image/png": "[encoded data removed]",
      "text/plain": [
       "<Figure size 1000x200 with 20 Axes>"
      ]
     },
     "metadata": {},
     "output_type": "display_data"
    }
   ],
   "source": [
    "from matplotlib import pyplot as plt\n",
    "fig, ax = plt.subplots(2, 10, figsize=(10, 2))\n",
    "ax_upper = ax[0,:]\n",
    "ax_lower = ax[1,:]\n",
    "\n",
    "for i in range(10):\n",
    "    ax_upper[i].imshow(X_test_2d[i].squeeze(), cmap='gray')\n",
    "    ax_lower[i].imshow(X_test_2d_hat[i].squeeze(), cmap='gray')\n",
    "    ax_upper[i].set_xticks([])\n",
    "    ax_upper[i].set_yticks([])\n",
    "    ax_lower[i].set_xticks([])\n",
    "    ax_lower[i].set_yticks([])\n",
    "    for pos in ['right', 'top', 'bottom', 'left']:\n",
    "        ax_upper[i].spines[pos].set_visible(False)\n",
    "        ax_lower[i].spines[pos].set_visible(False)\n",
    "    if i==0:\n",
    "        ax_upper[i].set_ylabel('Original',fontsize=8)\n",
    "        ax_lower[i].set_ylabel('Reconstructed',fontsize=8)\n",
    "plt.show()"
   ]
  },
  {
   "cell_type": "markdown",
   "metadata": {},
   "source": [
    "## 저차원 벡터 (representation vector)를 이용한 분류"
   ]
  },
  {
   "cell_type": "code",
   "execution_count": 45,
   "metadata": {},
   "outputs": [],
   "source": [
    "# cuda memory error로 x_train_2d_encode를 따로 모아두지는 않음\n",
    "\n",
    "simple_clf = nn.Sequential(nn.Conv2d(32, 1, kernel_size=3, stride=1, padding=1),\n",
    "                            nn.Flatten(),\n",
    "                            nn.ReLU(),\n",
    "                            nn.Linear(7*7,128),\n",
    "                            nn.ReLU(),\n",
    "                            nn.Linear(128,10)\n",
    "                            )\n",
    "optimizer = torch.optim.RMSprop(simple_clf.parameters(), lr=0.001)\n",
    "criterion = nn.CrossEntropyLoss().to(device)\n",
    "epochs = 20"
   ]
  },
  {
   "cell_type": "code",
   "execution_count": 17,
   "metadata": {},
   "outputs": [],
   "source": [
    "from sklearn.model_selection import train_test_split\n",
    "X_train_2d, X_val_2d, y_train, y_val = train_test_split(X_train_2d, y_train, test_size=0.2, random_state=42)"
   ]
  },
  {
   "cell_type": "code",
   "execution_count": 19,
   "metadata": {},
   "outputs": [],
   "source": [
    "trainDS = TensorDataset(torch.from_numpy(X_train_2d), torch.from_numpy(y_train))\n",
    "valDS = TensorDataset(torch.from_numpy(X_val_2d), torch.from_numpy(y_val))\n",
    "trainloader = DataLoader(trainDS, batch_size=128, shuffle=True)\n",
    "valloader = DataLoader(valDS, batch_size=128, shuffle=False)"
   ]
  },
  {
   "cell_type": "code",
   "execution_count": 46,
   "metadata": {},
   "outputs": [
    {
     "name": "stdout",
     "output_type": "stream",
     "text": [
      "Epoch: 1, train Loss: 0.4590, train acc: 0.8532\n",
      "val Loss: 0.2506, val acc: 0.9230\n",
      "Epoch: 2, train Loss: 0.2185, train acc: 0.9317\n",
      "val Loss: 0.1810, val acc: 0.9432\n",
      "Epoch: 3, train Loss: 0.1637, train acc: 0.9476\n",
      "val Loss: 0.1413, val acc: 0.9563\n",
      "Epoch: 4, train Loss: 0.1363, train acc: 0.9574\n",
      "val Loss: 0.1321, val acc: 0.9587\n",
      "Epoch: 5, train Loss: 0.1194, train acc: 0.9625\n",
      "val Loss: 0.1172, val acc: 0.9628\n",
      "Epoch: 6, train Loss: 0.1061, train acc: 0.9667\n",
      "val Loss: 0.1104, val acc: 0.9632\n",
      "Epoch: 7, train Loss: 0.0979, train acc: 0.9691\n",
      "val Loss: 0.1082, val acc: 0.9647\n",
      "Epoch: 8, train Loss: 0.0890, train acc: 0.9716\n",
      "val Loss: 0.1013, val acc: 0.9672\n",
      "Epoch: 9, train Loss: 0.0833, train acc: 0.9739\n",
      "val Loss: 0.1020, val acc: 0.9676\n",
      "Epoch: 10, train Loss: 0.0780, train acc: 0.9754\n",
      "val Loss: 0.0903, val acc: 0.9715\n",
      "Epoch: 11, train Loss: 0.0727, train acc: 0.9764\n",
      "val Loss: 0.0847, val acc: 0.9731\n",
      "Epoch: 12, train Loss: 0.0686, train acc: 0.9781\n",
      "val Loss: 0.0868, val acc: 0.9712\n",
      "Epoch: 13, train Loss: 0.0655, train acc: 0.9790\n",
      "val Loss: 0.0815, val acc: 0.9724\n",
      "Epoch: 14, train Loss: 0.0621, train acc: 0.9805\n",
      "val Loss: 0.0839, val acc: 0.9729\n",
      "Epoch: 15, train Loss: 0.0603, train acc: 0.9806\n",
      "val Loss: 0.0785, val acc: 0.9736\n",
      "Epoch: 16, train Loss: 0.0561, train acc: 0.9820\n",
      "val Loss: 0.0747, val acc: 0.9742\n",
      "Epoch: 17, train Loss: 0.0553, train acc: 0.9825\n",
      "val Loss: 0.0792, val acc: 0.9748\n",
      "Epoch: 18, train Loss: 0.0535, train acc: 0.9825\n",
      "val Loss: 0.0832, val acc: 0.9736\n",
      "Epoch: 19, train Loss: 0.0509, train acc: 0.9838\n",
      "val Loss: 0.0915, val acc: 0.9693\n",
      "Epoch: 20, train Loss: 0.0493, train acc: 0.9840\n",
      "val Loss: 0.0732, val acc: 0.9763\n"
     ]
    }
   ],
   "source": [
    "cnnAE.to(device)\n",
    "simple_clf.to(device)\n",
    "for epoch in range(epochs):\n",
    "    train_loss = 0\n",
    "    train_correct = 0\n",
    "    simple_clf.train()\n",
    "    for i,(inputs, targets) in enumerate(trainloader):\n",
    "        inputs = inputs.to(device)\n",
    "        targets = targets.to(device)\n",
    "        inputs_encode = cnnAE.encoder(inputs)\n",
    "\n",
    "        optimizer.zero_grad()\n",
    "        outputs = simple_clf(inputs_encode)\n",
    "        loss = criterion(outputs, targets)\n",
    "        loss.backward()\n",
    "        optimizer.step()\n",
    "        train_loss += loss.item()*inputs.size(0)\n",
    "        _, preds = torch.max(outputs, 1)\n",
    "        train_correct += torch.sum(preds == targets.data)\n",
    "    train_loss /= len(trainloader.dataset)\n",
    "    train_acc = train_correct.double() / len(trainloader.dataset)\n",
    "    print(f'Epoch: {epoch+1}, train Loss: {train_loss:.4f}, train acc: {train_acc:.4f}')\n",
    "\n",
    "    val_loss = 0\n",
    "    val_correct = 0\n",
    "    simple_clf.eval()\n",
    "    with torch.no_grad():\n",
    "        for i,(inputs, targets) in enumerate(valloader):\n",
    "            inputs = inputs.to(device)\n",
    "            targets = targets.to(device)\n",
    "            inputs_encode = cnnAE.encoder(inputs)\n",
    "\n",
    "            outputs = simple_clf(inputs_encode)\n",
    "            loss = criterion(outputs, targets)\n",
    "            val_loss += loss.item()*inputs.size(0)\n",
    "            _, preds = torch.max(outputs, 1)\n",
    "            val_correct += torch.sum(preds == targets.data)\n",
    "    val_loss /= len(valloader.dataset)\n",
    "    val_acc = val_correct.double() / len(valloader.dataset)\n",
    "    print(f'val Loss: {val_loss:.4f}, val acc: {val_acc:.4f}')"
   ]
  },
  {
   "cell_type": "code",
   "execution_count": 47,
   "metadata": {},
   "outputs": [
    {
     "name": "stdout",
     "output_type": "stream",
     "text": [
      "(10000, 32, 7, 7)\n"
     ]
    }
   ],
   "source": [
    "X_test_2d_encode = cnnAE.encoder(torch.from_numpy(X_test_2d).to(device))\n",
    "X_test_2d_encode = X_test_2d_encode.detach().cpu().numpy()\n",
    "print(X_test_2d_encode.shape)"
   ]
  },
  {
   "cell_type": "code",
   "execution_count": 48,
   "metadata": {},
   "outputs": [
    {
     "data": {
      "text/plain": [
       "0.9736"
      ]
     },
     "execution_count": 48,
     "metadata": {},
     "output_type": "execute_result"
    }
   ],
   "source": [
    "from sklearn.metrics import accuracy_score\n",
    "y_test_hat = simple_clf(torch.from_numpy(X_test_2d_encode).to(device))\n",
    "accuracy_score(y_test, y_test_hat.argmax(dim=1).detach().cpu().numpy())"
   ]
  }
 ],
 "metadata": {
  "kernelspec": {
   "display_name": "Python 3.8.13 ('choi': conda)",
   "language": "python",
   "name": "python3"
  },
  "language_info": {
   "codemirror_mode": {
    "name": "ipython",
    "version": 3
   },
   "file_extension": ".py",
   "mimetype": "text/x-python",
   "name": "python",
   "nbconvert_exporter": "python",
   "pygments_lexer": "ipython3",
   "version": "3.8.13"
  },
  "orig_nbformat": 4,
  "vscode": {
   "interpreter": {
    "hash": "1f1ea343d18a0e98dbd50f4a3341f5f39bd7be7d912eea72d8401c1237c2e901"
   }
  }
 },
 "nbformat": 4,
 "nbformat_minor": 2
}
