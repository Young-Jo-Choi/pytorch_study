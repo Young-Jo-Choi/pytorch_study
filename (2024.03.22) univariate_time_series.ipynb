{
  "nbformat": 4,
  "nbformat_minor": 0,
  "metadata": {
    "colab": {
      "provenance": [],
      "machine_shape": "hm",
      "gpuType": "V100"
    },
    "kernelspec": {
      "name": "python3",
      "display_name": "Python 3"
    },
    "language_info": {
      "name": "python"
    },
    "accelerator": "GPU"
  },
  "cells": [
    {
      "cell_type": "markdown",
      "source": [
        "- 시계열 데이터에 대한 예측\n",
        "    - sunspots dataset : 단변량 시계열 데이터\n",
        "    - HEPC (houshold electric power consumption) dataset : 다변량 시계열 데이터\n",
        "- tensorflow로 모델 개발\n",
        "- torch로 동일한 모델 개발"
      ],
      "metadata": {
        "id": "2aY0-oXABdCT"
      }
    },
    {
      "cell_type": "markdown",
      "source": [
        "# Sunspots dataset"
      ],
      "metadata": {
        "id": "1TnVMPFCKAxW"
      }
    },
    {
      "cell_type": "code",
      "source": [
        "import numpy as np\n",
        "import pandas as pd\n",
        "import urllib\n",
        "\n",
        "url = 'https://storage.googleapis.com/download.tensorflow.org/data/Sunspots.csv'\n",
        "urllib.request.urlretrieve(url, 'sunspots.csv')\n",
        "sunspots_df = pd.read_csv('sunspots.csv')\n",
        "sunspots_df.head()"
      ],
      "metadata": {
        "colab": {
          "base_uri": "https://localhost:8080/",
          "height": 206
        },
        "id": "bbFNf7wOHZQW",
        "outputId": "21107168-3fdd-4449-9b31-38145766594c"
      },
      "execution_count": 187,
      "outputs": [
        {
          "output_type": "execute_result",
          "data": {
            "text/plain": [
              "   Unnamed: 0        Date  Monthly Mean Total Sunspot Number\n",
              "0           0  1749-01-31                               96.7\n",
              "1           1  1749-02-28                              104.3\n",
              "2           2  1749-03-31                              116.7\n",
              "3           3  1749-04-30                               92.8\n",
              "4           4  1749-05-31                              141.7"
            ],
            "text/html": [
              "\n",
              "  <div id=\"df-d755aef4-c05d-4ccf-8c1f-b1baeb7740c8\" class=\"colab-df-container\">\n",
              "    <div>\n",
              "<style scoped>\n",
              "    .dataframe tbody tr th:only-of-type {\n",
              "        vertical-align: middle;\n",
              "    }\n",
              "\n",
              "    .dataframe tbody tr th {\n",
              "        vertical-align: top;\n",
              "    }\n",
              "\n",
              "    .dataframe thead th {\n",
              "        text-align: right;\n",
              "    }\n",
              "</style>\n",
              "<table border=\"1\" class=\"dataframe\">\n",
              "  <thead>\n",
              "    <tr style=\"text-align: right;\">\n",
              "      <th></th>\n",
              "      <th>Unnamed: 0</th>\n",
              "      <th>Date</th>\n",
              "      <th>Monthly Mean Total Sunspot Number</th>\n",
              "    </tr>\n",
              "  </thead>\n",
              "  <tbody>\n",
              "    <tr>\n",
              "      <th>0</th>\n",
              "      <td>0</td>\n",
              "      <td>1749-01-31</td>\n",
              "      <td>96.7</td>\n",
              "    </tr>\n",
              "    <tr>\n",
              "      <th>1</th>\n",
              "      <td>1</td>\n",
              "      <td>1749-02-28</td>\n",
              "      <td>104.3</td>\n",
              "    </tr>\n",
              "    <tr>\n",
              "      <th>2</th>\n",
              "      <td>2</td>\n",
              "      <td>1749-03-31</td>\n",
              "      <td>116.7</td>\n",
              "    </tr>\n",
              "    <tr>\n",
              "      <th>3</th>\n",
              "      <td>3</td>\n",
              "      <td>1749-04-30</td>\n",
              "      <td>92.8</td>\n",
              "    </tr>\n",
              "    <tr>\n",
              "      <th>4</th>\n",
              "      <td>4</td>\n",
              "      <td>1749-05-31</td>\n",
              "      <td>141.7</td>\n",
              "    </tr>\n",
              "  </tbody>\n",
              "</table>\n",
              "</div>\n",
              "    <div class=\"colab-df-buttons\">\n",
              "\n",
              "  <div class=\"colab-df-container\">\n",
              "    <button class=\"colab-df-convert\" onclick=\"convertToInteractive('df-d755aef4-c05d-4ccf-8c1f-b1baeb7740c8')\"\n",
              "            title=\"Convert this dataframe to an interactive table.\"\n",
              "            style=\"display:none;\">\n",
              "\n",
              "  <svg xmlns=\"http://www.w3.org/2000/svg\" height=\"24px\" viewBox=\"0 -960 960 960\">\n",
              "    <path d=\"M120-120v-720h720v720H120Zm60-500h600v-160H180v160Zm220 220h160v-160H400v160Zm0 220h160v-160H400v160ZM180-400h160v-160H180v160Zm440 0h160v-160H620v160ZM180-180h160v-160H180v160Zm440 0h160v-160H620v160Z\"/>\n",
              "  </svg>\n",
              "    </button>\n",
              "\n",
              "  <style>\n",
              "    .colab-df-container {\n",
              "      display:flex;\n",
              "      gap: 12px;\n",
              "    }\n",
              "\n",
              "    .colab-df-convert {\n",
              "      background-color: #E8F0FE;\n",
              "      border: none;\n",
              "      border-radius: 50%;\n",
              "      cursor: pointer;\n",
              "      display: none;\n",
              "      fill: #1967D2;\n",
              "      height: 32px;\n",
              "      padding: 0 0 0 0;\n",
              "      width: 32px;\n",
              "    }\n",
              "\n",
              "    .colab-df-convert:hover {\n",
              "      background-color: #E2EBFA;\n",
              "      box-shadow: 0px 1px 2px rgba(60, 64, 67, 0.3), 0px 1px 3px 1px rgba(60, 64, 67, 0.15);\n",
              "      fill: #174EA6;\n",
              "    }\n",
              "\n",
              "    .colab-df-buttons div {\n",
              "      margin-bottom: 4px;\n",
              "    }\n",
              "\n",
              "    [theme=dark] .colab-df-convert {\n",
              "      background-color: #3B4455;\n",
              "      fill: #D2E3FC;\n",
              "    }\n",
              "\n",
              "    [theme=dark] .colab-df-convert:hover {\n",
              "      background-color: #434B5C;\n",
              "      box-shadow: 0px 1px 3px 1px rgba(0, 0, 0, 0.15);\n",
              "      filter: drop-shadow(0px 1px 2px rgba(0, 0, 0, 0.3));\n",
              "      fill: #FFFFFF;\n",
              "    }\n",
              "  </style>\n",
              "\n",
              "    <script>\n",
              "      const buttonEl =\n",
              "        document.querySelector('#df-d755aef4-c05d-4ccf-8c1f-b1baeb7740c8 button.colab-df-convert');\n",
              "      buttonEl.style.display =\n",
              "        google.colab.kernel.accessAllowed ? 'block' : 'none';\n",
              "\n",
              "      async function convertToInteractive(key) {\n",
              "        const element = document.querySelector('#df-d755aef4-c05d-4ccf-8c1f-b1baeb7740c8');\n",
              "        const dataTable =\n",
              "          await google.colab.kernel.invokeFunction('convertToInteractive',\n",
              "                                                    [key], {});\n",
              "        if (!dataTable) return;\n",
              "\n",
              "        const docLinkHtml = 'Like what you see? Visit the ' +\n",
              "          '<a target=\"_blank\" href=https://colab.research.google.com/notebooks/data_table.ipynb>data table notebook</a>'\n",
              "          + ' to learn more about interactive tables.';\n",
              "        element.innerHTML = '';\n",
              "        dataTable['output_type'] = 'display_data';\n",
              "        await google.colab.output.renderOutput(dataTable, element);\n",
              "        const docLink = document.createElement('div');\n",
              "        docLink.innerHTML = docLinkHtml;\n",
              "        element.appendChild(docLink);\n",
              "      }\n",
              "    </script>\n",
              "  </div>\n",
              "\n",
              "\n",
              "<div id=\"df-03410ca9-51d1-4eb1-bee1-fff0cbe0fb05\">\n",
              "  <button class=\"colab-df-quickchart\" onclick=\"quickchart('df-03410ca9-51d1-4eb1-bee1-fff0cbe0fb05')\"\n",
              "            title=\"Suggest charts\"\n",
              "            style=\"display:none;\">\n",
              "\n",
              "<svg xmlns=\"http://www.w3.org/2000/svg\" height=\"24px\"viewBox=\"0 0 24 24\"\n",
              "     width=\"24px\">\n",
              "    <g>\n",
              "        <path d=\"M19 3H5c-1.1 0-2 .9-2 2v14c0 1.1.9 2 2 2h14c1.1 0 2-.9 2-2V5c0-1.1-.9-2-2-2zM9 17H7v-7h2v7zm4 0h-2V7h2v10zm4 0h-2v-4h2v4z\"/>\n",
              "    </g>\n",
              "</svg>\n",
              "  </button>\n",
              "\n",
              "<style>\n",
              "  .colab-df-quickchart {\n",
              "      --bg-color: #E8F0FE;\n",
              "      --fill-color: #1967D2;\n",
              "      --hover-bg-color: #E2EBFA;\n",
              "      --hover-fill-color: #174EA6;\n",
              "      --disabled-fill-color: #AAA;\n",
              "      --disabled-bg-color: #DDD;\n",
              "  }\n",
              "\n",
              "  [theme=dark] .colab-df-quickchart {\n",
              "      --bg-color: #3B4455;\n",
              "      --fill-color: #D2E3FC;\n",
              "      --hover-bg-color: #434B5C;\n",
              "      --hover-fill-color: #FFFFFF;\n",
              "      --disabled-bg-color: #3B4455;\n",
              "      --disabled-fill-color: #666;\n",
              "  }\n",
              "\n",
              "  .colab-df-quickchart {\n",
              "    background-color: var(--bg-color);\n",
              "    border: none;\n",
              "    border-radius: 50%;\n",
              "    cursor: pointer;\n",
              "    display: none;\n",
              "    fill: var(--fill-color);\n",
              "    height: 32px;\n",
              "    padding: 0;\n",
              "    width: 32px;\n",
              "  }\n",
              "\n",
              "  .colab-df-quickchart:hover {\n",
              "    background-color: var(--hover-bg-color);\n",
              "    box-shadow: 0 1px 2px rgba(60, 64, 67, 0.3), 0 1px 3px 1px rgba(60, 64, 67, 0.15);\n",
              "    fill: var(--button-hover-fill-color);\n",
              "  }\n",
              "\n",
              "  .colab-df-quickchart-complete:disabled,\n",
              "  .colab-df-quickchart-complete:disabled:hover {\n",
              "    background-color: var(--disabled-bg-color);\n",
              "    fill: var(--disabled-fill-color);\n",
              "    box-shadow: none;\n",
              "  }\n",
              "\n",
              "  .colab-df-spinner {\n",
              "    border: 2px solid var(--fill-color);\n",
              "    border-color: transparent;\n",
              "    border-bottom-color: var(--fill-color);\n",
              "    animation:\n",
              "      spin 1s steps(1) infinite;\n",
              "  }\n",
              "\n",
              "  @keyframes spin {\n",
              "    0% {\n",
              "      border-color: transparent;\n",
              "      border-bottom-color: var(--fill-color);\n",
              "      border-left-color: var(--fill-color);\n",
              "    }\n",
              "    20% {\n",
              "      border-color: transparent;\n",
              "      border-left-color: var(--fill-color);\n",
              "      border-top-color: var(--fill-color);\n",
              "    }\n",
              "    30% {\n",
              "      border-color: transparent;\n",
              "      border-left-color: var(--fill-color);\n",
              "      border-top-color: var(--fill-color);\n",
              "      border-right-color: var(--fill-color);\n",
              "    }\n",
              "    40% {\n",
              "      border-color: transparent;\n",
              "      border-right-color: var(--fill-color);\n",
              "      border-top-color: var(--fill-color);\n",
              "    }\n",
              "    60% {\n",
              "      border-color: transparent;\n",
              "      border-right-color: var(--fill-color);\n",
              "    }\n",
              "    80% {\n",
              "      border-color: transparent;\n",
              "      border-right-color: var(--fill-color);\n",
              "      border-bottom-color: var(--fill-color);\n",
              "    }\n",
              "    90% {\n",
              "      border-color: transparent;\n",
              "      border-bottom-color: var(--fill-color);\n",
              "    }\n",
              "  }\n",
              "</style>\n",
              "\n",
              "  <script>\n",
              "    async function quickchart(key) {\n",
              "      const quickchartButtonEl =\n",
              "        document.querySelector('#' + key + ' button');\n",
              "      quickchartButtonEl.disabled = true;  // To prevent multiple clicks.\n",
              "      quickchartButtonEl.classList.add('colab-df-spinner');\n",
              "      try {\n",
              "        const charts = await google.colab.kernel.invokeFunction(\n",
              "            'suggestCharts', [key], {});\n",
              "      } catch (error) {\n",
              "        console.error('Error during call to suggestCharts:', error);\n",
              "      }\n",
              "      quickchartButtonEl.classList.remove('colab-df-spinner');\n",
              "      quickchartButtonEl.classList.add('colab-df-quickchart-complete');\n",
              "    }\n",
              "    (() => {\n",
              "      let quickchartButtonEl =\n",
              "        document.querySelector('#df-03410ca9-51d1-4eb1-bee1-fff0cbe0fb05 button');\n",
              "      quickchartButtonEl.style.display =\n",
              "        google.colab.kernel.accessAllowed ? 'block' : 'none';\n",
              "    })();\n",
              "  </script>\n",
              "</div>\n",
              "\n",
              "    </div>\n",
              "  </div>\n"
            ],
            "application/vnd.google.colaboratory.intrinsic+json": {
              "type": "dataframe",
              "variable_name": "sunspots_df",
              "summary": "{\n  \"name\": \"sunspots_df\",\n  \"rows\": 3235,\n  \"fields\": [\n    {\n      \"column\": \"Unnamed: 0\",\n      \"properties\": {\n        \"dtype\": \"number\",\n        \"std\": 934,\n        \"min\": 0,\n        \"max\": 3234,\n        \"num_unique_values\": 3235,\n        \"samples\": [\n          1334,\n          1756,\n          3031\n        ],\n        \"semantic_type\": \"\",\n        \"description\": \"\"\n      }\n    },\n    {\n      \"column\": \"Date\",\n      \"properties\": {\n        \"dtype\": \"object\",\n        \"num_unique_values\": 3235,\n        \"samples\": [\n          \"1860-03-31\",\n          \"1895-05-31\",\n          \"2001-08-31\"\n        ],\n        \"semantic_type\": \"\",\n        \"description\": \"\"\n      }\n    },\n    {\n      \"column\": \"Monthly Mean Total Sunspot Number\",\n      \"properties\": {\n        \"dtype\": \"number\",\n        \"std\": 67.8051896404765,\n        \"min\": 0.0,\n        \"max\": 398.2,\n        \"num_unique_values\": 1595,\n        \"samples\": [\n          148.5,\n          10.6,\n          202.9\n        ],\n        \"semantic_type\": \"\",\n        \"description\": \"\"\n      }\n    }\n  ]\n}"
            }
          },
          "metadata": {},
          "execution_count": 187
        }
      ]
    },
    {
      "cell_type": "code",
      "source": [
        "time_step = sunspots_df['Date'].values\n",
        "sunspots = sunspots_df['Monthly Mean Total Sunspot Number'].values\n",
        "sunspots_max = sunspots.max()\n",
        "sunspots_min = sunspots.min()\n",
        "sunspots = (sunspots - sunspots_min) / (sunspots_max - sunspots_min)"
      ],
      "metadata": {
        "id": "4HNxD1n4JIi6"
      },
      "execution_count": 188,
      "outputs": []
    },
    {
      "cell_type": "code",
      "source": [
        "split_time = 3000\n",
        "X_train  = sunspots[:split_time]\n",
        "X_valid = sunspots[split_time:]\n",
        "time_train = time_step[:split_time]\n",
        "time_valid = time_step[split_time:]"
      ],
      "metadata": {
        "id": "J9gWDpphJhUH"
      },
      "execution_count": 189,
      "outputs": []
    },
    {
      "cell_type": "markdown",
      "source": [
        "# tensorflow"
      ],
      "metadata": {
        "id": "w-_BaK1dJ-U1"
      }
    },
    {
      "cell_type": "code",
      "source": [
        "def windowed_dataset(series, window_size, batch_size, shuffle_buffer):\n",
        "    series = tf.expand_dims(series, axis=-1)\n",
        "    ds = tf.data.Dataset.from_tensor_slices(series)\n",
        "    ds = ds.window(window_size + 1, shift=1, drop_remainder=True)\n",
        "    ds = ds.flat_map(lambda w: w.batch(window_size + 1))\n",
        "    ds = ds.shuffle(shuffle_buffer)\n",
        "    # 종속변수와 독립변수를 나눔\n",
        "    ds = ds.map(lambda w: (w[:-1], w[1:]))\n",
        "    return ds.batch(batch_size).prefetch(1)"
      ],
      "metadata": {
        "id": "ixpIsPXBJhQw"
      },
      "execution_count": 190,
      "outputs": []
    },
    {
      "cell_type": "code",
      "source": [
        "import tensorflow as tf\n",
        "from tensorflow import keras\n",
        "\n",
        "# 0~29의 데이터를 이용해 뒤의 1~30의 데이터를 예측함\n",
        "window_size = 30\n",
        "batch_size = 32\n",
        "shuffle_buffer = 1000\n",
        "\n",
        "tf.keras.backend.clear_session()\n",
        "tf.random.set_seed(51)\n",
        "np.random.seed(51)\n",
        "\n",
        "train_set = windowed_dataset(X_train, window_size, batch_size, shuffle_buffer)\n",
        "valid_set = windowed_dataset(X_valid, window_size, batch_size, shuffle_buffer)"
      ],
      "metadata": {
        "id": "4YTwiN9RJhOT"
      },
      "execution_count": 191,
      "outputs": []
    },
    {
      "cell_type": "code",
      "source": [
        "for i,(x,y) in enumerate(train_set.take(1)):\n",
        "    if i==1:\n",
        "        break"
      ],
      "metadata": {
        "id": "nxbMTUmoOvgQ"
      },
      "execution_count": 192,
      "outputs": []
    },
    {
      "cell_type": "code",
      "source": [
        "x.shape, y.shape"
      ],
      "metadata": {
        "id": "ePrZOY1-PAOd",
        "colab": {
          "base_uri": "https://localhost:8080/"
        },
        "outputId": "78b3622d-94a9-4a9e-fc8a-cc631ec5c678"
      },
      "execution_count": 193,
      "outputs": [
        {
          "output_type": "execute_result",
          "data": {
            "text/plain": [
              "(TensorShape([32, 30, 1]), TensorShape([32, 30, 1]))"
            ]
          },
          "metadata": {},
          "execution_count": 193
        }
      ]
    },
    {
      "cell_type": "code",
      "source": [
        "# first batch\n",
        "x[0,:,0]"
      ],
      "metadata": {
        "id": "CVg4FMf5SsNI",
        "colab": {
          "base_uri": "https://localhost:8080/"
        },
        "outputId": "e42070f3-edf3-4a73-9a80-1c5cd6263a5d"
      },
      "execution_count": 194,
      "outputs": [
        {
          "output_type": "execute_result",
          "data": {
            "text/plain": [
              "<tf.Tensor: shape=(30,), dtype=float64, numpy=\n",
              "array([0.185334  , 0.18257157, 0.16248117, 0.09718734, 0.20015068,\n",
              "       0.23606228, 0.1594676 , 0.12506278, 0.15243596, 0.24234053,\n",
              "       0.40256153, 0.11049724, 0.08864892, 0.16750377, 0.20919136,\n",
              "       0.18834756, 0.15369161, 0.10723255, 0.1210447 , 0.11878453,\n",
              "       0.14590658, 0.09392265, 0.10647916, 0.1443998 , 0.22225013,\n",
              "       0.15268709, 0.11752888, 0.13209442, 0.10899046, 0.13259669])>"
            ]
          },
          "metadata": {},
          "execution_count": 194
        }
      ]
    },
    {
      "cell_type": "code",
      "source": [
        "np.where(sunspots == x[0,0,0].numpy())"
      ],
      "metadata": {
        "id": "IxMwZWIaTUca",
        "colab": {
          "base_uri": "https://localhost:8080/"
        },
        "outputId": "914def58-25a1-43df-902a-a15f91aa20b0"
      },
      "execution_count": 195,
      "outputs": [
        {
          "output_type": "execute_result",
          "data": {
            "text/plain": [
              "(array([184, 652, 808]),)"
            ]
          },
          "metadata": {},
          "execution_count": 195
        }
      ]
    },
    {
      "cell_type": "code",
      "source": [
        "sunspots[808:808+window_size]"
      ],
      "metadata": {
        "id": "RXbFXMImTvbZ",
        "colab": {
          "base_uri": "https://localhost:8080/"
        },
        "outputId": "84b0b137-a20b-4dfa-f052-d1f216011a11"
      },
      "execution_count": 199,
      "outputs": [
        {
          "output_type": "execute_result",
          "data": {
            "text/plain": [
              "array([0.185334  , 0.18257157, 0.16248117, 0.09718734, 0.20015068,\n",
              "       0.23606228, 0.1594676 , 0.12506278, 0.15243596, 0.24234053,\n",
              "       0.40256153, 0.11049724, 0.08864892, 0.16750377, 0.20919136,\n",
              "       0.18834756, 0.15369161, 0.10723255, 0.1210447 , 0.11878453,\n",
              "       0.14590658, 0.09392265, 0.10647916, 0.1443998 , 0.22225013,\n",
              "       0.15268709, 0.11752888, 0.13209442, 0.10899046, 0.13259669])"
            ]
          },
          "metadata": {},
          "execution_count": 199
        }
      ]
    },
    {
      "cell_type": "code",
      "source": [
        "# 0~29의 데이터를 이용해 뒤의 1~30의 데이터를 예측함\n",
        "a,_ = tf.unique(tf.reshape(x[:,1:,:] == y[:,:-1,:],-1))\n",
        "a"
      ],
      "metadata": {
        "id": "yWDkNlXnPz7Z",
        "colab": {
          "base_uri": "https://localhost:8080/"
        },
        "outputId": "7a5899a4-0834-4014-851e-b80f505f493d"
      },
      "execution_count": 200,
      "outputs": [
        {
          "output_type": "execute_result",
          "data": {
            "text/plain": [
              "<tf.Tensor: shape=(1,), dtype=bool, numpy=array([ True])>"
            ]
          },
          "metadata": {},
          "execution_count": 200
        }
      ]
    },
    {
      "cell_type": "code",
      "source": [
        "# 참고\n",
        "print(x.shape)\n",
        "x_conv = keras.layers.Conv1D(filters=60, kernel_size=5, padding='causal', activation='relu', input_shape=[None, 1])(x)\n",
        "print(x_conv.shape)\n",
        "x_lstm1 = keras.layers.LSTM(60, return_sequences=True)(x_conv)\n",
        "print(x_lstm1.shape)\n",
        "x_lstm2 = keras.layers.LSTM(60, return_sequences=True)(x_lstm1)\n",
        "print(x_lstm2.shape)\n",
        "x_dense1 = keras.layers.Dense(30, activation='relu')(x_lstm2)\n",
        "print(x_dense1.shape)"
      ],
      "metadata": {
        "id": "hYHn33zAo4MZ",
        "colab": {
          "base_uri": "https://localhost:8080/"
        },
        "outputId": "319b1566-d892-489f-8a8b-89c24fdbc590"
      },
      "execution_count": 201,
      "outputs": [
        {
          "output_type": "stream",
          "name": "stdout",
          "text": [
            "(32, 30, 1)\n",
            "(32, 30, 60)\n",
            "(32, 30, 60)\n",
            "(32, 30, 60)\n",
            "(32, 30, 30)\n"
          ]
        }
      ]
    },
    {
      "cell_type": "code",
      "source": [
        "model = keras.models.Sequential([\n",
        "    # causal padding은 시계열 데이터에서 미래의 데이터를 미리 보는 일을 방지하기 위해 과거 데이터쪽으로만 padding을 추가\n",
        "    keras.layers.Conv1D(filters=60, kernel_size=5, padding='causal', activation='relu', input_shape=[None, 1]),\n",
        "    keras.layers.LSTM(60, return_sequences=True),\n",
        "    keras.layers.LSTM(60, return_sequences=True),\n",
        "    keras.layers.Dense(30, activation='relu'),\n",
        "    keras.layers.Dense(10, activation='relu'),\n",
        "    keras.layers.Dense(1)\n",
        "])\n",
        "\n",
        "optimizer = keras.optimizers.SGD(lr=1e-5, momentum=0.9)\n",
        "loss = keras.losses.Huber()\n",
        "model.compile(loss=loss, optimizer=optimizer, metrics=['mae'])\n",
        "\n",
        "# callback은 생략\n",
        "model.fit(train_set, epochs=40, validation_data=valid_set)"
      ],
      "metadata": {
        "id": "RH7M8i7SJhLJ",
        "colab": {
          "base_uri": "https://localhost:8080/"
        },
        "outputId": "627cc129-64fb-402c-d0a2-606c9e12d061"
      },
      "execution_count": 202,
      "outputs": [
        {
          "output_type": "stream",
          "name": "stderr",
          "text": [
            "WARNING:absl:`lr` is deprecated in Keras optimizer, please use `learning_rate` or use the legacy optimizer, e.g.,tf.keras.optimizers.legacy.SGD.\n"
          ]
        },
        {
          "output_type": "stream",
          "name": "stdout",
          "text": [
            "Epoch 1/40\n",
            "93/93 [==============================] - 5s 17ms/step - loss: 0.0158 - mae: 0.1414 - val_loss: 0.0089 - val_mae: 0.1129\n",
            "Epoch 2/40\n",
            "93/93 [==============================] - 1s 9ms/step - loss: 0.0111 - mae: 0.1198 - val_loss: 0.0069 - val_mae: 0.0998\n",
            "Epoch 3/40\n",
            "93/93 [==============================] - 1s 9ms/step - loss: 0.0072 - mae: 0.0919 - val_loss: 0.0041 - val_mae: 0.0716\n",
            "Epoch 4/40\n",
            "93/93 [==============================] - 1s 9ms/step - loss: 0.0058 - mae: 0.0802 - val_loss: 0.0037 - val_mae: 0.0651\n",
            "Epoch 5/40\n",
            "93/93 [==============================] - 1s 9ms/step - loss: 0.0054 - mae: 0.0773 - val_loss: 0.0035 - val_mae: 0.0628\n",
            "Epoch 6/40\n",
            "93/93 [==============================] - 1s 9ms/step - loss: 0.0051 - mae: 0.0749 - val_loss: 0.0033 - val_mae: 0.0621\n",
            "Epoch 7/40\n",
            "93/93 [==============================] - 1s 9ms/step - loss: 0.0049 - mae: 0.0729 - val_loss: 0.0030 - val_mae: 0.0571\n",
            "Epoch 8/40\n",
            "93/93 [==============================] - 1s 9ms/step - loss: 0.0046 - mae: 0.0708 - val_loss: 0.0029 - val_mae: 0.0561\n",
            "Epoch 9/40\n",
            "93/93 [==============================] - 1s 9ms/step - loss: 0.0044 - mae: 0.0691 - val_loss: 0.0029 - val_mae: 0.0556\n",
            "Epoch 10/40\n",
            "93/93 [==============================] - 1s 9ms/step - loss: 0.0043 - mae: 0.0675 - val_loss: 0.0028 - val_mae: 0.0548\n",
            "Epoch 11/40\n",
            "93/93 [==============================] - 1s 9ms/step - loss: 0.0041 - mae: 0.0663 - val_loss: 0.0027 - val_mae: 0.0534\n",
            "Epoch 12/40\n",
            "93/93 [==============================] - 1s 9ms/step - loss: 0.0040 - mae: 0.0650 - val_loss: 0.0025 - val_mae: 0.0507\n",
            "Epoch 13/40\n",
            "93/93 [==============================] - 1s 9ms/step - loss: 0.0039 - mae: 0.0639 - val_loss: 0.0025 - val_mae: 0.0514\n",
            "Epoch 14/40\n",
            "93/93 [==============================] - 1s 9ms/step - loss: 0.0038 - mae: 0.0631 - val_loss: 0.0026 - val_mae: 0.0534\n",
            "Epoch 15/40\n",
            "93/93 [==============================] - 1s 9ms/step - loss: 0.0037 - mae: 0.0623 - val_loss: 0.0025 - val_mae: 0.0526\n",
            "Epoch 16/40\n",
            "93/93 [==============================] - 1s 9ms/step - loss: 0.0037 - mae: 0.0619 - val_loss: 0.0024 - val_mae: 0.0513\n",
            "Epoch 17/40\n",
            "93/93 [==============================] - 1s 9ms/step - loss: 0.0036 - mae: 0.0614 - val_loss: 0.0025 - val_mae: 0.0515\n",
            "Epoch 18/40\n",
            "93/93 [==============================] - 1s 9ms/step - loss: 0.0036 - mae: 0.0610 - val_loss: 0.0023 - val_mae: 0.0487\n",
            "Epoch 19/40\n",
            "93/93 [==============================] - 1s 9ms/step - loss: 0.0035 - mae: 0.0606 - val_loss: 0.0024 - val_mae: 0.0503\n",
            "Epoch 20/40\n",
            "93/93 [==============================] - 1s 9ms/step - loss: 0.0035 - mae: 0.0604 - val_loss: 0.0023 - val_mae: 0.0486\n",
            "Epoch 21/40\n",
            "93/93 [==============================] - 1s 9ms/step - loss: 0.0035 - mae: 0.0601 - val_loss: 0.0023 - val_mae: 0.0478\n",
            "Epoch 22/40\n",
            "93/93 [==============================] - 1s 10ms/step - loss: 0.0035 - mae: 0.0599 - val_loss: 0.0023 - val_mae: 0.0490\n",
            "Epoch 23/40\n",
            "93/93 [==============================] - 1s 10ms/step - loss: 0.0034 - mae: 0.0597 - val_loss: 0.0022 - val_mae: 0.0482\n",
            "Epoch 24/40\n",
            "93/93 [==============================] - 1s 10ms/step - loss: 0.0034 - mae: 0.0595 - val_loss: 0.0022 - val_mae: 0.0477\n",
            "Epoch 25/40\n",
            "93/93 [==============================] - 1s 10ms/step - loss: 0.0034 - mae: 0.0592 - val_loss: 0.0023 - val_mae: 0.0500\n",
            "Epoch 26/40\n",
            "93/93 [==============================] - 1s 10ms/step - loss: 0.0034 - mae: 0.0591 - val_loss: 0.0022 - val_mae: 0.0479\n",
            "Epoch 27/40\n",
            "93/93 [==============================] - 1s 10ms/step - loss: 0.0033 - mae: 0.0589 - val_loss: 0.0022 - val_mae: 0.0489\n",
            "Epoch 28/40\n",
            "93/93 [==============================] - 1s 10ms/step - loss: 0.0033 - mae: 0.0587 - val_loss: 0.0022 - val_mae: 0.0483\n",
            "Epoch 29/40\n",
            "93/93 [==============================] - 1s 9ms/step - loss: 0.0033 - mae: 0.0585 - val_loss: 0.0021 - val_mae: 0.0468\n",
            "Epoch 30/40\n",
            "93/93 [==============================] - 1s 9ms/step - loss: 0.0033 - mae: 0.0584 - val_loss: 0.0021 - val_mae: 0.0472\n",
            "Epoch 31/40\n",
            "93/93 [==============================] - 1s 9ms/step - loss: 0.0033 - mae: 0.0582 - val_loss: 0.0022 - val_mae: 0.0477\n",
            "Epoch 32/40\n",
            "93/93 [==============================] - 1s 9ms/step - loss: 0.0033 - mae: 0.0580 - val_loss: 0.0021 - val_mae: 0.0474\n",
            "Epoch 33/40\n",
            "93/93 [==============================] - 1s 9ms/step - loss: 0.0032 - mae: 0.0579 - val_loss: 0.0021 - val_mae: 0.0476\n",
            "Epoch 34/40\n",
            "93/93 [==============================] - 1s 9ms/step - loss: 0.0032 - mae: 0.0578 - val_loss: 0.0021 - val_mae: 0.0467\n",
            "Epoch 35/40\n",
            "93/93 [==============================] - 1s 10ms/step - loss: 0.0032 - mae: 0.0577 - val_loss: 0.0021 - val_mae: 0.0469\n",
            "Epoch 36/40\n",
            "93/93 [==============================] - 1s 9ms/step - loss: 0.0032 - mae: 0.0575 - val_loss: 0.0021 - val_mae: 0.0461\n",
            "Epoch 37/40\n",
            "93/93 [==============================] - 1s 9ms/step - loss: 0.0032 - mae: 0.0573 - val_loss: 0.0021 - val_mae: 0.0459\n",
            "Epoch 38/40\n",
            "93/93 [==============================] - 1s 10ms/step - loss: 0.0032 - mae: 0.0572 - val_loss: 0.0020 - val_mae: 0.0460\n",
            "Epoch 39/40\n",
            "93/93 [==============================] - 1s 10ms/step - loss: 0.0032 - mae: 0.0571 - val_loss: 0.0020 - val_mae: 0.0457\n",
            "Epoch 40/40\n",
            "93/93 [==============================] - 1s 10ms/step - loss: 0.0031 - mae: 0.0570 - val_loss: 0.0021 - val_mae: 0.0470\n"
          ]
        },
        {
          "output_type": "execute_result",
          "data": {
            "text/plain": [
              "<keras.src.callbacks.History at 0x7d6eac591090>"
            ]
          },
          "metadata": {},
          "execution_count": 202
        }
      ]
    },
    {
      "cell_type": "code",
      "source": [
        "total_mae = 0\n",
        "i = 100\n",
        "count = 0\n",
        "for x, y in valid_set.take(i):\n",
        "    y_pred = model(x)\n",
        "    mae = np.mean(np.abs(y.numpy() - y_pred.numpy()))\n",
        "    total_mae += mae\n",
        "    count += 1\n",
        "total_mae /= count\n",
        "print(total_mae)"
      ],
      "metadata": {
        "colab": {
          "base_uri": "https://localhost:8080/"
        },
        "id": "23OEBno02FOo",
        "outputId": "864557b8-d25f-4284-c98e-5ac11935f431"
      },
      "execution_count": 224,
      "outputs": [
        {
          "output_type": "stream",
          "name": "stdout",
          "text": [
            "0.04675425466274648\n"
          ]
        }
      ]
    },
    {
      "cell_type": "markdown",
      "source": [
        "# pytorch"
      ],
      "metadata": {
        "id": "OTLk2Of0UawY"
      }
    },
    {
      "cell_type": "code",
      "source": [
        "import torch\n",
        "from torch import nn\n",
        "from torch.nn import functional as F\n",
        "from torch.utils.data import Dataset, DataLoader\n",
        "\n",
        "class TimeSeriesDataset(Dataset):\n",
        "    def __init__(self, series, window_size):\n",
        "        self.series = series\n",
        "        self.window_size = window_size\n",
        "\n",
        "    def __len__(self):\n",
        "        return len(self.series) - self.window_size\n",
        "\n",
        "    def __getitem__(self, idx):\n",
        "        X = self.series[idx : idx+self.window_size]\n",
        "        y = self.series[idx+1 : idx+1+self.window_size]\n",
        "        return X, y\n",
        "\n",
        "window_size = 30\n",
        "timeSeries_DS = TimeSeriesDataset(X_train, window_size)\n",
        "x, y = timeSeries_DS[0]"
      ],
      "metadata": {
        "id": "6SBWQxWFUce4"
      },
      "execution_count": 225,
      "outputs": []
    },
    {
      "cell_type": "code",
      "source": [
        "x"
      ],
      "metadata": {
        "colab": {
          "base_uri": "https://localhost:8080/"
        },
        "id": "64sN0skqWTYW",
        "outputId": "d8c4939e-18f2-4485-f30d-bb5feebc6f73"
      },
      "execution_count": 226,
      "outputs": [
        {
          "output_type": "execute_result",
          "data": {
            "text/plain": [
              "array([0.24284279, 0.26192868, 0.29306881, 0.23304872, 0.35585133,\n",
              "       0.34957308, 0.39678553, 0.27749874, 0.31767956, 0.31592165,\n",
              "       0.66373682, 0.35660472, 0.30688096, 0.31767956, 0.37343044,\n",
              "       0.36966349, 0.37669513, 0.41863385, 0.35735811, 0.43119036,\n",
              "       0.38171773, 0.27498744, 0.26494224, 0.31567052, 0.29306881,\n",
              "       0.18206931, 0.18960321, 0.23606228, 0.25414365, 0.21220492])"
            ]
          },
          "metadata": {},
          "execution_count": 226
        }
      ]
    },
    {
      "cell_type": "code",
      "source": [
        "timeSeries_loader = DataLoader(timeSeries_DS, batch_size=32, shuffle=True)\n",
        "x,y = next(iter(timeSeries_loader))\n",
        "x.shape, y.shape"
      ],
      "metadata": {
        "colab": {
          "base_uri": "https://localhost:8080/"
        },
        "id": "9SizrGx_iYTQ",
        "outputId": "4440bca6-0157-400e-dbf3-6d747070e7ee"
      },
      "execution_count": 227,
      "outputs": [
        {
          "output_type": "execute_result",
          "data": {
            "text/plain": [
              "(torch.Size([32, 30]), torch.Size([32, 30]))"
            ]
          },
          "metadata": {},
          "execution_count": 227
        }
      ]
    },
    {
      "cell_type": "code",
      "source": [
        "x[0,:10], y[0,:10]"
      ],
      "metadata": {
        "colab": {
          "base_uri": "https://localhost:8080/"
        },
        "id": "pgH6T1zoXyOA",
        "outputId": "92f7bee2-2c2f-4843-a55d-9b194f676795"
      },
      "execution_count": 228,
      "outputs": [
        {
          "output_type": "execute_result",
          "data": {
            "text/plain": [
              "(tensor([0.3330, 0.2722, 0.3546, 0.2941, 0.3380, 0.2504, 0.2069, 0.4915, 0.4448,\n",
              "         0.3478], dtype=torch.float64),\n",
              " tensor([0.2722, 0.3546, 0.2941, 0.3380, 0.2504, 0.2069, 0.4915, 0.4448, 0.3478,\n",
              "         0.4367], dtype=torch.float64))"
            ]
          },
          "metadata": {},
          "execution_count": 228
        }
      ]
    },
    {
      "cell_type": "code",
      "source": [
        "np.where(sunspots == x[0,0].numpy())"
      ],
      "metadata": {
        "colab": {
          "base_uri": "https://localhost:8080/"
        },
        "id": "QCQbzLZfX3M4",
        "outputId": "f1ee11d5-9e30-444c-f7cd-416d0537a0f7"
      },
      "execution_count": 229,
      "outputs": [
        {
          "output_type": "execute_result",
          "data": {
            "text/plain": [
              "(array([2617, 2749]),)"
            ]
          },
          "metadata": {},
          "execution_count": 229
        }
      ]
    },
    {
      "cell_type": "code",
      "source": [
        "sunspots[2749:2749+window_size]"
      ],
      "metadata": {
        "colab": {
          "base_uri": "https://localhost:8080/"
        },
        "id": "9qJ9iqFKYCr6",
        "outputId": "ef3c2674-6d10-4ab6-f3eb-93512f0194ab"
      },
      "execution_count": 231,
      "outputs": [
        {
          "output_type": "execute_result",
          "data": {
            "text/plain": [
              "array([0.33299849, 0.27222501, 0.35459568, 0.29407333, 0.33802109,\n",
              "       0.2503767 , 0.20693119, 0.49146158, 0.44475138, 0.34781517,\n",
              "       0.43671522, 0.59241587, 0.48895028, 0.49045706, 0.36087393,\n",
              "       0.47790055, 0.53164239, 0.5668006 , 0.50577599, 0.6702662 ,\n",
              "       0.66197891, 0.65168257, 0.62682069, 0.56780512, 0.55097941,\n",
              "       0.44876946, 0.58312406, 0.63962833, 0.5592667 , 0.48442993])"
            ]
          },
          "metadata": {},
          "execution_count": 231
        }
      ]
    },
    {
      "cell_type": "code",
      "source": [
        "# causal padding을 지원하는 conv1d 층 구현\n",
        "# 여기가 문제인 듯\n",
        "class CausalConv1d(nn.Module):\n",
        "    def __init__(self, in_channels, out_channels, kernel_size, **kwargs):\n",
        "        super().__init__()\n",
        "        self.conv = nn.Conv1d(in_channels, out_channels, kernel_size, **kwargs)\n",
        "        self.kernel_size = kernel_size\n",
        "\n",
        "    def forward(self, x):\n",
        "        # kernel_size - 1 만큼 패딩을 오른쪽(미래 데이터 측)에 추가\n",
        "        padding = (0,self.kernel_size - 1)\n",
        "        # pad has the form (padding_left,padding_right)\n",
        "        x = F.pad(x, pad=padding, mode='constant')  # 'constant'는 0으로 패딩한다는 의미\n",
        "        return self.conv(x)"
      ],
      "metadata": {
        "id": "NjeNa6lkgIoo"
      },
      "execution_count": 268,
      "outputs": []
    },
    {
      "cell_type": "code",
      "source": [
        "# 참고\n",
        "F.pad(torch.Tensor([1,2,3,4]), pad=(3,0), mode='constant')"
      ],
      "metadata": {
        "colab": {
          "base_uri": "https://localhost:8080/"
        },
        "id": "z76jRB0ZmE5R",
        "outputId": "1c330269-906b-4c1e-9176-a98da4b0f789"
      },
      "execution_count": 233,
      "outputs": [
        {
          "output_type": "execute_result",
          "data": {
            "text/plain": [
              "tensor([0., 0., 0., 1., 2., 3., 4.])"
            ]
          },
          "metadata": {},
          "execution_count": 233
        }
      ]
    },
    {
      "cell_type": "code",
      "source": [
        "# 참고\n",
        "print(x.shape)\n",
        "print(x.unsqueeze(1).shape)\n",
        "temp = CausalConv1d(in_channels=1, out_channels=60, kernel_size=5)\n",
        "x_conv = temp(x.unsqueeze(1).float())\n",
        "print(x_conv.shape)"
      ],
      "metadata": {
        "colab": {
          "base_uri": "https://localhost:8080/"
        },
        "id": "VtDk4tcBgvM0",
        "outputId": "8b53cb32-5058-4d50-bf21-963144633a24"
      },
      "execution_count": 234,
      "outputs": [
        {
          "output_type": "stream",
          "name": "stdout",
          "text": [
            "torch.Size([32, 30])\n",
            "torch.Size([32, 1, 30])\n",
            "torch.Size([32, 60, 30])\n"
          ]
        }
      ]
    },
    {
      "cell_type": "code",
      "source": [
        "# 참고\n",
        "print(x_conv.permute(0,2,1).shape)\n",
        "x_lstm1, _ = nn.LSTM(input_size=60, hidden_size=60, batch_first=True)(x_conv.permute(0,2,1))\n",
        "print(x_lstm1.shape)\n",
        "x_lstm2, _ = nn.LSTM(input_size=60, hidden_size=60, batch_first=True)(x_lstm1)\n",
        "print(x_lstm2.shape)\n",
        "x_dense1 = nn.Linear(in_features=60, out_features=30)(x_lstm2)\n",
        "print(x_dense1.shape)"
      ],
      "metadata": {
        "colab": {
          "base_uri": "https://localhost:8080/"
        },
        "id": "-_dhyAxpoDmu",
        "outputId": "a03684f8-fc3f-4e86-c7cd-a70d7971ba06"
      },
      "execution_count": 235,
      "outputs": [
        {
          "output_type": "stream",
          "name": "stdout",
          "text": [
            "torch.Size([32, 30, 60])\n",
            "torch.Size([32, 30, 60])\n",
            "torch.Size([32, 30, 60])\n",
            "torch.Size([32, 30, 30])\n"
          ]
        }
      ]
    },
    {
      "cell_type": "code",
      "source": [
        "class timeSeriesModel(nn.Module):\n",
        "    def __init__(self):\n",
        "        super().__init__()\n",
        "        self.conv1d = CausalConv1d(in_channels=1, out_channels=60, kernel_size=5)\n",
        "\n",
        "        # Note: batch_first=True makes the input and output tensors of shape (batch, seq, feature)\n",
        "        self.lstm1 = nn.LSTM(input_size=60, hidden_size=60, batch_first=True)\n",
        "        self.lstm2 = nn.LSTM(input_size=60, hidden_size=60, batch_first=True)\n",
        "        self.dense1 = nn.Linear(in_features=60, out_features=30)\n",
        "        self.dense2 = nn.Linear(in_features=30, out_features=10)\n",
        "        self.dense3 = nn.Linear(in_features=10, out_features=1)\n",
        "\n",
        "    def forward(self, x):\n",
        "        if x.dim()==2:\n",
        "            # channel\n",
        "            x = x.unsqueeze(1)\n",
        "        x = torch.relu(self.conv1d(x.float()))\n",
        "        x = x.permute(0, 2, 1)\n",
        "        x, _ = self.lstm1(x)\n",
        "        x, _ = self.lstm2(x)\n",
        "        x = torch.relu(self.dense1(x))\n",
        "        x = torch.relu(self.dense2(x))\n",
        "        x = self.dense3(x)\n",
        "\n",
        "        return x\n"
      ],
      "metadata": {
        "id": "MexBptPNYwHI"
      },
      "execution_count": 269,
      "outputs": []
    },
    {
      "cell_type": "code",
      "source": [
        "timeSeries_model = timeSeriesModel()\n",
        "x_final = timeSeries_model(x)\n",
        "x_final.shape"
      ],
      "metadata": {
        "id": "ypxRVhGwZFBA",
        "colab": {
          "base_uri": "https://localhost:8080/"
        },
        "outputId": "43a96f91-603d-48b8-d458-c1b2d6ad9010"
      },
      "execution_count": 270,
      "outputs": [
        {
          "output_type": "execute_result",
          "data": {
            "text/plain": [
              "torch.Size([32, 30, 1])"
            ]
          },
          "metadata": {},
          "execution_count": 270
        }
      ]
    },
    {
      "cell_type": "code",
      "source": [
        "train_DS = TimeSeriesDataset(X_train, window_size)\n",
        "train_loader = DataLoader(train_DS, batch_size=32, shuffle=True)\n",
        "val_DS = TimeSeriesDataset(X_valid, window_size)\n",
        "val_loader = DataLoader(val_DS, batch_size=32, shuffle=True)"
      ],
      "metadata": {
        "id": "P6MRnxXYw5Le"
      },
      "execution_count": 271,
      "outputs": []
    },
    {
      "cell_type": "code",
      "source": [
        "device = torch.device('cuda:0' if torch.cuda.is_available() else 'cpu')\n",
        "timeSeries_model.to(device)\n",
        "optimizer = torch.optim.SGD(timeSeries_model.parameters(), lr=1e-5, momentum=0.9)\n",
        "criterion = nn.HuberLoss().to(device)"
      ],
      "metadata": {
        "id": "H75RjSv9ZYX5"
      },
      "execution_count": 272,
      "outputs": []
    },
    {
      "cell_type": "code",
      "source": [
        "epochs = 40\n",
        "for epoch in range(epochs):\n",
        "    train_loss = 0\n",
        "    train_mae = 0\n",
        "    timeSeries_model.train()\n",
        "    for inputs, targets in train_loader:\n",
        "        inputs = inputs.float().to(device)\n",
        "        targets = targets.float().to(device)\n",
        "        outputs = timeSeries_model(inputs).squeeze()\n",
        "        loss = criterion(outputs, targets)\n",
        "        optimizer.zero_grad()\n",
        "        loss.backward()\n",
        "        optimizer.step()\n",
        "        train_loss +=  loss.item() * inputs.size(0)\n",
        "        train_mae += torch.mean(torch.abs(targets - outputs)) * inputs.size(0)\n",
        "    train_loss /= len(train_DS)\n",
        "    train_mae /= len(train_DS)\n",
        "\n",
        "\n",
        "    val_loss = 0\n",
        "    val_mae = 0\n",
        "    timeSeries_model.eval()\n",
        "    with torch.no_grad():\n",
        "        for inputs, targets in val_loader:\n",
        "            inputs = inputs.float().to(device)\n",
        "            targets = targets.float().to(device)\n",
        "            outputs = timeSeries_model(inputs).squeeze()\n",
        "            loss = criterion(outputs, targets)\n",
        "            val_loss += loss.item() * inputs.size(0)\n",
        "            val_mae += torch.mean(torch.abs(targets - outputs)) * inputs.size(0)\n",
        "    val_loss /= len(val_DS)\n",
        "    val_mae /= len(val_DS)\n",
        "\n",
        "    print(f'''Epoch {epoch+1}/{epochs}, Train Loss: {train_loss:.6f}, Train MAE: {train_mae:.6f},Val Loss: {val_loss:.6f}, Val MAE: {val_mae:.6f}''')"
      ],
      "metadata": {
        "colab": {
          "base_uri": "https://localhost:8080/"
        },
        "id": "Hw5F7f4jZYVr",
        "outputId": "b8cccd34-9e6d-4128-838f-7a2c3a9510e8"
      },
      "execution_count": 273,
      "outputs": [
        {
          "output_type": "stream",
          "name": "stdout",
          "text": [
            "Epoch 1/40, Train Loss: 0.015806, Train MAE: 0.136988,Val Loss: 0.010059, Val MAE: 0.114591\n",
            "Epoch 2/40, Train Loss: 0.015786, Train MAE: 0.136973,Val Loss: 0.010052, Val MAE: 0.114612\n",
            "Epoch 3/40, Train Loss: 0.015767, Train MAE: 0.136961,Val Loss: 0.010046, Val MAE: 0.114637\n",
            "Epoch 4/40, Train Loss: 0.015749, Train MAE: 0.136957,Val Loss: 0.010040, Val MAE: 0.114663\n",
            "Epoch 5/40, Train Loss: 0.015731, Train MAE: 0.136946,Val Loss: 0.010034, Val MAE: 0.114687\n",
            "Epoch 6/40, Train Loss: 0.015713, Train MAE: 0.136939,Val Loss: 0.010029, Val MAE: 0.114715\n",
            "Epoch 7/40, Train Loss: 0.015695, Train MAE: 0.136929,Val Loss: 0.010024, Val MAE: 0.114747\n",
            "Epoch 8/40, Train Loss: 0.015678, Train MAE: 0.136924,Val Loss: 0.010019, Val MAE: 0.114782\n",
            "Epoch 9/40, Train Loss: 0.015662, Train MAE: 0.136920,Val Loss: 0.010014, Val MAE: 0.114818\n",
            "Epoch 10/40, Train Loss: 0.015645, Train MAE: 0.136913,Val Loss: 0.010009, Val MAE: 0.114852\n",
            "Epoch 11/40, Train Loss: 0.015629, Train MAE: 0.136909,Val Loss: 0.010005, Val MAE: 0.114887\n",
            "Epoch 12/40, Train Loss: 0.015613, Train MAE: 0.136903,Val Loss: 0.010001, Val MAE: 0.114922\n",
            "Epoch 13/40, Train Loss: 0.015598, Train MAE: 0.136902,Val Loss: 0.009997, Val MAE: 0.114956\n",
            "Epoch 14/40, Train Loss: 0.015583, Train MAE: 0.136901,Val Loss: 0.009993, Val MAE: 0.114991\n",
            "Epoch 15/40, Train Loss: 0.015568, Train MAE: 0.136896,Val Loss: 0.009990, Val MAE: 0.115024\n",
            "Epoch 16/40, Train Loss: 0.015553, Train MAE: 0.136895,Val Loss: 0.009986, Val MAE: 0.115057\n",
            "Epoch 17/40, Train Loss: 0.015539, Train MAE: 0.136896,Val Loss: 0.009983, Val MAE: 0.115091\n",
            "Epoch 18/40, Train Loss: 0.015525, Train MAE: 0.136891,Val Loss: 0.009980, Val MAE: 0.115122\n",
            "Epoch 19/40, Train Loss: 0.015511, Train MAE: 0.136896,Val Loss: 0.009977, Val MAE: 0.115156\n",
            "Epoch 20/40, Train Loss: 0.015498, Train MAE: 0.136893,Val Loss: 0.009975, Val MAE: 0.115186\n",
            "Epoch 21/40, Train Loss: 0.015485, Train MAE: 0.136893,Val Loss: 0.009972, Val MAE: 0.115218\n",
            "Epoch 22/40, Train Loss: 0.015472, Train MAE: 0.136893,Val Loss: 0.009970, Val MAE: 0.115249\n",
            "Epoch 23/40, Train Loss: 0.015459, Train MAE: 0.136900,Val Loss: 0.009968, Val MAE: 0.115281\n",
            "Epoch 24/40, Train Loss: 0.015447, Train MAE: 0.136902,Val Loss: 0.009966, Val MAE: 0.115312\n",
            "Epoch 25/40, Train Loss: 0.015435, Train MAE: 0.136901,Val Loss: 0.009964, Val MAE: 0.115342\n",
            "Epoch 26/40, Train Loss: 0.015423, Train MAE: 0.136905,Val Loss: 0.009962, Val MAE: 0.115372\n",
            "Epoch 27/40, Train Loss: 0.015411, Train MAE: 0.136908,Val Loss: 0.009960, Val MAE: 0.115404\n",
            "Epoch 28/40, Train Loss: 0.015400, Train MAE: 0.136906,Val Loss: 0.009959, Val MAE: 0.115435\n",
            "Epoch 29/40, Train Loss: 0.015389, Train MAE: 0.136910,Val Loss: 0.009957, Val MAE: 0.115467\n",
            "Epoch 30/40, Train Loss: 0.015378, Train MAE: 0.136917,Val Loss: 0.009956, Val MAE: 0.115501\n",
            "Epoch 31/40, Train Loss: 0.015367, Train MAE: 0.136920,Val Loss: 0.009955, Val MAE: 0.115535\n",
            "Epoch 32/40, Train Loss: 0.015357, Train MAE: 0.136923,Val Loss: 0.009954, Val MAE: 0.115570\n",
            "Epoch 33/40, Train Loss: 0.015346, Train MAE: 0.136927,Val Loss: 0.009953, Val MAE: 0.115603\n",
            "Epoch 34/40, Train Loss: 0.015336, Train MAE: 0.136932,Val Loss: 0.009952, Val MAE: 0.115638\n",
            "Epoch 35/40, Train Loss: 0.015326, Train MAE: 0.136935,Val Loss: 0.009951, Val MAE: 0.115671\n",
            "Epoch 36/40, Train Loss: 0.015317, Train MAE: 0.136942,Val Loss: 0.009951, Val MAE: 0.115704\n",
            "Epoch 37/40, Train Loss: 0.015307, Train MAE: 0.136945,Val Loss: 0.009950, Val MAE: 0.115738\n",
            "Epoch 38/40, Train Loss: 0.015298, Train MAE: 0.136954,Val Loss: 0.009950, Val MAE: 0.115771\n",
            "Epoch 39/40, Train Loss: 0.015289, Train MAE: 0.136958,Val Loss: 0.009950, Val MAE: 0.115802\n",
            "Epoch 40/40, Train Loss: 0.015280, Train MAE: 0.136963,Val Loss: 0.009949, Val MAE: 0.115833\n"
          ]
        }
      ]
    },
    {
      "cell_type": "code",
      "source": [
        "total_mae = 0\n",
        "counts = 0\n",
        "for inputs, targets in val_loader:\n",
        "    inputs = inputs.float().to(device)\n",
        "    targets = targets.float().to(device)\n",
        "    outputs = timeSeries_model(inputs).squeeze()\n",
        "    mae = np.mean(np.abs(targets.cpu().detach().numpy() - outputs.detach().cpu().numpy()))\n",
        "    total_mae += mae\n",
        "    counts += 1\n",
        "total_mae /= count\n",
        "print(total_mae)"
      ],
      "metadata": {
        "colab": {
          "base_uri": "https://localhost:8080/"
        },
        "id": "r4VDBoKi4IBX",
        "outputId": "21655c17-3bb0-4919-e33c-1aa22ac2d3d8"
      },
      "execution_count": 267,
      "outputs": [
        {
          "output_type": "stream",
          "name": "stdout",
          "text": [
            "0.13647895199911936\n"
          ]
        }
      ]
    },
    {
      "cell_type": "code",
      "source": [],
      "metadata": {
        "id": "BE3uo-hBZYMV"
      },
      "execution_count": null,
      "outputs": []
    },
    {
      "cell_type": "code",
      "source": [
        "import zipfile\n",
        "\n",
        "url = 'https://storage.googleapis.com/download.tensorflow.org/data/certificate/household_power.zip'\n",
        "urllib.request.urlretrieve(url, 'household_power.zip')\n",
        "with zipfile.ZipFile('household_power.zip', 'r') as zip_ref:\n",
        "    zip_ref.extractall()\n",
        "hepc = pd.read_csv('household_power_consumption.csv')\n",
        "hepc.head()"
      ],
      "metadata": {
        "id": "PdxCHgrQZYJ_"
      },
      "execution_count": null,
      "outputs": []
    }
  ]
}