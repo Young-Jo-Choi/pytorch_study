{
 "cells": [
  {
   "attachments": {},
   "cell_type": "markdown",
   "metadata": {},
   "source": [
    "API  : https://pypi.org/project/pytorch-tabnet/<br>\n",
    "document : https://dreamquark-ai.github.io/tabnet/"
   ]
  },
  {
   "cell_type": "code",
   "execution_count": null,
   "metadata": {},
   "outputs": [],
   "source": [
    "!pip install pytorch_tabnet"
   ]
  },
  {
   "cell_type": "code",
   "execution_count": 1,
   "metadata": {},
   "outputs": [],
   "source": [
    "from pytorch_tabnet.tab_model import TabNetClassifier"
   ]
  },
  {
   "cell_type": "code",
   "execution_count": 2,
   "metadata": {},
   "outputs": [],
   "source": [
    "import torch\n",
    "import numpy as np\n",
    "import pandas as pd\n",
    "from tqdm.auto import tqdm\n",
    "from warnings import filterwarnings\n",
    "filterwarnings('ignore')"
   ]
  },
  {
   "cell_type": "code",
   "execution_count": 6,
   "metadata": {},
   "outputs": [
    {
     "name": "stdout",
     "output_type": "stream",
     "text": [
      "shape :  (283, 76) (283, 1)\n",
      "type :  <class 'pandas.core.frame.DataFrame'> <class 'pandas.core.frame.DataFrame'>\n"
     ]
    }
   ],
   "source": [
    "# 새롭게 불러들임\n",
    "X_train = pd.read_csv('./X_train.csv')\n",
    "X_val = pd.read_csv('./X_test.csv')\n",
    "y_train = pd.read_csv('./y_train.csv')\n",
    "y_val = pd.read_csv('./y_test.csv')\n",
    "\n",
    "X = pd.concat([X_train, X_val])\n",
    "y = pd.concat([y_train, y_val])\n",
    "print('shape : ', X.shape, y.shape)\n",
    "print('type : ', type(X), type(y))"
   ]
  },
  {
   "cell_type": "code",
   "execution_count": 8,
   "metadata": {},
   "outputs": [],
   "source": [
    "# 원래 결측치를 -1로 채웠었는데, 이를 np.nan으로 바꿔줌\n",
    "X = X.applymap(lambda x: np.nan if x == -1 else x)"
   ]
  },
  {
   "cell_type": "code",
   "execution_count": 17,
   "metadata": {},
   "outputs": [
    {
     "data": {
      "application/vnd.jupyter.widget-view+json": {
       "model_id": "3cc655e6350f4399a5373657b5891fa3",
       "version_major": 2,
       "version_minor": 0
      },
      "text/plain": [
       "0it [00:00, ?it/s]"
      ]
     },
     "metadata": {},
     "output_type": "display_data"
    }
   ],
   "source": [
    "from sklearn.metrics import accuracy_score, f1_score, precision_score, recall_score, roc_auc_score\n",
    "from sklearn.model_selection import StratifiedKFold\n",
    "from sklearn.utils import class_weight\n",
    "\n",
    "cv = StratifiedKFold(n_splits=10, shuffle=True, random_state=42)\n",
    "\n",
    "y_test_all = np.array([])\n",
    "y_test_proba_all = np.empty((0, 4))\n",
    "for train_idx, test_idx in tqdm(cv.split(X, y)):\n",
    "    # train-test split\n",
    "    X_train = X.iloc[train_idx]\n",
    "    X_test = X.iloc[test_idx]\n",
    "    y_train = y.iloc[train_idx]\n",
    "    y_test = y.iloc[test_idx]\n",
    "    classes_weights = class_weight.compute_sample_weight(class_weight='balanced', y=y_train)\n",
    "\n",
    "    # imputation\n",
    "    X_train_mean = X_train.mean()\n",
    "    X_train = X_train.fillna(X_train_mean)\n",
    "    X_test = X_test.fillna(X_train_mean)\n",
    "\n",
    "    # over sampling <- tabnet은 데이터셋이 너무 작으면 동작하지 않음 \n",
    "    # (경험적으로 1000~1500개 이상)\n",
    "    # tabnet API에는 pandas DataFrame이 아닌 numpy array를 넣어야 함\n",
    "    X_train_repeat = np.repeat(X_train.values, 20, axis=0)\n",
    "    y_train_repeat = np.repeat(y_train.values, 20, axis=0)\n",
    "\n",
    "    # train\n",
    "    # early stop, \n",
    "    clf = TabNetClassifier(device_name = 'cuda:0', verbose=0)\n",
    "    clf.weight_updater(weights=classes_weights)\n",
    "    clf.fit(X_train_repeat, y_train_repeat.ravel())\n",
    "\n",
    "    # predict\n",
    "    y_proba = clf.predict_proba(X_test.values)\n",
    "\n",
    "    y_test_all = np.concatenate([y_test_all, y_test.values.ravel()], axis=None)\n",
    "    y_test_proba_all = np.concatenate([y_test_proba_all, y_proba], axis=0)"
   ]
  },
  {
   "cell_type": "code",
   "execution_count": 20,
   "metadata": {},
   "outputs": [
    {
     "name": "stdout",
     "output_type": "stream",
     "text": [
      "Precision :  0.8042787178978943\n",
      "Recall :  0.8091872791519434\n",
      "F1 score :  0.8010000992333148\n",
      "auc_ovr :  0.8817006727158294\n",
      "acc :  0.8091872791519434\n"
     ]
    }
   ],
   "source": [
    "from sklearn.metrics import precision_score, recall_score, f1_score, roc_auc_score, accuracy_score\n",
    "print('Precision : ',precision_score(y_test_all, y_test_proba_all.argmax(axis=1), average='weighted'))\n",
    "print('Recall : ',recall_score(y_test_all, y_test_proba_all.argmax(axis=1), average='weighted'))\n",
    "print('F1 score : ',f1_score(y_test_all, y_test_proba_all.argmax(axis=1), average='weighted'))\n",
    "print('auc_ovr : ',roc_auc_score(y_test_all, y_test_proba_all, multi_class='ovr', average='weighted'))\n",
    "print('acc : ',accuracy_score(y_test_all, y_test_proba_all.argmax(axis=1)))\n"
   ]
  }
 ],
 "metadata": {
  "kernelspec": {
   "display_name": "choi",
   "language": "python",
   "name": "python3"
  },
  "language_info": {
   "codemirror_mode": {
    "name": "ipython",
    "version": 3
   },
   "file_extension": ".py",
   "mimetype": "text/x-python",
   "name": "python",
   "nbconvert_exporter": "python",
   "pygments_lexer": "ipython3",
   "version": "3.8.0"
  },
  "orig_nbformat": 4
 },
 "nbformat": 4,
 "nbformat_minor": 2
}
