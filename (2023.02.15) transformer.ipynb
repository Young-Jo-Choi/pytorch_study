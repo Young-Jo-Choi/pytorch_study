{
 "cells": [
  {
   "cell_type": "markdown",
   "metadata": {},
   "source": [
    "pytorch 튜토리얼의 데이터 전처리를 따름<br>\n",
    "(https://tutorials.pytorch.kr/beginner/transformer_tutorial.html)"
   ]
  },
  {
   "cell_type": "code",
   "execution_count": 1,
   "metadata": {},
   "outputs": [],
   "source": [
    "from pathlib import Path\n",
    "\n",
    "IMAGES_PATH = Path() / \"images\" / \"nlp\"\n",
    "IMAGES_PATH.mkdir(parents=True, exist_ok=True)"
   ]
  },
  {
   "cell_type": "code",
   "execution_count": null,
   "metadata": {},
   "outputs": [],
   "source": [
    "# 데이터만 keras에서 받아오기\n",
    "import tensorflow as tf\n",
    "url = \"https://storage.googleapis.com/download.tensorflow.org/data/spa-eng.zip\"\n",
    "path = tf.keras.utils.get_file(\"spa-eng.zip\", origin=url, cache_dir=\"datasets\",\n",
    "                               extract=True)\n",
    "text = (Path(path).with_name(\"spa-eng\") / \"spa.txt\").read_text()"
   ]
  },
  {
   "cell_type": "code",
   "execution_count": 3,
   "metadata": {},
   "outputs": [
    {
     "data": {
      "text/plain": [
       "'Go.\\tVe.\\nGo.\\tVete.\\nGo.\\tVaya.\\nGo.\\tVáyase.\\nHi.\\tHola.\\nRun!\\t¡Corre!\\nRun.\\tCorred.\\nWho?\\t¿Quién?\\nFire!\\t¡Fueg'"
      ]
     },
     "execution_count": 3,
     "metadata": {},
     "output_type": "execute_result"
    }
   ],
   "source": [
    "text[:100]"
   ]
  },
  {
   "cell_type": "code",
   "execution_count": 4,
   "metadata": {},
   "outputs": [],
   "source": [
    "import numpy as np\n",
    "\n",
    "text = text.replace(\"¡\", \"\").replace(\"¿\", \"\")\n",
    "pairs = [line.split(\"\\t\") for line in text.splitlines()]\n",
    "np.random.seed(42)  # extra code – ensures reproducibility on CPU\n",
    "np.random.shuffle(pairs)\n",
    "sentences_en, sentences_es = zip(*pairs)  # separates the pairs into 2 lists"
   ]
  },
  {
   "cell_type": "code",
   "execution_count": 5,
   "metadata": {},
   "outputs": [
    {
     "name": "stdout",
     "output_type": "stream",
     "text": [
      "How boring! => Qué aburrimiento!\n",
      "I love sports. => Adoro el deporte.\n",
      "Would you like to swap jobs? => Te gustaría que intercambiemos los trabajos?\n"
     ]
    }
   ],
   "source": [
    "for i in range(3):\n",
    "    print(sentences_en[i], \"=>\", sentences_es[i])"
   ]
  },
  {
   "cell_type": "code",
   "execution_count": 6,
   "metadata": {},
   "outputs": [
    {
     "name": "stdout",
     "output_type": "stream",
     "text": [
      "영어문장 :   !\"$%'+,-./0123456789:;?ABCDEFGHIJKLMNOPQRSTUVWXYZabcdefghijklmnopqrstuvwxyz°áãèéêóöüč‘’₂€\n",
      "스페인어문장 :   !\"$%&'()+,-./0123456789:;?ABCDEFGHIJKLMNOPQRSTUVWXYZabcdefghijklmnopqrstuvwxyz ¨ª«°º»ÁÉÍÓÚáåèéêíñóöúüčśс​—₂€\n"
     ]
    }
   ],
   "source": [
    "# 글자모음\n",
    "print('영어문장 : ', ''.join(sorted(''.join(set(''.join(sentences_en))))))\n",
    "print('스페인어문장 : ', ''.join(sorted(''.join(set(''.join(sentences_es))))))\n"
   ]
  },
  {
   "cell_type": "code",
   "execution_count": 7,
   "metadata": {},
   "outputs": [],
   "source": [
    "# puctuation을 제거 후 진행\n",
    "import string\n",
    "def delete_puctuation(text, punc=string.punctuation):\n",
    "    return text.translate(str.maketrans(\"\", \"\", punc))"
   ]
  },
  {
   "cell_type": "code",
   "execution_count": 8,
   "metadata": {},
   "outputs": [],
   "source": [
    "punc_en = string.punctuation+'°áãèéêóöüč‘’₂€'\n",
    "punc_es = string.punctuation+'¨ª«°º»åèêöüč​—₂€'\n",
    "\n",
    "word_list_en = [delete_puctuation(doc,punc_en).strip().split() for doc in sentences_en]\n",
    "word_list_es = [delete_puctuation(doc,punc_es).strip().split() for doc in sentences_es]"
   ]
  },
  {
   "cell_type": "code",
   "execution_count": 14,
   "metadata": {},
   "outputs": [],
   "source": [
    "word_list_es_input = [['<SOS>'] + doc for doc in word_list_es]\n",
    "word_list_es_output = [doc +['<EOS>'] for doc in word_list_es]"
   ]
  },
  {
   "cell_type": "code",
   "execution_count": 12,
   "metadata": {},
   "outputs": [
    {
     "name": "stdout",
     "output_type": "stream",
     "text": [
      "f89nvY1RhkO5KVJQmj0tDSwbgNio3MuB4FsZPpq2xAIdGU6HTL7cyWazXElCre\n",
      "f8óñ9nvY1RhkVO5KJQmíjÉ0tDSwbgNio3MuéBÚ4FáśsZсPpq2xAIdÁGÓU6ÍHTL7cayzWXElCúre\n"
     ]
    }
   ],
   "source": [
    "print(''.join(set(''.join(np.concatenate(word_list_en)))))\n",
    "print(''.join(set(''.join(np.concatenate(word_list_es)))))"
   ]
  },
  {
   "cell_type": "code",
   "execution_count": 22,
   "metadata": {},
   "outputs": [],
   "source": [
    "# 모든 단어에 인덱스 부여 (??)\n",
    "en_dict = dict(zip(np.unique(np.concatenate(word_list_en)), range(1, 1+len(np.unique(np.concatenate(word_list_en))))))\n",
    "es_dict = dict(zip(np.unique(np.concatenate(word_list_es+[['<SOS>','<EOS>']])), range(1, 3+len(np.unique(np.concatenate(word_list_es))))))"
   ]
  },
  {
   "cell_type": "code",
   "execution_count": 23,
   "metadata": {},
   "outputs": [
    {
     "name": "stdout",
     "output_type": "stream",
     "text": [
      "[['How', 'boring'], ['I', 'love', 'sports'], ['Would', 'you', 'like', 'to', 'swap', 'jobs'], ['My', 'mother', 'did', 'nothing', 'but', 'weep'], ['Croatia', 'is', 'in', 'the', 'southeastern', 'part', 'of', 'Europe']]\n",
      "[[1478, 4423], [1500, 9485, 13200], [3165, 15243, 9352, 14108, 13686, 9007], [1997, 9989, 6204, 10266, 4663, 14945], [861, 8954, 8650, 13949, 13097, 10672, 10358, 1097]]\n"
     ]
    }
   ],
   "source": [
    "en_mapping = lambda x: [en_dict[word] for word in x]\n",
    "es_mapping = lambda x: [es_dict[word] for word in x]\n",
    "\n",
    "print(word_list_en[:5])\n",
    "print([en_mapping(x) for x in word_list_en[:5]])"
   ]
  },
  {
   "cell_type": "code",
   "execution_count": 24,
   "metadata": {},
   "outputs": [],
   "source": [
    "def pad_sequence(word_list, max_len, lang='en'):\n",
    "    try:\n",
    "        if lang == 'en':\n",
    "            x = np.asarray(en_mapping(word_list))\n",
    "        elif lang == 'es':\n",
    "            x = np.asarray(es_mapping(word_list))\n",
    "    except:\n",
    "        print(word_list)\n",
    "    if len(x) < max_len:\n",
    "        x = np.concatenate([np.zeros(max_len - len(x)), x])\n",
    "    return x[len(x) - max_len:]"
   ]
  },
  {
   "cell_type": "code",
   "execution_count": 25,
   "metadata": {},
   "outputs": [],
   "source": [
    "max_length = 50\n",
    "vec_list_en = np.array(list(map(lambda x:pad_sequence(x,max_length,'en'),word_list_en)))\n",
    "vec_list_es_input = np.array(list(map(lambda x:pad_sequence(x,max_length,'es'),word_list_es_input)))\n",
    "vec_list_es_output = np.array(list(map(lambda x:pad_sequence(x,max_length,'es'),word_list_es_output)))\n"
   ]
  },
  {
   "cell_type": "code",
   "execution_count": 26,
   "metadata": {},
   "outputs": [],
   "source": [
    "# decoder의 입력은 <start>로 시작\n",
    "# decoder의 출력은 <end>로 끝\n",
    "X_train_enc = vec_list_en[:10000]\n",
    "X_test_enc = vec_list_en[10000:]\n",
    "X_train_dec = vec_list_es_input[:10000]\n",
    "X_test_dec = vec_list_es_input[10000:]\n",
    "y_train_dec = vec_list_es_output[:10000]\n",
    "y_test_dec = vec_list_es_output[10000:]"
   ]
  },
  {
   "cell_type": "markdown",
   "metadata": {},
   "source": [
    "# Encoder"
   ]
  },
  {
   "cell_type": "code",
   "execution_count": 28,
   "metadata": {},
   "outputs": [],
   "source": [
    "import torch\n",
    "from torch import nn\n",
    "from torch.nn import functional as F\n",
    "from torch.utils.data import DataLoader, Dataset\n",
    "from torch.optim import Adam"
   ]
  },
  {
   "cell_type": "code",
   "execution_count": 29,
   "metadata": {},
   "outputs": [],
   "source": [
    "# sine/cosine positional encoding\n",
    "class PositionalEncoding(nn.Module):\n",
    "    def __init__(self, max_len, embed_size, dtype=torch.float32, **kwargs):\n",
    "        super().__init__(**kwargs)\n",
    "        p,i = torch.meshgrid(torch.arange(max_len), 2*torch.arange(embed_size//2))\n",
    "        self.pos_emb = torch.zeros(1, max_len, embed_size)\n",
    "        self.pos_emb[:, :, 0::2] = torch.sin(p / 10_000 ** (i / embed_size))\n",
    "        self.pos_emb[:, :, 1::2] = torch.cos(p / 10_000 ** (i / embed_size))\n",
    "        self.pos_emb = self.pos_emb.type(dtype)\n",
    "\n",
    "    def forward(self, x):\n",
    "        _, batch_max_length = x.size()\n",
    "        return self.pos_emb[:,:batch_max_length, :]\n",
    "        \n",
    "class TokenAndPositionEmbedding(nn.Module):\n",
    "    def __init__(self, maxlen, vocab_size, embed_dim):\n",
    "        super().__init__()\n",
    "        self.token_emb = nn.Embedding(vocab_size, embed_dim)\n",
    "        self.pos_emb = PositionalEncoding(maxlen, embed_dim)\n",
    "        # 논문에서처럼 고정된 positional embedding을 사용하지 않고 학습 가능한 embedding을 사용할 경우\n",
    "        # self.pos_emb = nn.Embedding(maxlen, embed_dim)\n",
    "        \n",
    "    def forward(self, x):\n",
    "        maxlen = x.shape[-1]\n",
    "        positions = torch.arange(start=0, end=maxlen, dtype=torch.long)\n",
    "        # 다음 부분이 없으면 position은 model.to(device) 해도 gpu로 넘어가지 않음\n",
    "        positions = positions.to(x.device)\n",
    "        positions = positions.unsqueeze(0).expand(x.shape)\n",
    "        x = self.token_emb(x) + self.pos_emb(positions).to(x.device)\n",
    "        return x\n",
    "        \n",
    "class TransformerBlock(nn.Module):\n",
    "    def __init__(self, embed_dim, heads, ff_dim, dropout=0.1):\n",
    "        super().__init__()\n",
    "        self.attention = nn.MultiheadAttention(embed_dim, heads, dropout=dropout)\n",
    "        self.norm1 = nn.LayerNorm(embed_dim)\n",
    "        self.norm2 = nn.LayerNorm(embed_dim)\n",
    "        self.ff = nn.Sequential(\n",
    "            nn.Linear(embed_dim, ff_dim),\n",
    "            nn.ReLU(),\n",
    "            nn.Linear(ff_dim, embed_dim),\n",
    "        )\n",
    "        self.dropout1 = nn.Dropout(dropout)\n",
    "        self.dropout2 = nn.Dropout(dropout)\n",
    "    def forward(self, x):\n",
    "        # MultiheadAttention의 forward : (query, key, value) -> (output, output_weights)\n",
    "        attn_output = self.attention(x, x, x)[0]\n",
    "        attn_output = self.dropout1(attn_output)\n",
    "        out1 = self.norm1(x + attn_output)\n",
    "        ff_output = self.ff(out1)\n",
    "        ff_output = self.dropout2(ff_output)\n",
    "        out2 = self.norm2(out1 + ff_output)\n",
    "        return out2"
   ]
  },
  {
   "cell_type": "code",
   "execution_count": 41,
   "metadata": {},
   "outputs": [],
   "source": [
    "# transformer block의 stack = 1\n",
    "class Encoder(nn.Module):\n",
    "    def __init__(self,maxlen,vocab_size,embed_dim,num_heads,ff_dim,stack=6,hidden_dim=20,dropout=0.1):\n",
    "        super().__init__()\n",
    "        self.embedding_layer = TokenAndPositionEmbedding(maxlen,vocab_size,embed_dim)\n",
    "        self.transformer_block = TransformerBlock(embed_dim,num_heads,ff_dim)\n",
    "        self.first_linear = nn.Linear(embed_dim,hidden_dim)\n",
    "        self.last_linear = nn.Linear(hidden_dim,2)\n",
    "        self.stack = stack\n",
    "        self.dropout = nn.Dropout(dropout)\n",
    "\n",
    "    def forward(self,x):\n",
    "        x = self.embedding_layer(x)\n",
    "        for _ in range(self.stack):\n",
    "            x = self.transformer_block(x)\n",
    "        x = torch.mean(x, dim=1)   # global average pooling\n",
    "        x = self.dropout(x)\n",
    "        x = self.first_linear(x)\n",
    "        x = F.relu(x)\n",
    "        x = self.dropout(x)\n",
    "        x = self.last_linear(x)\n",
    "        return x"
   ]
  },
  {
   "cell_type": "code",
   "execution_count": 42,
   "metadata": {},
   "outputs": [],
   "source": [
    "vocab_size = 1+len(np.unique(np.concatenate(word_list_en)))\n",
    "encoder = Encoder(maxlen=50, vocab_size=vocab_size, stack=2, embed_dim=128, num_heads=8, ff_dim=512, hidden_dim=20, dropout=0.1)"
   ]
  },
  {
   "cell_type": "code",
   "execution_count": 43,
   "metadata": {},
   "outputs": [
    {
     "data": {
      "text/plain": [
       "(10000, 50)"
      ]
     },
     "execution_count": 43,
     "metadata": {},
     "output_type": "execute_result"
    }
   ],
   "source": [
    "X_train_enc.shape"
   ]
  },
  {
   "cell_type": "code",
   "execution_count": 44,
   "metadata": {},
   "outputs": [],
   "source": [
    "encoded = encoder(torch.Tensor(X_train_enc[:15]).long())"
   ]
  },
  {
   "cell_type": "code",
   "execution_count": 45,
   "metadata": {},
   "outputs": [
    {
     "data": {
      "text/plain": [
       "torch.Size([15, 2])"
      ]
     },
     "execution_count": 45,
     "metadata": {},
     "output_type": "execute_result"
    }
   ],
   "source": [
    "encoded.shape"
   ]
  },
  {
   "cell_type": "code",
   "execution_count": null,
   "metadata": {},
   "outputs": [],
   "source": []
  },
  {
   "cell_type": "code",
   "execution_count": null,
   "metadata": {},
   "outputs": [],
   "source": []
  },
  {
   "cell_type": "code",
   "execution_count": null,
   "metadata": {},
   "outputs": [],
   "source": []
  },
  {
   "cell_type": "code",
   "execution_count": null,
   "metadata": {},
   "outputs": [],
   "source": []
  },
  {
   "cell_type": "code",
   "execution_count": null,
   "metadata": {},
   "outputs": [],
   "source": []
  },
  {
   "cell_type": "code",
   "execution_count": null,
   "metadata": {},
   "outputs": [],
   "source": []
  },
  {
   "cell_type": "code",
   "execution_count": null,
   "metadata": {},
   "outputs": [],
   "source": []
  }
 ],
 "metadata": {
  "kernelspec": {
   "display_name": "Python 3.8.13 ('choi': conda)",
   "language": "python",
   "name": "python3"
  },
  "language_info": {
   "codemirror_mode": {
    "name": "ipython",
    "version": 3
   },
   "file_extension": ".py",
   "mimetype": "text/x-python",
   "name": "python",
   "nbconvert_exporter": "python",
   "pygments_lexer": "ipython3",
   "version": "3.8.13"
  },
  "orig_nbformat": 4,
  "vscode": {
   "interpreter": {
    "hash": "1f1ea343d18a0e98dbd50f4a3341f5f39bd7be7d912eea72d8401c1237c2e901"
   }
  }
 },
 "nbformat": 4,
 "nbformat_minor": 2
}
