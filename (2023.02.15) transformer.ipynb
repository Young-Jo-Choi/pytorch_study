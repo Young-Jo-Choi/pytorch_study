{
 "cells": [
  {
   "cell_type": "markdown",
   "metadata": {},
   "source": [
    "# Tensorflow Encoder와 Decoder 구현해보기\n",
    "미흡한 사항\n",
    "- 텍스트에 대해 vocab_size를 지정하지 않음\n",
    "- 모델의 masking 처리를 제대로 해야"
   ]
  },
  {
   "cell_type": "code",
   "execution_count": null,
   "metadata": {},
   "outputs": [],
   "source": [
    "# 데이터만 keras에서 받아오기\n",
    "import tensorflow as tf\n",
    "url = \"https://storage.googleapis.com/download.tensorflow.org/data/spa-eng.zip\"\n",
    "path = tf.keras.utils.get_file(\"spa-eng.zip\", origin=url, cache_dir=\"datasets\",\n",
    "                               extract=True)\n",
    "text = (Path(path).with_name(\"spa-eng\") / \"spa.txt\").read_text()"
   ]
  },
  {
   "cell_type": "code",
   "execution_count": 3,
   "metadata": {},
   "outputs": [
    {
     "data": {
      "text/plain": [
       "'Go.\\tVe.\\nGo.\\tVete.\\nGo.\\tVaya.\\nGo.\\tVáyase.\\nHi.\\tHola.\\nRun!\\t¡Corre!\\nRun.\\tCorred.\\nWho?\\t¿Quién?\\nFire!\\t¡Fueg'"
      ]
     },
     "execution_count": 3,
     "metadata": {},
     "output_type": "execute_result"
    }
   ],
   "source": [
    "text[:100]"
   ]
  },
  {
   "cell_type": "code",
   "execution_count": 4,
   "metadata": {},
   "outputs": [],
   "source": [
    "import numpy as np\n",
    "\n",
    "text = text.replace(\"¡\", \"\").replace(\"¿\", \"\")\n",
    "pairs = [line.split(\"\\t\") for line in text.splitlines()]\n",
    "np.random.seed(42)  # extra code – ensures reproducibility on CPU\n",
    "np.random.shuffle(pairs)\n",
    "sentences_en, sentences_es = zip(*pairs)  # separates the pairs into 2 lists"
   ]
  },
  {
   "cell_type": "code",
   "execution_count": 5,
   "metadata": {},
   "outputs": [
    {
     "name": "stdout",
     "output_type": "stream",
     "text": [
      "How boring! => Qué aburrimiento!\n",
      "I love sports. => Adoro el deporte.\n",
      "Would you like to swap jobs? => Te gustaría que intercambiemos los trabajos?\n"
     ]
    }
   ],
   "source": [
    "for i in range(3):\n",
    "    print(sentences_en[i], \"=>\", sentences_es[i])"
   ]
  },
  {
   "cell_type": "code",
   "execution_count": 6,
   "metadata": {},
   "outputs": [
    {
     "name": "stdout",
     "output_type": "stream",
     "text": [
      "영어문장 :   !\"$%'+,-./0123456789:;?ABCDEFGHIJKLMNOPQRSTUVWXYZabcdefghijklmnopqrstuvwxyz°áãèéêóöüč‘’₂€\n",
      "스페인어문장 :   !\"$%&'()+,-./0123456789:;?ABCDEFGHIJKLMNOPQRSTUVWXYZabcdefghijklmnopqrstuvwxyz ¨ª«°º»ÁÉÍÓÚáåèéêíñóöúüčśс​—₂€\n"
     ]
    }
   ],
   "source": [
    "# 글자모음\n",
    "print('영어문장 : ', ''.join(sorted(''.join(set(''.join(sentences_en))))))\n",
    "print('스페인어문장 : ', ''.join(sorted(''.join(set(''.join(sentences_es))))))\n"
   ]
  },
  {
   "cell_type": "code",
   "execution_count": 7,
   "metadata": {},
   "outputs": [],
   "source": [
    "# puctuation을 제거 후 진행\n",
    "import string\n",
    "def delete_puctuation(text, punc=string.punctuation):\n",
    "    return text.translate(str.maketrans(\"\", \"\", punc))"
   ]
  },
  {
   "cell_type": "code",
   "execution_count": 8,
   "metadata": {},
   "outputs": [],
   "source": [
    "punc_en = string.punctuation+'°áãèéêóöüč‘’₂€'\n",
    "punc_es = string.punctuation+'¨ª«°º»åèêöüč​—₂€'\n",
    "\n",
    "word_list_en = [delete_puctuation(doc,punc_en).strip().split() for doc in sentences_en]\n",
    "word_list_es = [delete_puctuation(doc,punc_es).strip().split() for doc in sentences_es]"
   ]
  },
  {
   "cell_type": "code",
   "execution_count": 9,
   "metadata": {},
   "outputs": [],
   "source": [
    "word_list_es_input = [['<SOS>'] + doc for doc in word_list_es]\n",
    "word_list_es_output = [doc +['<EOS>'] for doc in word_list_es]"
   ]
  },
  {
   "cell_type": "code",
   "execution_count": 10,
   "metadata": {},
   "outputs": [
    {
     "name": "stdout",
     "output_type": "stream",
     "text": [
      "0qpkxz58ZNoAwDV6t92IyTOgjmcdnJuBbLF37XMPr1RhKWfGeasQ4HiCvYSlUE\n",
      "Ú0qÍpzxék5ñNÓ8oíZAwDV6t92IyTÁOgcmjdnBuJbLóF3X7MPr1RhKfWÉGeasQс4iCHvYáSślUúE\n"
     ]
    }
   ],
   "source": [
    "print(''.join(set(''.join(np.concatenate(word_list_en)))))\n",
    "print(''.join(set(''.join(np.concatenate(word_list_es)))))"
   ]
  },
  {
   "cell_type": "code",
   "execution_count": 11,
   "metadata": {},
   "outputs": [],
   "source": [
    "# 모든 단어에 인덱스 부여 (??)\n",
    "en_dict = dict(zip(np.unique(np.concatenate(word_list_en)), range(1, 1+len(np.unique(np.concatenate(word_list_en))))))\n",
    "es_dict = dict(zip(np.unique(np.concatenate(word_list_es+[['<SOS>','<EOS>']])), range(1, 3+len(np.unique(np.concatenate(word_list_es))))))"
   ]
  },
  {
   "cell_type": "code",
   "execution_count": 12,
   "metadata": {},
   "outputs": [
    {
     "name": "stdout",
     "output_type": "stream",
     "text": [
      "[['How', 'boring'], ['I', 'love', 'sports'], ['Would', 'you', 'like', 'to', 'swap', 'jobs'], ['My', 'mother', 'did', 'nothing', 'but', 'weep'], ['Croatia', 'is', 'in', 'the', 'southeastern', 'part', 'of', 'Europe']]\n",
      "[[1478, 4423], [1500, 9485, 13200], [3165, 15243, 9352, 14108, 13686, 9007], [1997, 9989, 6204, 10266, 4663, 14945], [861, 8954, 8650, 13949, 13097, 10672, 10358, 1097]]\n"
     ]
    }
   ],
   "source": [
    "en_mapping = lambda x: [en_dict[word] for word in x]\n",
    "es_mapping = lambda x: [es_dict[word] for word in x]\n",
    "\n",
    "print(word_list_en[:5])\n",
    "print([en_mapping(x) for x in word_list_en[:5]])"
   ]
  },
  {
   "cell_type": "code",
   "execution_count": 13,
   "metadata": {},
   "outputs": [],
   "source": [
    "def pad_sequence(word_list, max_len, lang='en'):\n",
    "    try:\n",
    "        if lang == 'en':\n",
    "            x = np.asarray(en_mapping(word_list))\n",
    "        elif lang == 'es':\n",
    "            x = np.asarray(es_mapping(word_list))\n",
    "    except:\n",
    "        print(word_list)\n",
    "    if len(x) < max_len:\n",
    "        x = np.concatenate([np.zeros(max_len - len(x)), x])\n",
    "    return x[len(x) - max_len:]"
   ]
  },
  {
   "cell_type": "code",
   "execution_count": 14,
   "metadata": {},
   "outputs": [],
   "source": [
    "max_length = 50\n",
    "vec_list_en = np.array(list(map(lambda x:pad_sequence(x,max_length,'en'),word_list_en)))\n",
    "vec_list_es_input = np.array(list(map(lambda x:pad_sequence(x,max_length,'es'),word_list_es_input)))\n",
    "vec_list_es_output = np.array(list(map(lambda x:pad_sequence(x,max_length,'es'),word_list_es_output)))\n"
   ]
  },
  {
   "cell_type": "code",
   "execution_count": 15,
   "metadata": {},
   "outputs": [],
   "source": [
    "# decoder의 입력은 <start>로 시작\n",
    "# decoder의 출력은 <end>로 끝\n",
    "X_train_enc = vec_list_en[:10000]\n",
    "X_test_enc = vec_list_en[10000:]\n",
    "X_train_dec = vec_list_es_input[:10000]\n",
    "X_test_dec = vec_list_es_input[10000:]\n",
    "y_train_dec = vec_list_es_output[:10000]\n",
    "y_test_dec = vec_list_es_output[10000:]"
   ]
  },
  {
   "cell_type": "markdown",
   "metadata": {},
   "source": [
    "# Encoder"
   ]
  },
  {
   "cell_type": "code",
   "execution_count": 16,
   "metadata": {},
   "outputs": [],
   "source": [
    "import torch\n",
    "from torch import nn\n",
    "from torch.nn import functional as F\n",
    "from torch.utils.data import DataLoader, Dataset, TensorDataset\n",
    "from torch.optim import Adam"
   ]
  },
  {
   "cell_type": "code",
   "execution_count": 17,
   "metadata": {},
   "outputs": [],
   "source": [
    "# sine/cosine positional encoding\n",
    "class PositionalEncoding(nn.Module):\n",
    "    def __init__(self, max_len, embed_size, dtype=torch.float32, **kwargs):\n",
    "        super().__init__(**kwargs)\n",
    "        p,i = torch.meshgrid(torch.arange(max_len), 2*torch.arange(embed_size//2))\n",
    "        self.pos_emb = torch.zeros(1, max_len, embed_size)\n",
    "        self.pos_emb[:, :, 0::2] = torch.sin(p / 10_000 ** (i / embed_size))\n",
    "        self.pos_emb[:, :, 1::2] = torch.cos(p / 10_000 ** (i / embed_size))\n",
    "        self.pos_emb = self.pos_emb.type(dtype)\n",
    "\n",
    "    def forward(self, x):\n",
    "        _, batch_max_length = x.size()\n",
    "        return self.pos_emb[:,:batch_max_length, :]\n",
    "        \n",
    "class TokenAndPositionEmbedding(nn.Module):\n",
    "    def __init__(self, maxlen, vocab_size, embed_dim):\n",
    "        super().__init__()\n",
    "        self.token_emb = nn.Embedding(vocab_size, embed_dim)\n",
    "        self.pos_emb = PositionalEncoding(maxlen, embed_dim)\n",
    "        # 논문에서처럼 고정된 positional embedding을 사용하지 않고 학습 가능한 embedding을 사용할 경우\n",
    "        # self.pos_emb = nn.Embedding(maxlen, embed_dim)\n",
    "        \n",
    "    def forward(self, x):\n",
    "        maxlen = x.shape[-1]\n",
    "        positions = torch.arange(start=0, end=maxlen, dtype=torch.long)\n",
    "        # 다음 부분이 없으면 position은 model.to(device) 해도 gpu로 넘어가지 않음\n",
    "        positions = positions.to(x.device)\n",
    "        positions = positions.unsqueeze(0).expand(x.shape)\n",
    "        x = self.token_emb(x) + self.pos_emb(positions).to(x.device)\n",
    "        return x\n"
   ]
  },
  {
   "cell_type": "code",
   "execution_count": 18,
   "metadata": {},
   "outputs": [],
   "source": [
    "class EncoderBlock(nn.Module):\n",
    "    def __init__(self, embed_dim, heads, ff_dim, dropout=0.1):\n",
    "        super().__init__()\n",
    "        self.attention = nn.MultiheadAttention(embed_dim, heads, dropout=dropout)\n",
    "        self.norm1 = nn.LayerNorm(embed_dim)\n",
    "        self.norm2 = nn.LayerNorm(embed_dim)\n",
    "        self.ff = nn.Sequential(\n",
    "            nn.Linear(embed_dim, ff_dim),\n",
    "            nn.ReLU(),\n",
    "            nn.Linear(ff_dim, embed_dim),\n",
    "        )\n",
    "        self.dropout1 = nn.Dropout(dropout)\n",
    "        self.dropout2 = nn.Dropout(dropout)\n",
    "    def forward(self, x, src_mask=None, src_key_padding_mask=None):\n",
    "        # MultiheadAttention의 forward : (query, key, value) -> (output, output_weights)\n",
    "        # src shape: (seq_len, batch_size, d_model)\n",
    "        # src_mask shape: (seq_len, seq_len)\n",
    "        attn_output = self.attention(x, x, x, attn_mask=src_mask, key_padding_mask=src_key_padding_mask)[0]\n",
    "        attn_output = self.dropout1(attn_output)\n",
    "        out1 = self.norm1(x + attn_output)\n",
    "        ff_output = self.ff(out1)\n",
    "        ff_output = self.dropout2(ff_output)\n",
    "        out2 = self.norm2(out1 + ff_output)\n",
    "        return out2"
   ]
  },
  {
   "cell_type": "markdown",
   "metadata": {},
   "source": [
    "# Decoder\n",
    "## masking"
   ]
  },
  {
   "cell_type": "code",
   "execution_count": 19,
   "metadata": {},
   "outputs": [],
   "source": [
    "class DecoderBlock(nn.Module):\n",
    "    def __init__(self, embed_dim, heads, ff_dim, dropout=0.1):\n",
    "        super().__init__()\n",
    "        self.attention1 = nn.MultiheadAttention(embed_dim, heads, dropout=dropout)\n",
    "        self.norm1 = nn.LayerNorm(embed_dim)\n",
    "        self.attention2 = nn.MultiheadAttention(embed_dim, heads, dropout=dropout)\n",
    "        self.norm2 = nn.LayerNorm(embed_dim)\n",
    "        self.norm3 = nn.LayerNorm(embed_dim)\n",
    "        self.ff = nn.Sequential(\n",
    "            nn.Linear(embed_dim, ff_dim),\n",
    "            nn.ReLU(),\n",
    "            nn.Linear(ff_dim, embed_dim),\n",
    "        )\n",
    "        self.dropout1 = nn.Dropout(dropout)\n",
    "        self.dropout2 = nn.Dropout(dropout)\n",
    "        self.dropout3 = nn.Dropout(dropout)\n",
    "    def forward(self, x, memory, tgt_mask=None, memory_mask=None, tgt_key_padding_mask=None, memory_key_padding_mask=None):\n",
    "        # MultiheadAttention의 forward : (query, key, value) -> (output, output_weights)\n",
    "        # tgt shape: (seq_len, batch_size, d_model)\n",
    "        # memory shape: (memory_len, batch_size, d_model), from encoder\n",
    "        # tgt_mask shape: (seq_len, seq_len)\n",
    "        # memory_mask shape: (seq_len, memory_len)\n",
    "        # tgt_key_padding_mask shape: (batch_size, seq_len)\n",
    "        # memory_key_padding_mask shape: (batch_size, memory_len)\n",
    "        attn_output1 = self.attention1(x, x, x, attn_mask=tgt_mask, key_padding_mask=tgt_key_padding_mask)[0]\n",
    "        attn_output1 = self.dropout1(attn_output1)\n",
    "        out1 = self.norm1(x + attn_output1)\n",
    "        attn_output2 = self.attention2(out1, memory, memory,attn_mask=memory_mask, key_padding_mask=memory_key_padding_mask )[0]\n",
    "        attn_output2 = self.dropout2(attn_output2)\n",
    "        out2 = self.norm2(out1 + attn_output2)\n",
    "        ff_output = self.ff(out2)\n",
    "        ff_output = self.dropout3(ff_output)\n",
    "        out3 = self.norm3(out2 + ff_output)\n",
    "        return out3\n",
    "\n"
   ]
  },
  {
   "cell_type": "code",
   "execution_count": 31,
   "metadata": {},
   "outputs": [],
   "source": [
    "class Transformer(nn.Module):\n",
    "    def __init__(self, maxlen, vocab_size_enc, vocab_size_dec, embed_dim, num_heads, ff_dim, encoder_stack=6, decoder_stack=6, dropout=0.1,\n",
    "                encoder_masking=True, decoder_masking=True, memory_masking=True):\n",
    "        super().__init__()\n",
    "        self.encoder_masking = encoder_masking\n",
    "        self.decoder_masking = decoder_masking\n",
    "        self.memory_masking = memory_masking\n",
    "        self.embedding_layer_enc = TokenAndPositionEmbedding(maxlen, vocab_size_enc, embed_dim)\n",
    "        self.embedding_layer_dec = TokenAndPositionEmbedding(maxlen, vocab_size_dec, embed_dim)\n",
    "        self.transformer_encoder = nn.ModuleList([EncoderBlock(embed_dim,num_heads,ff_dim) for _ in range(encoder_stack)])\n",
    "        self.transformer_decoder = nn.ModuleList([DecoderBlock(embed_dim,num_heads,ff_dim) for _ in range(decoder_stack)])\n",
    "        self.fc = nn.Linear(embed_dim, vocab_size_dec)\n",
    "        self.dropout = nn.Dropout(dropout)\n",
    "        \n",
    "\n",
    "    def forward(self, src, tgt):\n",
    "        # src_mask = self.make_src_mask(src)\n",
    "        tgt_mask = self.prediction_masking(tgt)\n",
    "        src_emb = self.embedding_layer_enc(src)\n",
    "        tgt_emb = self.embedding_layer_dec(tgt)\n",
    "        # memory_mask = self.make_src_mask(src)\n",
    "        if self.encoder_masking==False:\n",
    "            src_mask = None\n",
    "        if self.decoder_masking==False:\n",
    "            tgt_mask = None\n",
    "        if self.memory_masking==False:\n",
    "            memory_mask = None\n",
    "        for i in range(len(self.transformer_encoder)):\n",
    "            # print(i)\n",
    "            # print(src_emb.size())\n",
    "            # print(src_mask.size())\n",
    "            src_emb = self.transformer_encoder[i](src_emb, src_mask=src_mask)\n",
    "        for i in range(len(self.transformer_decoder)):\n",
    "            # print(tgt_mask.shape)\n",
    "            tgt_emb = self.transformer_decoder[i](tgt_emb, src_emb, tgt_mask=tgt_mask, memory_mask=memory_mask)\n",
    "        output = self.fc(tgt_emb)\n",
    "        return output\n",
    "    \n",
    "    # def make_src_mask(self, src):\n",
    "    #     src_mask = (src != 0).unsqueeze(-2)\n",
    "    #     return src_mask\n",
    "    # def make_tgt_mask(self, tgt):\n",
    "    #     tgt_pad_mask = (tgt != 0).unsqueeze(-2)\n",
    "    #     tgt_len = tgt.shape[1]\n",
    "    #     tgt_sub_mask = torch.tril(torch.ones((tgt_len, tgt_len), device=tgt.device)).bool()\n",
    "    #     tgt_mask = tgt_pad_mask & tgt_sub_mask\n",
    "    #     return tgt_mask\n",
    "    def prediction_masking(self, tgt):\n",
    "        tgt_len = tgt.shape[0]\n",
    "        tgt_sub_mask = torch.tril(torch.ones((tgt_len, tgt_len), device=tgt.device)).bool()\n",
    "        return tgt_sub_mask"
   ]
  },
  {
   "cell_type": "code",
   "execution_count": 38,
   "metadata": {},
   "outputs": [
    {
     "data": {
      "text/plain": [
       "(torch.Size([16, 50, 29015]), torch.Size([16, 50]), torch.Size([16, 50]))"
      ]
     },
     "execution_count": 38,
     "metadata": {},
     "output_type": "execute_result"
    }
   ],
   "source": [
    "vocab_size_enc = 1+len(np.unique(np.concatenate(word_list_en)))\n",
    "vocab_size_dec = 1+len(np.unique(np.concatenate(word_list_es)))\n",
    "\n",
    "enc_temp = torch.Tensor(X_train_enc[:16]).long()\n",
    "dec_temp = torch.Tensor(X_train_dec[:16]).long()\n",
    "dec_y_temp = torch.Tensor(y_train_dec[:16]).long()\n",
    "# src shape: (seq_len, batch_size, d_model)\n",
    "# src_mask shape: (seq_len, seq_len)\n",
    "transformer = Transformer(maxlen=50, vocab_size_enc=vocab_size_enc, vocab_size_dec=vocab_size_dec, \n",
    "                            embed_dim=128, num_heads=8, ff_dim=512, encoder_stack=6,decoder_stack=6, dropout=0.1,\n",
    "                            encoder_masking=False, decoder_masking=True, memory_masking=False)\n",
    "output = transformer(enc_temp, dec_temp)\n",
    "\n",
    "output.shape, output.argmax(2).shape, dec_y_temp.shape"
   ]
  },
  {
   "cell_type": "code",
   "execution_count": 28,
   "metadata": {},
   "outputs": [],
   "source": [
    "trainDS = TensorDataset(torch.Tensor(X_train_enc).long(), torch.Tensor(X_train_dec).long(), torch.Tensor(y_train_dec).long())\n",
    "testDS = TensorDataset(torch.Tensor(X_test_enc).long(), torch.Tensor(X_test_dec).long(), torch.Tensor(y_test_dec).long())\n",
    "trainDL = DataLoader(trainDS, batch_size=64, shuffle=True)\n",
    "testDL = DataLoader(testDS, batch_size=64, shuffle=False)"
   ]
  },
  {
   "cell_type": "code",
   "execution_count": 29,
   "metadata": {},
   "outputs": [],
   "source": [
    "device = torch.device('cuda:0' if torch.cuda.is_available() else 'cpu')\n",
    "optimizer = torch.optim.Adam(transformer.parameters(), lr=0.001)\n",
    "criterion = nn.CrossEntropyLoss().to(device)"
   ]
  },
  {
   "cell_type": "code",
   "execution_count": null,
   "metadata": {},
   "outputs": [],
   "source": [
    "# train\n",
    "# 시간이 오래걸리는 관계로 생략\n",
    "epochs = 10\n",
    "transformer = transformer.to(device)\n",
    "\n",
    "def acc_cal(y_true, y_pred):\n",
    "    '''\n",
    "    y_true shape : batch_size, maxlen(50)\n",
    "    y_pred shape : batch_size, maxlen(50)\n",
    "    '''\n",
    "    result_TF = np.where(dec_y_temp!=0,output.argmax(2)==dec_y_temp, np.nan).flatten()\n",
    "    result_TF = result_TF[~np.isnan(result_TF)]\n",
    "    return result_TF.sum(), len(result_TF)\n",
    "\n",
    "\n",
    "for epoch in range(epochs):\n",
    "    train_all_correct = 0\n",
    "    train_all_length = 0\n",
    "    train_loss = 0\n",
    "    transformer.train()\n",
    "    for x_enc, x_dec, y_enc in trainDL:\n",
    "        x_enc, x_dec, y_enc = x_enc.to(device), x_dec.to(device), y_enc.to(device)\n",
    "        optimizer.zero_grad()\n",
    "        y_pred = transformer(x_enc,x_dec)\n",
    "        loss = criterion(y_pred.permute(0,2,1), y_enc)\n",
    "        loss.backward()\n",
    "        optimizer.step()\n",
    "        train_loss += loss.item()*x_enc.size(0)\n",
    "        y_pred_argmax = y_pred.argmax(2)\n",
    "        train_correct, train_length = acc_cal(y_enc, y_pred_argmax)\n",
    "        train_all_correct += train_correct\n",
    "        train_all_length += train_length\n",
    "    train_acc = train_all_correct/train_all_length\n",
    "    train_loss /= len(trainDL.dataset)\n",
    "    print(f'Epoch {epoch+1} of {epochs}')\n",
    "    print(f'Train Loss: {train_loss:.4f} | Train Acc: {train_acc*100:.2f}%')\n",
    "\n",
    "    val_all_correct = 0\n",
    "    val_all_length = 0\n",
    "    val_loss = 0\n",
    "    transformer.eval()\n",
    "    with torch.no_grad():\n",
    "        for x_enc, x_dec, y_enc in testDL:\n",
    "            x_enc, x_dec, y_enc = x_enc.to(device), x_dec.to(device), y_enc.to(device)\n",
    "            y_pred = transformer(x_enc,x_dec)\n",
    "            loss = criterion(y_pred.permute(0,2,1), y_enc)\n",
    "            val_loss += loss.item()*x_enc.size(0)\n",
    "            y_pred_argmax = y_pred.argmax(2)\n",
    "            val_correct, val_length = acc_cal(y_enc, y_pred_argmax)\n",
    "            val_all_correct += val_correct\n",
    "            val_all_length += val_length\n",
    "    val_acc = val_all_correct/val_all_length\n",
    "    val_loss /= len(testDL.dataset)\n",
    "    print(f'Val Loss: {val_loss:.4f} | Val Acc: {val_acc*100:.2f}%')\n",
    "    print('---------------------------------')\n"
   ]
  },
  {
   "cell_type": "code",
   "execution_count": null,
   "metadata": {},
   "outputs": [],
   "source": []
  }
 ],
 "metadata": {
  "kernelspec": {
   "display_name": "Python 3.8.13 ('choi': conda)",
   "language": "python",
   "name": "python3"
  },
  "language_info": {
   "codemirror_mode": {
    "name": "ipython",
    "version": 3
   },
   "file_extension": ".py",
   "mimetype": "text/x-python",
   "name": "python",
   "nbconvert_exporter": "python",
   "pygments_lexer": "ipython3",
   "version": "3.8.13"
  },
  "orig_nbformat": 4,
  "vscode": {
   "interpreter": {
    "hash": "1f1ea343d18a0e98dbd50f4a3341f5f39bd7be7d912eea72d8401c1237c2e901"
   }
  }
 },
 "nbformat": 4,
 "nbformat_minor": 2
}
