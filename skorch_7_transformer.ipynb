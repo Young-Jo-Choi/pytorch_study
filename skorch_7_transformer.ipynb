{
 "cells": [
  {
   "cell_type": "code",
   "execution_count": 1,
   "metadata": {},
   "outputs": [],
   "source": [
    "import numpy as np\n",
    "import torch\n",
    "from torch import nn\n",
    "from torch.nn import functional as F\n",
    "from torch.utils.data import Dataset, DataLoader"
   ]
  },
  {
   "cell_type": "code",
   "execution_count": null,
   "metadata": {},
   "outputs": [],
   "source": [
    "# 데이터만 keras에서 가져옴\n",
    "\n",
    "from tensorflow import keras\n",
    "\n",
    "vocab_size = 20000\n",
    "maxlen = 200\n",
    "(x_train, y_train), (x_test, y_test) = keras.datasets.imdb.load_data(num_words=vocab_size)\n",
    "\n",
    "def pad_sequence(x, max_len):\n",
    "    x = np.asarray(x)\n",
    "    if len(x) < max_len:\n",
    "        x = np.concatenate([np.zeros(max_len - len(x)), x])\n",
    "    return x[len(x) - max_len:]\n",
    "\n",
    "x_train = np.array(list(map(lambda x:pad_sequence(x,maxlen),x_train)))\n",
    "x_test = np.array(list(map(lambda x:pad_sequence(x,maxlen),x_test)))"
   ]
  },
  {
   "cell_type": "markdown",
   "metadata": {},
   "source": [
    "# transformer model 정의"
   ]
  },
  {
   "cell_type": "code",
   "execution_count": 24,
   "metadata": {},
   "outputs": [],
   "source": [
    "class TransformerBlock(nn.Module):\n",
    "    def __init__(self, embed_dim, heads, ff_dim, dropout=0.1):\n",
    "        super().__init__()\n",
    "        self.attention = nn.MultiheadAttention(embed_dim, heads, dropout=dropout)\n",
    "        self.norm1 = nn.LayerNorm(embed_dim)\n",
    "        self.norm2 = nn.LayerNorm(embed_dim)\n",
    "        self.ff = nn.Sequential(\n",
    "            nn.Linear(embed_dim, ff_dim),\n",
    "            nn.ReLU(),\n",
    "            nn.Linear(ff_dim, embed_dim),\n",
    "        )\n",
    "        self.dropout1 = nn.Dropout(dropout)\n",
    "        self.dropout2 = nn.Dropout(dropout)\n",
    "    def forward(self, x):\n",
    "        attn_output = self.attention(x, x, x)[0]\n",
    "        attn_output = self.dropout1(attn_output)\n",
    "        out1 = self.norm1(x + attn_output)\n",
    "        ff_output = self.ff(out1)\n",
    "        ff_output = self.dropout2(ff_output)\n",
    "        out2 = self.norm2(out1 + ff_output)\n",
    "        return out2"
   ]
  },
  {
   "cell_type": "code",
   "execution_count": 29,
   "metadata": {},
   "outputs": [],
   "source": [
    "class PositionalEncoding(nn.Module):\n",
    "    def __init__(self, max_len, embed_size, dtype=torch.float32, **kwargs):\n",
    "        super().__init__(**kwargs)\n",
    "        p,i = torch.meshgrid(torch.arange(max_len), 2*torch.arange(embed_size//2))\n",
    "        self.pos_emb = torch.zeros(1, max_len, embed_size)\n",
    "        self.pos_emb[:, :, 0::2] = torch.sin(p / 10_000 ** (i / embed_size))\n",
    "        self.pos_emb[:, :, 1::2] = torch.cos(p / 10_000 ** (i / embed_size))\n",
    "        self.pos_emb = self.pos_emb.type(dtype)\n",
    "\n",
    "    def forward(self, x):\n",
    "        _, batch_max_length = x.size()\n",
    "        return self.pos_emb[:,:batch_max_length, :]\n"
   ]
  },
  {
   "cell_type": "code",
   "execution_count": 35,
   "metadata": {},
   "outputs": [],
   "source": [
    "class TokenAndPositionEmbedding(nn.Module):\n",
    "    def __init__(self, maxlen, vocab_size, embed_dim):\n",
    "        super().__init__()\n",
    "        self.token_emb = nn.Embedding(vocab_size, embed_dim)\n",
    "        self.pos_emb = PositionalEncoding(maxlen, embed_dim)\n",
    "        # 논문에서처럼 고정된 positional embedding을 사용하지 않고 학습 가능한 embedding을 사용할 경우\n",
    "        # self.pos_emb = nn.Embedding(maxlen, embed_dim)\n",
    "        \n",
    "    def forward(self, x):\n",
    "        maxlen = x.shape[-1]\n",
    "        positions = torch.arange(start=0, end=maxlen, dtype=torch.long)\n",
    "        # 다음 부분이 없으면 position은 model.to(device) 해도 gpu로 넘어가지 않음\n",
    "        positions = positions.to(x.device)\n",
    "        positions = positions.unsqueeze(0).expand(x.shape)\n",
    "        x = self.token_emb(x) + self.pos_emb(positions).to(x.device)\n",
    "        return x"
   ]
  },
  {
   "cell_type": "code",
   "execution_count": 36,
   "metadata": {},
   "outputs": [],
   "source": [
    "class Transformer(nn.Module):\n",
    "    def __init__(self,maxlen,embed_dim,num_heads,ff_dim,hidden_dim=20,dropout=0.1):\n",
    "        super().__init__()\n",
    "        self.embedding_layer = TokenAndPositionEmbedding(maxlen,vocab_size,embed_dim)\n",
    "        self.transformer_block = TransformerBlock(embed_dim,num_heads,ff_dim)\n",
    "        self.first_linear = nn.Linear(embed_dim,hidden_dim)\n",
    "        self.last_linear = nn.Linear(hidden_dim,2)\n",
    "        self.dropout = nn.Dropout(dropout)\n",
    "\n",
    "    def forward(self,x):\n",
    "        x = self.embedding_layer(x)\n",
    "        x = self.transformer_block(x)\n",
    "        x = torch.mean(x, dim=1)   # global average pooling\n",
    "        x = self.dropout(x)\n",
    "        x = self.first_linear(x)\n",
    "        x = F.relu(x)\n",
    "        x = self.dropout(x)\n",
    "        x = self.last_linear(x)\n",
    "        return x\n"
   ]
  },
  {
   "cell_type": "code",
   "execution_count": 37,
   "metadata": {},
   "outputs": [
    {
     "data": {
      "text/plain": [
       "torch.Size([4, 2])"
      ]
     },
     "execution_count": 37,
     "metadata": {},
     "output_type": "execute_result"
    }
   ],
   "source": [
    "# for check\n",
    "embed_dim = 32  # Embedding size for each token\n",
    "num_heads = 2  # Number of attention heads\n",
    "ff_dim = 32  # Hidden layer size in feed forward network inside transformer\n",
    "max_len = 200\n",
    "transformer = Transformer(max_len, embed_dim,num_heads,ff_dim)\n",
    "a = transformer(torch.Tensor(x_train[:4]).long())\n",
    "a.shape"
   ]
  },
  {
   "cell_type": "code",
   "execution_count": 38,
   "metadata": {},
   "outputs": [],
   "source": [
    "device = torch.device('cuda:0' if torch.cuda.is_available() else 'cpu')\n",
    "optimizer = torch.optim.Adam(transformer.parameters(), lr=0.001)\n",
    "criterion = nn.CrossEntropyLoss().to(device)\n",
    "trainDS = torch.utils.data.TensorDataset(torch.Tensor(x_train).long(), torch.Tensor(y_train).long())\n",
    "testDS = torch.utils.data.TensorDataset(torch.Tensor(x_test).long(), torch.Tensor(y_test).long())\n",
    "trainDL = torch.utils.data.DataLoader(trainDS, batch_size=64, shuffle=True)\n",
    "testDL = torch.utils.data.DataLoader(testDS, batch_size=64, shuffle=False)"
   ]
  },
  {
   "cell_type": "code",
   "execution_count": 39,
   "metadata": {},
   "outputs": [
    {
     "name": "stdout",
     "output_type": "stream",
     "text": [
      "Epoch 1 of 10\n",
      "Train Loss: 0.6717 | Train Acc: 57.50%\n",
      "Val Loss: 0.5841 | Val Acc: 68.85%\n",
      "---------------------------------\n",
      "Epoch 2 of 10\n",
      "Train Loss: 0.4771 | Train Acc: 77.59%\n",
      "Val Loss: 0.4385 | Val Acc: 79.83%\n",
      "---------------------------------\n"
     ]
    }
   ],
   "source": [
    "epochs = 10\n",
    "transformer = transformer.to(device)\n",
    "\n",
    "for epoch in range(epochs):\n",
    "    train_correct = 0\n",
    "    train_loss = 0\n",
    "    transformer.train()\n",
    "    for inputs, targets in trainDL:\n",
    "        inputs, targets = inputs.to(device), targets.to(device)\n",
    "        optimizer.zero_grad()\n",
    "        pred = transformer(inputs)\n",
    "        loss = criterion(pred, targets)\n",
    "        loss.backward()\n",
    "        optimizer.step()\n",
    "        train_loss += loss.item()*inputs.size(0)\n",
    "        train_correct += (pred.argmax(1) == targets).sum().item()\n",
    "    train_loss /= len(trainDL.dataset)\n",
    "    train_acc = train_correct / len(trainDL.dataset)\n",
    "\n",
    "    val_correct = 0 \n",
    "    val_loss = 0\n",
    "    transformer.eval()\n",
    "    with torch.no_grad():\n",
    "        for inputs, targets in testDL:\n",
    "            inputs, targets = inputs.to(device), targets.to(device)\n",
    "            pred = transformer(inputs)\n",
    "            loss = criterion(pred, targets)\n",
    "            val_loss += loss.item()*inputs.size(0)\n",
    "            val_correct += (pred.argmax(1) == targets).sum().item()\n",
    "    val_loss /= len(testDL.dataset)\n",
    "    val_acc = val_correct / len(testDL.dataset)\n",
    "    print(f'Epoch {epoch+1} of {epochs}')\n",
    "    print(f'Train Loss: {train_loss:.4f} | Train Acc: {train_acc*100:.2f}%')\n",
    "    print(f'Val Loss: {val_loss:.4f} | Val Acc: {val_acc*100:.2f}%')\n",
    "    print('---------------------------------')\n"
   ]
  },
  {
   "cell_type": "markdown",
   "metadata": {},
   "source": [
    "# skorch"
   ]
  },
  {
   "cell_type": "code",
   "execution_count": 164,
   "metadata": {},
   "outputs": [],
   "source": [
    "from skorch import NeuralNetClassifier\n",
    "from skorch.dataset import ValidSplit\n",
    "device = torch.device('cuda:0' if torch.cuda.is_available() else 'cpu')\n",
    "\n",
    "net = NeuralNetClassifier(\n",
    "                Transformer,\n",
    "                module__maxlen=max_len,\n",
    "                module__embed_dim=embed_dim,\n",
    "                module__num_heads=num_heads,\n",
    "                module__ff_dim=ff_dim,\n",
    "                max_epochs=10,\n",
    "                lr=0.001,\n",
    "                batch_size=32,\n",
    "                criterion=nn.CrossEntropyLoss,\n",
    "                optimizer=torch.optim.Adam,\n",
    "                train_split=ValidSplit(10),\n",
    "                device=device)"
   ]
  },
  {
   "cell_type": "code",
   "execution_count": 165,
   "metadata": {},
   "outputs": [
    {
     "name": "stdout",
     "output_type": "stream",
     "text": [
      "  epoch    train_loss    valid_acc    valid_loss     dur\n",
      "-------  ------------  -----------  ------------  ------\n",
      "      1        \u001b[36m0.6350\u001b[0m       \u001b[32m0.7248\u001b[0m        \u001b[35m0.5414\u001b[0m  7.6202\n",
      "      2        \u001b[36m0.4462\u001b[0m       \u001b[32m0.7808\u001b[0m        \u001b[35m0.4642\u001b[0m  7.4182\n",
      "      3        \u001b[36m0.3560\u001b[0m       \u001b[32m0.8004\u001b[0m        \u001b[35m0.4427\u001b[0m  7.4269\n",
      "      4        \u001b[36m0.3042\u001b[0m       \u001b[32m0.8052\u001b[0m        \u001b[35m0.4340\u001b[0m  7.6639\n",
      "      5        \u001b[36m0.2628\u001b[0m       \u001b[32m0.8164\u001b[0m        0.4447  7.8591\n",
      "      6        \u001b[36m0.2415\u001b[0m       \u001b[32m0.8204\u001b[0m        0.4381  7.9238\n",
      "      7        \u001b[36m0.2196\u001b[0m       \u001b[32m0.8248\u001b[0m        0.4625  7.6630\n",
      "      8        \u001b[36m0.2070\u001b[0m       0.8200        0.4918  7.8470\n",
      "      9        \u001b[36m0.1850\u001b[0m       0.8140        0.5291  7.6456\n",
      "     10        \u001b[36m0.1648\u001b[0m       0.8116        0.5599  7.8527\n",
      "completed\n"
     ]
    }
   ],
   "source": [
    "net.fit(torch.Tensor(x_train).type(torch.long), \n",
    "        torch.Tensor(y_train).type(torch.long))\n",
    "print('completed')"
   ]
  },
  {
   "cell_type": "code",
   "execution_count": null,
   "metadata": {},
   "outputs": [],
   "source": []
  }
 ],
 "metadata": {
  "kernelspec": {
   "display_name": "Python 3.8.13 ('choi': conda)",
   "language": "python",
   "name": "python3"
  },
  "language_info": {
   "codemirror_mode": {
    "name": "ipython",
    "version": 3
   },
   "file_extension": ".py",
   "mimetype": "text/x-python",
   "name": "python",
   "nbconvert_exporter": "python",
   "pygments_lexer": "ipython3",
   "version": "3.8.13"
  },
  "orig_nbformat": 4,
  "vscode": {
   "interpreter": {
    "hash": "1f1ea343d18a0e98dbd50f4a3341f5f39bd7be7d912eea72d8401c1237c2e901"
   }
  }
 },
 "nbformat": 4,
 "nbformat_minor": 2
}
